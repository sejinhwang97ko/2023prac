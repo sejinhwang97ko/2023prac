{
 "cells": [
  {
   "cell_type": "markdown",
   "metadata": {},
   "source": [
    "# Class 생성\n",
    "1. class 이름은 user\n",
    "2. 생성자 함수(__init__)에서 유저의 이름, 휴대폰 번호, 생년월일 매개변수를 이용하여 self변수 만들어서 저장\n",
    "3. info() 함수를 생성하여 유저의 정보를 출력하는 함수 생성"
   ]
  },
  {
   "cell_type": "code",
   "execution_count": 6,
   "metadata": {},
   "outputs": [],
   "source": [
    "class User():\n",
    "    def __init__(self, _name, _number, _birth):\n",
    "        self.name = _name\n",
    "        self.number = _number\n",
    "        self.birth = _birth\n",
    "    def info(self):\n",
    "        return (self.name, self.number, self.birth)\n"
   ]
  },
  {
   "cell_type": "code",
   "execution_count": 7,
   "metadata": {},
   "outputs": [],
   "source": [
    "a = User('sejin', '010123456789', '970617')"
   ]
  },
  {
   "cell_type": "code",
   "execution_count": 8,
   "metadata": {},
   "outputs": [
    {
     "data": {
      "text/plain": [
       "('sejin', '010123456789', '970617')"
      ]
     },
     "execution_count": 8,
     "metadata": {},
     "output_type": "execute_result"
    }
   ],
   "source": [
    "a.info()"
   ]
  },
  {
   "cell_type": "markdown",
   "metadata": {},
   "source": [
    "# 지갑 클래스 선언\n",
    "1. 클래스의 이름은 Wallet\n",
    "2. 생성자 함수에는 소유자의 이름, 지갑의 브랜드, 지갑의 가치, 잔액\n",
    "3. 잔액은 기본값은 0\n",
    "4. work() 함수를 생성: 매개변수에 일의 종류, 일의 종류가 'TM'이면 지갑의 잔액은 500증가,\n",
    "alba이면 지갑의 잔액을 300증가, serving 이면 잔액을 400증가\n",
    "5. wallet_info() 함수를 생성: 지갑의 정보(소유자의 이름, 지갑의 브랜드, 지갑의 가치, 잔액)을 출력"
   ]
  },
  {
   "cell_type": "code",
   "execution_count": 64,
   "metadata": {},
   "outputs": [],
   "source": [
    "class Wallet:\n",
    "\n",
    "    # 클래스 변수 생성\n",
    "    work_type = {\n",
    "        'TM': 500,\n",
    "        'alba': 300,\n",
    "        'serving': 400\n",
    "    }\n",
    "\n",
    "    item_type = {\n",
    "        'cash' : 200,\n",
    "        'food': 300,\n",
    "        'clothes': 500\n",
    "    }\n",
    "\n",
    "\n",
    "    def __init__(self, _name, _brand, _value, _balance = 0):\n",
    "        self.name = _name\n",
    "        self.brand = _brand\n",
    "        self.value = _value\n",
    "        self.balance = _balance\n",
    "    # 잔액 안 넣고 싶을 때\n",
    "    # def __init__(self, _name, _brand, _value):\n",
    "    # self.name = _name\n",
    "    # self.brand = _brand\n",
    "    # self.value = _value\n",
    "    # self.balance = 0\n",
    "    \n",
    "    def work(self, _type):\n",
    "        # if _type == 'TM':\n",
    "        #     self.balance += 500\n",
    "        # elif _type == 'alba':\n",
    "        #     self.balance += 300\n",
    "        # elif _type == 'serving':\n",
    "        #     self.balance += 400\n",
    "        # else:\n",
    "        #     return \"일의 타입이 맞지 않습니다.\"\n",
    "        # return f\"{_type}의 일을 완료하였습니다. 현재의 잔액은 {self.balance} 입니다.\" # 변수 찾아서 집어 넣겠다.\n",
    "        if _type in self.work_type.keys():\n",
    "            self.balance += self.work_type[_type]\n",
    "        else:\n",
    "            return \"일의 타입이 맞지 않습니다.\"\n",
    "        return f\"{_type}의 일을 완료하였습니다. 현재의 잔액은 {self.balance} 입니다.\" # 변수 찾아서 집어 넣겠다.\n",
    "\n",
    "    def buy(self, _item):\n",
    "        # if _item == 'cash':\n",
    "        #     self.cost = 200\n",
    "        # elif _item == 'food':\n",
    "        #     self.cost = 300\n",
    "        # elif _item == 'clothes':\n",
    "        #     self.cost = 500\n",
    "        # else:\n",
    "        #     return 'item의 타입이 맞지 않습니다.'\n",
    "\n",
    "        if self.balance >= self.cost:\n",
    "            self.balance -= self.cost\n",
    "        else:\n",
    "            return '잔액이 부족합니다.' \n",
    "        \n",
    "        return f\"{_item}을(를) 구매하였습니다. 현재의 잔액은 {self.balance} 입니다.\"\n",
    "    \n",
    "    def wallet_info(self):\n",
    "        return (self.name, self.brand, self.value, self.balance )\n"
   ]
  },
  {
   "cell_type": "code",
   "execution_count": 65,
   "metadata": {},
   "outputs": [],
   "source": [
    "test = Wallet('sejin', 'LOUIS', 200000)"
   ]
  },
  {
   "cell_type": "code",
   "execution_count": 66,
   "metadata": {},
   "outputs": [
    {
     "data": {
      "text/plain": [
       "'TM의 일을 완료하였습니다. 현재의 잔액은 500 입니다.'"
      ]
     },
     "execution_count": 66,
     "metadata": {},
     "output_type": "execute_result"
    }
   ],
   "source": [
    "test.work('TM')"
   ]
  },
  {
   "cell_type": "code",
   "execution_count": 67,
   "metadata": {},
   "outputs": [
    {
     "data": {
      "text/plain": [
       "'alba의 일을 완료하였습니다. 현재의 잔액은 800 입니다.'"
      ]
     },
     "execution_count": 67,
     "metadata": {},
     "output_type": "execute_result"
    }
   ],
   "source": [
    "test.work('alba')"
   ]
  },
  {
   "cell_type": "code",
   "execution_count": 51,
   "metadata": {},
   "outputs": [
    {
     "data": {
      "text/plain": [
       "'일의 타입이 맞지 않습니다.'"
      ]
     },
     "execution_count": 51,
     "metadata": {},
     "output_type": "execute_result"
    }
   ],
   "source": [
    "test.work('teach')"
   ]
  },
  {
   "cell_type": "code",
   "execution_count": 52,
   "metadata": {},
   "outputs": [
    {
     "data": {
      "text/plain": [
       "('sejin', 'LOUIS', 200000, 800)"
      ]
     },
     "execution_count": 52,
     "metadata": {},
     "output_type": "execute_result"
    }
   ],
   "source": [
    "test.wallet_info()"
   ]
  },
  {
   "cell_type": "code",
   "execution_count": 53,
   "metadata": {},
   "outputs": [
    {
     "data": {
      "text/plain": [
       "'cash을(를) 구매하였습니다. 현재의 잔액은 600 입니다.'"
      ]
     },
     "execution_count": 53,
     "metadata": {},
     "output_type": "execute_result"
    }
   ],
   "source": [
    "test.buy('cash')"
   ]
  },
  {
   "cell_type": "code",
   "execution_count": 54,
   "metadata": {},
   "outputs": [
    {
     "data": {
      "text/plain": [
       "'food을(를) 구매하였습니다. 현재의 잔액은 300 입니다.'"
      ]
     },
     "execution_count": 54,
     "metadata": {},
     "output_type": "execute_result"
    }
   ],
   "source": [
    "test.buy('food')"
   ]
  },
  {
   "cell_type": "code",
   "execution_count": 55,
   "metadata": {},
   "outputs": [
    {
     "data": {
      "text/plain": [
       "'잔액이 부족합니다.'"
      ]
     },
     "execution_count": 55,
     "metadata": {},
     "output_type": "execute_result"
    }
   ],
   "source": [
    "test.buy('clothes')"
   ]
  },
  {
   "cell_type": "code",
   "execution_count": 56,
   "metadata": {},
   "outputs": [
    {
     "data": {
      "text/plain": [
       "'item의 타입이 맞지 않습니다.'"
      ]
     },
     "execution_count": 56,
     "metadata": {},
     "output_type": "execute_result"
    }
   ],
   "source": [
    "test.buy('computer')"
   ]
  },
  {
   "cell_type": "code",
   "execution_count": 57,
   "metadata": {},
   "outputs": [
    {
     "data": {
      "text/plain": [
       "('sejin', 'LOUIS', 200000, 300)"
      ]
     },
     "execution_count": 57,
     "metadata": {},
     "output_type": "execute_result"
    }
   ],
   "source": [
    "test.wallet_info()"
   ]
  },
  {
   "cell_type": "code",
   "execution_count": 58,
   "metadata": {},
   "outputs": [],
   "source": [
    "test2 = Wallet('yujin', 'gucci', 100000)"
   ]
  },
  {
   "cell_type": "code",
   "execution_count": 59,
   "metadata": {},
   "outputs": [
    {
     "data": {
      "text/plain": [
       "('yujin', 'gucci', 100000, 0)"
      ]
     },
     "execution_count": 59,
     "metadata": {},
     "output_type": "execute_result"
    }
   ],
   "source": [
    "test2.wallet_info()"
   ]
  },
  {
   "cell_type": "code",
   "execution_count": 60,
   "metadata": {},
   "outputs": [
    {
     "data": {
      "text/plain": [
       "'serving의 일을 완료하였습니다. 현재의 잔액은 400 입니다.'"
      ]
     },
     "execution_count": 60,
     "metadata": {},
     "output_type": "execute_result"
    }
   ],
   "source": [
    "test2.work('serving')"
   ]
  },
  {
   "cell_type": "code",
   "execution_count": 61,
   "metadata": {},
   "outputs": [
    {
     "data": {
      "text/plain": [
       "('yujin', 'gucci', 100000, 400)"
      ]
     },
     "execution_count": 61,
     "metadata": {},
     "output_type": "execute_result"
    }
   ],
   "source": [
    "test2.wallet_info()"
   ]
  },
  {
   "cell_type": "code",
   "execution_count": 62,
   "metadata": {},
   "outputs": [
    {
     "data": {
      "text/plain": [
       "'TM의 일을 완료하였습니다. 현재의 잔액은 900 입니다.'"
      ]
     },
     "execution_count": 62,
     "metadata": {},
     "output_type": "execute_result"
    }
   ],
   "source": [
    "test2.work('TM')"
   ]
  },
  {
   "cell_type": "code",
   "execution_count": 63,
   "metadata": {},
   "outputs": [
    {
     "data": {
      "text/plain": [
       "('yujin', 'gucci', 100000, 900)"
      ]
     },
     "execution_count": 63,
     "metadata": {},
     "output_type": "execute_result"
    }
   ],
   "source": [
    "test2.wallet_info()"
   ]
  }
 ],
 "metadata": {
  "kernelspec": {
   "display_name": "Python 3.7.1 64-bit",
   "language": "python",
   "name": "python3"
  },
  "language_info": {
   "codemirror_mode": {
    "name": "ipython",
    "version": 3
   },
   "file_extension": ".py",
   "mimetype": "text/x-python",
   "name": "python",
   "nbconvert_exporter": "python",
   "pygments_lexer": "ipython3",
   "version": "3.7.1"
  },
  "orig_nbformat": 4,
  "vscode": {
   "interpreter": {
    "hash": "31f8360559af503f7d1219287c80e0cc362e8a430fe9b8335f384415946613ec"
   }
  }
 },
 "nbformat": 4,
 "nbformat_minor": 2
}
