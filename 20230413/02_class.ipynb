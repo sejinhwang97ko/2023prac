{
 "cells": [
  {
   "cell_type": "markdown",
   "metadata": {},
   "source": [
    "# Class 생성\n",
    "1. class 이름은 user\n",
    "2. 생성자 함수(__init__)에서 유저의 이름, 휴대폰 번호, 생년월일 매개변수를 이용하여 self변수 만들어서 저장\n",
    "3. info() 함수를 생성하여 유저의 정보를 출력하는 함수 생성"
   ]
  },
  {
   "cell_type": "code",
   "execution_count": 6,
   "metadata": {},
   "outputs": [],
   "source": [
    "class User():\n",
    "    def __init__(self, _name, _number, _birth):\n",
    "        self.name = _name\n",
    "        self.number = _number\n",
    "        self.birth = _birth\n",
    "    def info(self):\n",
    "        return (self.name, self.number, self.birth)\n"
   ]
  },
  {
   "cell_type": "code",
   "execution_count": 7,
   "metadata": {},
   "outputs": [],
   "source": [
    "a = User('sejin', '010123456789', '970617')"
   ]
  },
  {
   "cell_type": "code",
   "execution_count": 8,
   "metadata": {},
   "outputs": [
    {
     "data": {
      "text/plain": [
       "('sejin', '010123456789', '970617')"
      ]
     },
     "execution_count": 8,
     "metadata": {},
     "output_type": "execute_result"
    }
   ],
   "source": [
    "a.info()"
   ]
  },
  {
   "cell_type": "markdown",
   "metadata": {},
   "source": [
    "# 지갑 클래스 선언\n",
    "1. 클래스의 이름은 Wallet\n",
    "2. 생성자 함수에는 소유자의 이름, 지갑의 브랜드, 지갑의 가치, 잔액\n",
    "3. 잔액은 기본값은 0\n",
    "4. work() 함수를 생성: 매개변수에 일의 종류, 일의 종류가 'TM'이면 지갑의 잔액은 500증가,\n",
    "alba이면 지갑의 잔액을 300증가, serving 이면 잔액을 400증가\n",
    "5. wallet_info() 함수를 생성: 지갑의 정보(소유자의 이름, 지갑의 브랜드, 지갑의 가치, 잔액)을 출력"
   ]
  },
  {
   "cell_type": "code",
   "execution_count": 78,
   "metadata": {},
   "outputs": [],
   "source": [
    "class Wallet:\n",
    "\n",
    "    # 클래스 변수 생성\n",
    "    work_type = {\n",
    "        'TM': 500,\n",
    "        'alba': 300,\n",
    "        'serving': 400\n",
    "    }\n",
    "\n",
    "    item_type = {\n",
    "        'cash' : 200,\n",
    "        'food': 300,\n",
    "        'clothes': 500\n",
    "    }\n",
    "\n",
    "\n",
    "    def __init__(self, _name, _brand, _value, _balance = 0):\n",
    "        self.name = _name\n",
    "        self.brand = _brand\n",
    "        self.value = _value\n",
    "        self.balance = _balance\n",
    "    # 잔액 안 넣고 싶을 때\n",
    "    # def __init__(self, _name, _brand, _value):\n",
    "    # self.name = _name\n",
    "    # self.brand = _brand\n",
    "    # self.value = _value\n",
    "    # self.balance = 0\n",
    "    \n",
    "    def work(self, _type):\n",
    "        # if _type == 'TM':\n",
    "        #     self.balance += 500\n",
    "        # elif _type == 'alba':\n",
    "        #     self.balance += 300\n",
    "        # elif _type == 'serving':\n",
    "        #     self.balance += 400\n",
    "        # else:\n",
    "        #     return \"일의 타입이 맞지 않습니다.\"\n",
    "        # return f\"{_type}의 일을 완료하였습니다. 현재의 잔액은 {self.balance} 입니다.\" # 변수 찾아서 집어 넣겠다.\n",
    "        if _type in self.work_type.keys():\n",
    "            self.balance += self.work_type[_type]\n",
    "        else:\n",
    "            return \"일의 타입이 맞지 않습니다.\"\n",
    "        return f\"{_type}의 일을 완료하였습니다. 현재의 잔액은 {self.balance} 입니다.\" # 변수 찾아서 집어 넣겠다.\n",
    "\n",
    "    def buy(self, _item):\n",
    "        # if _item == 'cash':\n",
    "        #     self.cost = 200\n",
    "        # elif _item == 'food':\n",
    "        #     self.cost = 300\n",
    "        # elif _item == 'clothes':\n",
    "        #     self.cost = 500\n",
    "        # else:\n",
    "        #     return 'item의 타입이 맞지 않습니다.'\n",
    "        if _item in self.item_type.keys():\n",
    "            if self.balance >= self.item_type[_item]:\n",
    "                self.balance -= self.item_type[_item]\n",
    "            else:\n",
    "                return '잔액이 부족합니다.' \n",
    "        else:\n",
    "            return \"item의 타입이 맞지 않습니다.\"\n",
    "        return f\"{_item}을(를) 구매하였습니다. 현재의 잔액은 {self.balance} 입니다.\"\n",
    "\n",
    "        # 일과 구매의 목록을 추가하는 함수 생성\n",
    "    def add_type(self, _choose, _key, _value):\n",
    "        # _choose: 일이냐 아니면 구매\n",
    "        # _key: dict의 키 값\n",
    "        # _value: dict의 value 값\n",
    "        if _choose == \"work\":\n",
    "            if _key not in self.work_type.keys():\n",
    "                self.work_type[_key] = _value\n",
    "            else:\n",
    "                return \"일 목록이 존재합니다. \"\n",
    "        elif _choose == \"buy\":\n",
    "            if _key not in self.item_type.keys():\n",
    "                self.item_type[_key] = _value\n",
    "            else:\n",
    "                return \"구매 목록이 존재합니다. \"\n",
    "        else:\n",
    "            return \"choose의 값이 잘못 되었습니다.\"\n",
    "        return f\"{_choose}의 목록이 추가되었습니다.\"\n",
    "    \n",
    "    def wallet_info(self):\n",
    "        return (self.name, self.brand, self.value, self.balance )\n"
   ]
  },
  {
   "cell_type": "code",
   "execution_count": 79,
   "metadata": {},
   "outputs": [],
   "source": [
    "test = Wallet('sejin', 'LOUIS', 200000)"
   ]
  },
  {
   "cell_type": "code",
   "execution_count": 80,
   "metadata": {},
   "outputs": [
    {
     "data": {
      "text/plain": [
       "'TM의 일을 완료하였습니다. 현재의 잔액은 500 입니다.'"
      ]
     },
     "execution_count": 80,
     "metadata": {},
     "output_type": "execute_result"
    }
   ],
   "source": [
    "test.work('TM')"
   ]
  },
  {
   "cell_type": "code",
   "execution_count": 81,
   "metadata": {},
   "outputs": [
    {
     "data": {
      "text/plain": [
       "'alba의 일을 완료하였습니다. 현재의 잔액은 800 입니다.'"
      ]
     },
     "execution_count": 81,
     "metadata": {},
     "output_type": "execute_result"
    }
   ],
   "source": [
    "test.work('alba')"
   ]
  },
  {
   "cell_type": "code",
   "execution_count": 82,
   "metadata": {},
   "outputs": [
    {
     "data": {
      "text/plain": [
       "'일의 타입이 맞지 않습니다.'"
      ]
     },
     "execution_count": 82,
     "metadata": {},
     "output_type": "execute_result"
    }
   ],
   "source": [
    "test.work('teach')"
   ]
  },
  {
   "cell_type": "code",
   "execution_count": 83,
   "metadata": {},
   "outputs": [
    {
     "data": {
      "text/plain": [
       "'work의 목록이 추가되었습니다.'"
      ]
     },
     "execution_count": 83,
     "metadata": {},
     "output_type": "execute_result"
    }
   ],
   "source": [
    "test.add_type('work', 'teach', 200)"
   ]
  },
  {
   "cell_type": "code",
   "execution_count": 84,
   "metadata": {},
   "outputs": [
    {
     "data": {
      "text/plain": [
       "'teach의 일을 완료하였습니다. 현재의 잔액은 1000 입니다.'"
      ]
     },
     "execution_count": 84,
     "metadata": {},
     "output_type": "execute_result"
    }
   ],
   "source": [
    "test.work('teach')"
   ]
  },
  {
   "cell_type": "code",
   "execution_count": 85,
   "metadata": {},
   "outputs": [
    {
     "data": {
      "text/plain": [
       "('sejin', 'LOUIS', 200000, 1000)"
      ]
     },
     "execution_count": 85,
     "metadata": {},
     "output_type": "execute_result"
    }
   ],
   "source": [
    "test.wallet_info()"
   ]
  },
  {
   "cell_type": "code",
   "execution_count": 86,
   "metadata": {},
   "outputs": [
    {
     "data": {
      "text/plain": [
       "'cash을(를) 구매하였습니다. 현재의 잔액은 800 입니다.'"
      ]
     },
     "execution_count": 86,
     "metadata": {},
     "output_type": "execute_result"
    }
   ],
   "source": [
    "test.buy('cash')"
   ]
  },
  {
   "cell_type": "code",
   "execution_count": 87,
   "metadata": {},
   "outputs": [
    {
     "data": {
      "text/plain": [
       "'food을(를) 구매하였습니다. 현재의 잔액은 500 입니다.'"
      ]
     },
     "execution_count": 87,
     "metadata": {},
     "output_type": "execute_result"
    }
   ],
   "source": [
    "test.buy('food')"
   ]
  },
  {
   "cell_type": "code",
   "execution_count": 88,
   "metadata": {},
   "outputs": [
    {
     "data": {
      "text/plain": [
       "'clothes을(를) 구매하였습니다. 현재의 잔액은 0 입니다.'"
      ]
     },
     "execution_count": 88,
     "metadata": {},
     "output_type": "execute_result"
    }
   ],
   "source": [
    "test.buy('clothes')"
   ]
  },
  {
   "cell_type": "code",
   "execution_count": 89,
   "metadata": {},
   "outputs": [
    {
     "data": {
      "text/plain": [
       "'item의 타입이 맞지 않습니다.'"
      ]
     },
     "execution_count": 89,
     "metadata": {},
     "output_type": "execute_result"
    }
   ],
   "source": [
    "test.buy('computer')"
   ]
  },
  {
   "cell_type": "code",
   "execution_count": 90,
   "metadata": {},
   "outputs": [
    {
     "data": {
      "text/plain": [
       "'buy의 목록이 추가되었습니다.'"
      ]
     },
     "execution_count": 90,
     "metadata": {},
     "output_type": "execute_result"
    }
   ],
   "source": [
    "test.add_type('buy', 'coffee', 100)"
   ]
  },
  {
   "cell_type": "code",
   "execution_count": 91,
   "metadata": {},
   "outputs": [
    {
     "data": {
      "text/plain": [
       "'잔액이 부족합니다.'"
      ]
     },
     "execution_count": 91,
     "metadata": {},
     "output_type": "execute_result"
    }
   ],
   "source": [
    "test.buy('coffee')"
   ]
  },
  {
   "cell_type": "code",
   "execution_count": 57,
   "metadata": {},
   "outputs": [
    {
     "data": {
      "text/plain": [
       "('sejin', 'LOUIS', 200000, 300)"
      ]
     },
     "execution_count": 57,
     "metadata": {},
     "output_type": "execute_result"
    }
   ],
   "source": [
    "test.wallet_info()"
   ]
  },
  {
   "cell_type": "code",
   "execution_count": 92,
   "metadata": {},
   "outputs": [],
   "source": [
    "test2 = Wallet('yujin', 'gucci', 100000)"
   ]
  },
  {
   "cell_type": "code",
   "execution_count": 93,
   "metadata": {},
   "outputs": [
    {
     "data": {
      "text/plain": [
       "'serving의 일을 완료하였습니다. 현재의 잔액은 400 입니다.'"
      ]
     },
     "execution_count": 93,
     "metadata": {},
     "output_type": "execute_result"
    }
   ],
   "source": [
    "test2.work('serving')"
   ]
  },
  {
   "cell_type": "code",
   "execution_count": 94,
   "metadata": {},
   "outputs": [
    {
     "data": {
      "text/plain": [
       "'TM의 일을 완료하였습니다. 현재의 잔액은 900 입니다.'"
      ]
     },
     "execution_count": 94,
     "metadata": {},
     "output_type": "execute_result"
    }
   ],
   "source": [
    "test2.work('TM')"
   ]
  },
  {
   "cell_type": "code",
   "execution_count": 95,
   "metadata": {},
   "outputs": [
    {
     "data": {
      "text/plain": [
       "'teach의 일을 완료하였습니다. 현재의 잔액은 1100 입니다.'"
      ]
     },
     "execution_count": 95,
     "metadata": {},
     "output_type": "execute_result"
    }
   ],
   "source": [
    "test2.work('teach')"
   ]
  },
  {
   "cell_type": "code",
   "execution_count": 107,
   "metadata": {},
   "outputs": [],
   "source": [
    "# 상속\n",
    "\n",
    "class Wallet(User):\n",
    "\n",
    "    # 클래스 변수 생성\n",
    "    work_type = {\n",
    "        'TM': 500,\n",
    "        'alba': 300,\n",
    "        'serving': 400\n",
    "    }\n",
    "\n",
    "    item_type = {\n",
    "        'cash' : 200,\n",
    "        'food': 300,\n",
    "        'clothes': 500\n",
    "    }\n",
    "\n",
    "\n",
    "    def __init__(self, _name, _number, _birth, _brand, _value, _balance = 0):\n",
    "        # 부모(User) 클래스의 __init__ 함수 실행\n",
    "        super().__init__(_name, _number, _birth)\n",
    "        self.brand = _brand\n",
    "        self.value = _value\n",
    "        self.balance = _balance\n",
    "    # 잔액 안 넣고 싶을 때\n",
    "    # def __init__(self, _name, _brand, _value):\n",
    "    # self.name = _name\n",
    "    # self.brand = _brand\n",
    "    # self.value = _value\n",
    "    # self.balance = 0\n",
    "    \n",
    "    def work(self, _type):\n",
    "        # if _type == 'TM':\n",
    "        #     self.balance += 500\n",
    "        # elif _type == 'alba':\n",
    "        #     self.balance += 300\n",
    "        # elif _type == 'serving':\n",
    "        #     self.balance += 400\n",
    "        # else:\n",
    "        #     return \"일의 타입이 맞지 않습니다.\"\n",
    "        # return f\"{_type}의 일을 완료하였습니다. 현재의 잔액은 {self.balance} 입니다.\" # 변수 찾아서 집어 넣겠다.\n",
    "        if _type in self.work_type.keys():\n",
    "            self.balance += self.work_type[_type]\n",
    "        else:\n",
    "            return \"일의 타입이 맞지 않습니다.\"\n",
    "        return f\"{_type}의 일을 완료하였습니다. 현재의 잔액은 {self.balance} 입니다.\" # 변수 찾아서 집어 넣겠다.\n",
    "\n",
    "    def buy(self, _item):\n",
    "        # if _item == 'cash':\n",
    "        #     self.cost = 200\n",
    "        # elif _item == 'food':\n",
    "        #     self.cost = 300\n",
    "        # elif _item == 'clothes':\n",
    "        #     self.cost = 500\n",
    "        # else:\n",
    "        #     return 'item의 타입이 맞지 않습니다.'\n",
    "        if _item in self.item_type.keys():\n",
    "            if self.balance >= self.item_type[_item]:\n",
    "                self.balance -= self.item_type[_item]\n",
    "            else:\n",
    "                return '잔액이 부족합니다.' \n",
    "        else:\n",
    "            return \"item의 타입이 맞지 않습니다.\"\n",
    "        return f\"{_item}을(를) 구매하였습니다. 현재의 잔액은 {self.balance} 입니다.\"\n",
    "\n",
    "        # 일과 구매의 목록을 추가하는 함수 생성\n",
    "    def add_type(self, _choose, _key, _value):\n",
    "        # _choose: 일이냐 아니면 구매\n",
    "        # _key: dict의 키 값\n",
    "        # _value: dict의 value 값\n",
    "        if _choose == \"work\":\n",
    "            if _key not in self.work_type.keys():\n",
    "                self.work_type[_key] = _value\n",
    "            else:\n",
    "                return \"일 목록이 존재합니다. \"\n",
    "        elif _choose == \"buy\":\n",
    "            if _key not in self.item_type.keys():\n",
    "                self.item_type[_key] = _value\n",
    "            else:\n",
    "                return \"구매 목록이 존재합니다. \"\n",
    "        else:\n",
    "            return \"choose의 값이 잘못 되었습니다.\"\n",
    "        return f\"{_choose}의 목록이 추가되었습니다.\"\n",
    "    \n",
    "    def info(self):\n",
    "        return (self.brand, self.value, self.balance ) #상속에서는 name 뺌\n"
   ]
  },
  {
   "cell_type": "code",
   "execution_count": 108,
   "metadata": {},
   "outputs": [],
   "source": [
    "test = Wallet('sejin', '01012345678', '970617', 'LOUIS', 200000)"
   ]
  },
  {
   "cell_type": "code",
   "execution_count": 109,
   "metadata": {},
   "outputs": [
    {
     "data": {
      "text/plain": [
       "('LOUIS', 200000, 0)"
      ]
     },
     "execution_count": 109,
     "metadata": {},
     "output_type": "execute_result"
    }
   ],
   "source": [
    "test.info() # User의 함수. 만약 info 함수가 둘 다 있다면 자식만 나옴"
   ]
  },
  {
   "cell_type": "code",
   "execution_count": 106,
   "metadata": {},
   "outputs": [
    {
     "data": {
      "text/plain": [
       "'TM의 일을 완료하였습니다. 현재의 잔액은 500 입니다.'"
      ]
     },
     "execution_count": 106,
     "metadata": {},
     "output_type": "execute_result"
    }
   ],
   "source": [
    "test.work('TM')"
   ]
  },
  {
   "cell_type": "code",
   "execution_count": 110,
   "metadata": {},
   "outputs": [],
   "source": [
    "test2 = User('test2', '01011112222', '000101')"
   ]
  },
  {
   "cell_type": "code",
   "execution_count": 111,
   "metadata": {},
   "outputs": [
    {
     "data": {
      "text/plain": [
       "('test2', '01011112222', '000101')"
      ]
     },
     "execution_count": 111,
     "metadata": {},
     "output_type": "execute_result"
    }
   ],
   "source": [
    "test2.info()"
   ]
  },
  {
   "cell_type": "code",
   "execution_count": null,
   "metadata": {},
   "outputs": [],
   "source": []
  }
 ],
 "metadata": {
  "kernelspec": {
   "display_name": "Python 3.7.1 64-bit",
   "language": "python",
   "name": "python3"
  },
  "language_info": {
   "codemirror_mode": {
    "name": "ipython",
    "version": 3
   },
   "file_extension": ".py",
   "mimetype": "text/x-python",
   "name": "python",
   "nbconvert_exporter": "python",
   "pygments_lexer": "ipython3",
   "version": "3.7.1"
  },
  "orig_nbformat": 4,
  "vscode": {
   "interpreter": {
    "hash": "31f8360559af503f7d1219287c80e0cc362e8a430fe9b8335f384415946613ec"
   }
  }
 },
 "nbformat": 4,
 "nbformat_minor": 2
}
