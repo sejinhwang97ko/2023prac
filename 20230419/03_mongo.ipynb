{
 "cells": [
  {
   "cell_type": "markdown",
   "metadata": {},
   "source": [
    "#mongodb\n",
    "1. 라이브러리 설치\n",
    "2. 라이브러리 로드\n",
    "3. CRUD"
   ]
  },
  {
   "cell_type": "code",
   "execution_count": 1,
   "metadata": {},
   "outputs": [
    {
     "name": "stdout",
     "output_type": "stream",
     "text": [
      "Collecting pymongo\n",
      "  Downloading pymongo-4.3.3-cp37-cp37m-win_amd64.whl (382 kB)\n",
      "     -------------------------------------- 382.2/382.2 kB 5.9 MB/s eta 0:00:00\n",
      "Collecting dnspython<3.0.0,>=1.16.0\n",
      "  Downloading dnspython-2.3.0-py3-none-any.whl (283 kB)\n",
      "     -------------------------------------- 283.7/283.7 kB 8.5 MB/s eta 0:00:00\n",
      "Installing collected packages: dnspython, pymongo\n",
      "Successfully installed dnspython-2.3.0 pymongo-4.3.3\n"
     ]
    },
    {
     "name": "stderr",
     "output_type": "stream",
     "text": [
      "\n",
      "[notice] A new release of pip is available: 23.0.1 -> 23.1\n",
      "[notice] To update, run: python.exe -m pip install --upgrade pip\n"
     ]
    }
   ],
   "source": [
    "!pip install pymongo"
   ]
  },
  {
   "cell_type": "code",
   "execution_count": 2,
   "metadata": {},
   "outputs": [],
   "source": [
    "from pymongo import MongoClient"
   ]
  },
  {
   "cell_type": "code",
   "execution_count": 3,
   "metadata": {},
   "outputs": [],
   "source": [
    "client = MongoClient(\n",
    "    host = 'localhost',\n",
    "    port = 27017\n",
    ")"
   ]
  },
  {
   "cell_type": "code",
   "execution_count": 4,
   "metadata": {},
   "outputs": [
    {
     "data": {
      "text/plain": [
       "['admin', 'config', 'local']"
      ]
     },
     "execution_count": 4,
     "metadata": {},
     "output_type": "execute_result"
    }
   ],
   "source": [
    "# mongodb에 있는 데이터베이스의 목록 출력\n",
    "client.list_database_names()"
   ]
  },
  {
   "cell_type": "code",
   "execution_count": 6,
   "metadata": {},
   "outputs": [],
   "source": [
    "# 데이터베이스를 선택\n",
    "db = client['ubion'] #없지만 실행됨"
   ]
  },
  {
   "cell_type": "code",
   "execution_count": 7,
   "metadata": {},
   "outputs": [
    {
     "data": {
      "text/plain": [
       "['admin', 'config', 'local']"
      ]
     },
     "execution_count": 7,
     "metadata": {},
     "output_type": "execute_result"
    }
   ],
   "source": [
    "client.list_database_names() #'ubion'이 생기긴 했지만 아무것도 들어있지 않아서 안 뜸"
   ]
  },
  {
   "cell_type": "code",
   "execution_count": 8,
   "metadata": {},
   "outputs": [],
   "source": [
    "# collection 접근(collection 은 sql에서 table 과 같은 의미)\n",
    "collection = db['test'] #없지만 실행됨"
   ]
  },
  {
   "cell_type": "code",
   "execution_count": 9,
   "metadata": {},
   "outputs": [
    {
     "data": {
      "text/plain": [
       "<pymongo.results.InsertOneResult at 0x2190222bb38>"
      ]
     },
     "execution_count": 9,
     "metadata": {},
     "output_type": "execute_result"
    }
   ],
   "source": [
    "# CRUD\n",
    "# create -> insert()\n",
    "# insert_one() /insert_many()\n",
    "data = {\n",
    "    'id':'test',\n",
    "    'pass': '1234'\n",
    "}\n",
    "\n",
    "collection.insert_one(data)"
   ]
  },
  {
   "cell_type": "code",
   "execution_count": 10,
   "metadata": {},
   "outputs": [
    {
     "data": {
      "text/plain": [
       "{'_id': ObjectId('643f8ae6020c96cffb922318'), 'id': 'test', 'pass': '1234'}"
      ]
     },
     "execution_count": 10,
     "metadata": {},
     "output_type": "execute_result"
    }
   ],
   "source": [
    "collection.find_one()\n",
    "# 결과가 '_id': ObjectId('643f8ae6020c96cffb922318') 이 뜻은 primary key"
   ]
  },
  {
   "cell_type": "code",
   "execution_count": 12,
   "metadata": {},
   "outputs": [
    {
     "data": {
      "text/plain": [
       "<pymongo.results.InsertManyResult at 0x2190222b080>"
      ]
     },
     "execution_count": 12,
     "metadata": {},
     "output_type": "execute_result"
    }
   ],
   "source": [
    "#mongodb의 장점. 컬럼이 다른데 생성가능\n",
    "data = [\n",
    "    {\n",
    "        'name':'test1',\n",
    "        'phone': '01011112222',\n",
    "        'gender': 'male'\n",
    "    },\n",
    "    {\n",
    "        'loc': 'seoul'\n",
    "    }\n",
    "]\n",
    "\n",
    "collection.insert_many(data)"
   ]
  },
  {
   "cell_type": "code",
   "execution_count": 13,
   "metadata": {},
   "outputs": [
    {
     "data": {
      "text/plain": [
       "[{'_id': ObjectId('643f8ae6020c96cffb922318'), 'id': 'test', 'pass': '1234'},\n",
       " {'_id': ObjectId('643f8ccf020c96cffb922319'),\n",
       "  'name': 'test1',\n",
       "  'phone': '01011112222',\n",
       "  'gender': 'male'},\n",
       " {'_id': ObjectId('643f8ccf020c96cffb92231a'), 'loc': 'seoul'}]"
      ]
     },
     "execution_count": 13,
     "metadata": {},
     "output_type": "execute_result"
    }
   ],
   "source": [
    "list(collection.find())"
   ]
  },
  {
   "cell_type": "code",
   "execution_count": 14,
   "metadata": {},
   "outputs": [
    {
     "data": {
      "text/plain": [
       "['admin', 'config', 'local', 'ubion']"
      ]
     },
     "execution_count": 14,
     "metadata": {},
     "output_type": "execute_result"
    }
   ],
   "source": [
    "client.list_database_names()"
   ]
  },
  {
   "cell_type": "markdown",
   "metadata": {},
   "source": [
    "1. sql에서 test table에서 name이 test1인 경우의 데이터를 출력\n",
    "    - select * from test where name = 'test1'"
   ]
  },
  {
   "cell_type": "code",
   "execution_count": 15,
   "metadata": {},
   "outputs": [
    {
     "data": {
      "text/plain": [
       "[{'_id': ObjectId('643f8ccf020c96cffb922319'),\n",
       "  'name': 'test1',\n",
       "  'phone': '01011112222',\n",
       "  'gender': 'male'}]"
      ]
     },
     "execution_count": 15,
     "metadata": {},
     "output_type": "execute_result"
    }
   ],
   "source": [
    "list(collection.find({'name':'test1'}))"
   ]
  },
  {
   "cell_type": "markdown",
   "metadata": {},
   "source": [
    "1. 해당하는 컬럼의 데이터만 출력하려면\n",
    "    - select name from testm"
   ]
  },
  {
   "cell_type": "code",
   "execution_count": 16,
   "metadata": {},
   "outputs": [
    {
     "data": {
      "text/plain": [
       "[{'_id': ObjectId('643f8ae6020c96cffb922318')},\n",
       " {'_id': ObjectId('643f8ccf020c96cffb922319'), 'name': 'test1'},\n",
       " {'_id': ObjectId('643f8ccf020c96cffb92231a')}]"
      ]
     },
     "execution_count": 16,
     "metadata": {},
     "output_type": "execute_result"
    }
   ],
   "source": [
    "list(collection.find({}, {'name':1}))"
   ]
  },
  {
   "cell_type": "markdown",
   "metadata": {},
   "source": [
    "# update\n",
    "1. 데이터의 수정\n",
    "    - update test set pass = '0000' where id = 'test'\n",
    "    - test 테이블에 id가 test인 데이터에서 pass의 값을 0000으로 수정하겠다."
   ]
  },
  {
   "cell_type": "code",
   "execution_count": 17,
   "metadata": {},
   "outputs": [
    {
     "data": {
      "text/plain": [
       "<pymongo.results.UpdateResult at 0x21902235780>"
      ]
     },
     "execution_count": 17,
     "metadata": {},
     "output_type": "execute_result"
    }
   ],
   "source": [
    "collection.update_one(\n",
    "    {\n",
    "        'id': \"test\"\n",
    "    },\n",
    "    {\n",
    "        \"$set\" : {\n",
    "            'pass': '0000'\n",
    "        }\n",
    "    }\n",
    ")"
   ]
  },
  {
   "cell_type": "code",
   "execution_count": 18,
   "metadata": {},
   "outputs": [
    {
     "data": {
      "text/plain": [
       "{'_id': ObjectId('643f8ae6020c96cffb922318'), 'id': 'test', 'pass': '0000'}"
      ]
     },
     "execution_count": 18,
     "metadata": {},
     "output_type": "execute_result"
    }
   ],
   "source": [
    "collection.find_one()"
   ]
  },
  {
   "cell_type": "markdown",
   "metadata": {},
   "source": [
    "1. 데이터의 삭제\n",
    "    - delete from test where id = 'test'\n",
    "    - test 테이블에서 id가 'test'인 데이터를 삭제"
   ]
  },
  {
   "cell_type": "code",
   "execution_count": 19,
   "metadata": {},
   "outputs": [
    {
     "data": {
      "text/plain": [
       "<pymongo.results.DeleteResult at 0x219021bd278>"
      ]
     },
     "execution_count": 19,
     "metadata": {},
     "output_type": "execute_result"
    }
   ],
   "source": [
    "collection.delete_one(\n",
    "    {\n",
    "        'id':'test'\n",
    "    }\n",
    ")"
   ]
  },
  {
   "cell_type": "code",
   "execution_count": 20,
   "metadata": {},
   "outputs": [
    {
     "data": {
      "text/plain": [
       "[{'_id': ObjectId('643f8ccf020c96cffb922319'),\n",
       "  'name': 'test1',\n",
       "  'phone': '01011112222',\n",
       "  'gender': 'male'},\n",
       " {'_id': ObjectId('643f8ccf020c96cffb92231a'), 'loc': 'seoul'}]"
      ]
     },
     "execution_count": 20,
     "metadata": {},
     "output_type": "execute_result"
    }
   ],
   "source": [
    "list(collection.find())"
   ]
  },
  {
   "cell_type": "code",
   "execution_count": 21,
   "metadata": {},
   "outputs": [
    {
     "data": {
      "text/plain": [
       "[{'_id': ObjectId('643f8ccf020c96cffb922319'),\n",
       "  'name': 'test1',\n",
       "  'phone': '01011112222',\n",
       "  'gender': 'male'},\n",
       " {'_id': ObjectId('643f8ccf020c96cffb92231a'), 'loc': 'seoul'}]"
      ]
     },
     "execution_count": 21,
     "metadata": {},
     "output_type": "execute_result"
    }
   ],
   "source": [
    "list(client['ubion']['test'].find())"
   ]
  },
  {
   "cell_type": "markdown",
   "metadata": {},
   "source": [
    "### mongodb select 조건식\n",
    "\n",
    "- find(옵션1, 옵션2, 옵션3, ..., 컬럼 선택)\n",
    "\n",
    "    1. db.collection.find() -> select * from TABLE\n",
    "    2. db.collection.find({}, {\"id\":1 , \"pass\":1}) -> select id, pass from TABLE\n",
    "    3. db.collection.find({}, {\"id\":1, \"pass\":1, \"_id\": 0}) -> 2번 과정과 같은 sql문이지만 _id를 보여주지 않겠다.\n",
    "    4. db.collection.find({\"id\":\"test\"}) -> select * from TABLE where id = \"test\"\n",
    "    5. db.collection.find({\"id\":\"test\", \"pass\":\"1234\"}) -> select * from TABLE where id='test' and pass='1234'\n",
    "    6. db.collection.find({\"id\":\"test\"}, {\"pass\":\"1234\"}) -> select * from TABLE where id='test' or pass='1234'\n",
    "    7. db.collection.find({'age': {\"$gt\" : 25}}) -> select * from TABLE where age > 25\n",
    "    8. db.collection.find({'age': {\"$lt\" : 25}}) -> select * from TABLE where age < 25\n",
    "    9. db.collection.find({'id': {/bc/}}) ->  select * from TABLE where id like '%bc%'\n",
    "    10. db.collection.find().sort({\"id\":1}) -> select * from TABLE order by id ASC\n",
    "    11. db.collection.find().sort({\"id\":-1}) -> select * from TABLE order by id DESC\n",
    "    12. db.collection.find().limit(10) -> select * from TABLE limit 10"
   ]
  },
  {
   "cell_type": "markdown",
   "metadata": {},
   "source": []
  }
 ],
 "metadata": {
  "kernelspec": {
   "display_name": "Python 3.7.1 64-bit",
   "language": "python",
   "name": "python3"
  },
  "language_info": {
   "codemirror_mode": {
    "name": "ipython",
    "version": 3
   },
   "file_extension": ".py",
   "mimetype": "text/x-python",
   "name": "python",
   "nbconvert_exporter": "python",
   "pygments_lexer": "ipython3",
   "version": "3.7.1"
  },
  "orig_nbformat": 4,
  "vscode": {
   "interpreter": {
    "hash": "31f8360559af503f7d1219287c80e0cc362e8a430fe9b8335f384415946613ec"
   }
  }
 },
 "nbformat": 4,
 "nbformat_minor": 2
}
