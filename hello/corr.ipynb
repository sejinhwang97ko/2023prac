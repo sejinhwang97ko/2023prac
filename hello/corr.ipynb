{
 "cells": [
  {
   "cell_type": "code",
   "execution_count": 8,
   "metadata": {},
   "outputs": [],
   "source": [
    "#pip install pandas"
   ]
  },
  {
   "cell_type": "code",
   "execution_count": 9,
   "metadata": {},
   "outputs": [],
   "source": [
    "#pip install matplotlib"
   ]
  },
  {
   "cell_type": "code",
   "execution_count": 10,
   "metadata": {},
   "outputs": [],
   "source": [
    "#pip install seaborn"
   ]
  },
  {
   "cell_type": "code",
   "execution_count": 11,
   "metadata": {},
   "outputs": [],
   "source": [
    "import pandas as pd\n",
    "import numpy as np\n",
    "\n",
    "# 시각화\n",
    "import matplotlib.pyplot as plt\n",
    "import seaborn as sns\n",
    "#import scipy as sp\n",
    "\n",
    "# 한글폰트 출력 가능 코드\n",
    "#from matplotlib import rc\n",
    "plt.rcParams['font.family'] = 'NanumGothic' #'Malgun Gothic'\n",
    "\n",
    "# 마이너스 깨짐 방지\n",
    "#plt.rcParams['axes.unicode_minus'] = False"
   ]
  },
  {
   "cell_type": "code",
   "execution_count": 12,
   "metadata": {},
   "outputs": [
    {
     "data": {
      "text/html": [
       "<div>\n",
       "<style scoped>\n",
       "    .dataframe tbody tr th:only-of-type {\n",
       "        vertical-align: middle;\n",
       "    }\n",
       "\n",
       "    .dataframe tbody tr th {\n",
       "        vertical-align: top;\n",
       "    }\n",
       "\n",
       "    .dataframe thead th {\n",
       "        text-align: right;\n",
       "    }\n",
       "</style>\n",
       "<table border=\"1\" class=\"dataframe\">\n",
       "  <thead>\n",
       "    <tr style=\"text-align: right;\">\n",
       "      <th></th>\n",
       "      <th>년도</th>\n",
       "      <th>발생</th>\n",
       "      <th>검거</th>\n",
       "      <th>검거율</th>\n",
       "      <th>살인 발생</th>\n",
       "      <th>살인 검거</th>\n",
       "      <th>강도 발생</th>\n",
       "      <th>강도 검거</th>\n",
       "      <th>강간 발생</th>\n",
       "      <th>강간 검거</th>\n",
       "      <th>절도 발생</th>\n",
       "      <th>절도 검거</th>\n",
       "      <th>폭력 발생</th>\n",
       "      <th>폭력 검거</th>\n",
       "    </tr>\n",
       "  </thead>\n",
       "  <tbody>\n",
       "    <tr>\n",
       "      <th>0</th>\n",
       "      <td>2019</td>\n",
       "      <td>13859</td>\n",
       "      <td>11597</td>\n",
       "      <td>83.7</td>\n",
       "      <td>22</td>\n",
       "      <td>21</td>\n",
       "      <td>25</td>\n",
       "      <td>26</td>\n",
       "      <td>689</td>\n",
       "      <td>650</td>\n",
       "      <td>4675</td>\n",
       "      <td>3155</td>\n",
       "      <td>8448</td>\n",
       "      <td>7745</td>\n",
       "    </tr>\n",
       "    <tr>\n",
       "      <th>1</th>\n",
       "      <td>2018</td>\n",
       "      <td>14094</td>\n",
       "      <td>11980</td>\n",
       "      <td>85.0</td>\n",
       "      <td>25</td>\n",
       "      <td>24</td>\n",
       "      <td>16</td>\n",
       "      <td>16</td>\n",
       "      <td>699</td>\n",
       "      <td>665</td>\n",
       "      <td>4300</td>\n",
       "      <td>3048</td>\n",
       "      <td>9054</td>\n",
       "      <td>8227</td>\n",
       "    </tr>\n",
       "    <tr>\n",
       "      <th>2</th>\n",
       "      <td>2017</td>\n",
       "      <td>16187</td>\n",
       "      <td>13540</td>\n",
       "      <td>83.6</td>\n",
       "      <td>32</td>\n",
       "      <td>32</td>\n",
       "      <td>27</td>\n",
       "      <td>26</td>\n",
       "      <td>627</td>\n",
       "      <td>591</td>\n",
       "      <td>5248</td>\n",
       "      <td>3628</td>\n",
       "      <td>10253</td>\n",
       "      <td>9263</td>\n",
       "    </tr>\n",
       "    <tr>\n",
       "      <th>3</th>\n",
       "      <td>2016</td>\n",
       "      <td>16678</td>\n",
       "      <td>14037</td>\n",
       "      <td>84.2</td>\n",
       "      <td>28</td>\n",
       "      <td>29</td>\n",
       "      <td>28</td>\n",
       "      <td>29</td>\n",
       "      <td>603</td>\n",
       "      <td>570</td>\n",
       "      <td>5166</td>\n",
       "      <td>3568</td>\n",
       "      <td>10853</td>\n",
       "      <td>9841</td>\n",
       "    </tr>\n",
       "    <tr>\n",
       "      <th>4</th>\n",
       "      <td>2015</td>\n",
       "      <td>16441</td>\n",
       "      <td>13020</td>\n",
       "      <td>79.2</td>\n",
       "      <td>33</td>\n",
       "      <td>31</td>\n",
       "      <td>35</td>\n",
       "      <td>35</td>\n",
       "      <td>577</td>\n",
       "      <td>544</td>\n",
       "      <td>5966</td>\n",
       "      <td>3740</td>\n",
       "      <td>9830</td>\n",
       "      <td>8670</td>\n",
       "    </tr>\n",
       "    <tr>\n",
       "      <th>5</th>\n",
       "      <td>2014</td>\n",
       "      <td>16487</td>\n",
       "      <td>12004</td>\n",
       "      <td>72.8</td>\n",
       "      <td>25</td>\n",
       "      <td>24</td>\n",
       "      <td>56</td>\n",
       "      <td>55</td>\n",
       "      <td>582</td>\n",
       "      <td>560</td>\n",
       "      <td>6203</td>\n",
       "      <td>2988</td>\n",
       "      <td>9621</td>\n",
       "      <td>8377</td>\n",
       "    </tr>\n",
       "  </tbody>\n",
       "</table>\n",
       "</div>"
      ],
      "text/plain": [
       "     년도     발생     검거   검거율  살인 발생  살인 검거  강도 발생  강도 검거  강간 발생  강간 검거  절도 발생  \\\n",
       "0  2019  13859  11597  83.7     22     21     25     26    689    650   4675   \n",
       "1  2018  14094  11980  85.0     25     24     16     16    699    665   4300   \n",
       "2  2017  16187  13540  83.6     32     32     27     26    627    591   5248   \n",
       "3  2016  16678  14037  84.2     28     29     28     29    603    570   5166   \n",
       "4  2015  16441  13020  79.2     33     31     35     35    577    544   5966   \n",
       "5  2014  16487  12004  72.8     25     24     56     55    582    560   6203   \n",
       "\n",
       "   절도 검거  폭력 발생  폭력 검거  \n",
       "0   3155   8448   7745  \n",
       "1   3048   9054   8227  \n",
       "2   3628  10253   9263  \n",
       "3   3568  10853   9841  \n",
       "4   3740   9830   8670  \n",
       "5   2988   9621   8377  "
      ]
     },
     "execution_count": 12,
     "metadata": {},
     "output_type": "execute_result"
    }
   ],
   "source": [
    "data = pd.read_csv(\"../ub_dataset/경찰청 강원도경찰청_5대범죄 발생 및 검거 현황_20191231.csv\")\n",
    "data"
   ]
  },
  {
   "cell_type": "code",
   "execution_count": 13,
   "metadata": {},
   "outputs": [
    {
     "name": "stdout",
     "output_type": "stream",
     "text": [
      "<class 'pandas.core.frame.DataFrame'>\n",
      "RangeIndex: 6 entries, 0 to 5\n",
      "Data columns (total 14 columns):\n",
      " #   Column  Non-Null Count  Dtype  \n",
      "---  ------  --------------  -----  \n",
      " 0   년도      6 non-null      int64  \n",
      " 1   발생      6 non-null      int64  \n",
      " 2   검거      6 non-null      int64  \n",
      " 3   검거율     6 non-null      float64\n",
      " 4   살인 발생   6 non-null      int64  \n",
      " 5   살인 검거   6 non-null      int64  \n",
      " 6   강도 발생   6 non-null      int64  \n",
      " 7   강도 검거   6 non-null      int64  \n",
      " 8   강간 발생   6 non-null      int64  \n",
      " 9   강간 검거   6 non-null      int64  \n",
      " 10  절도 발생   6 non-null      int64  \n",
      " 11  절도 검거   6 non-null      int64  \n",
      " 12  폭력 발생   6 non-null      int64  \n",
      " 13  폭력 검거   6 non-null      int64  \n",
      "dtypes: float64(1), int64(13)\n",
      "memory usage: 800.0 bytes\n"
     ]
    }
   ],
   "source": [
    "data.info()"
   ]
  },
  {
   "cell_type": "code",
   "execution_count": 14,
   "metadata": {},
   "outputs": [
    {
     "name": "stderr",
     "output_type": "stream",
     "text": [
      "findfont: Font family ['NanumGothic'] not found. Falling back to DejaVu Sans.\n",
      "c:\\Python 3.7.1\\lib\\site-packages\\seaborn\\axisgrid.py:118: UserWarning: Glyph 48156 (\\N{HANGUL SYLLABLE BAL}) missing from current font.\n",
      "  self._figure.tight_layout(*args, **kwargs)\n",
      "c:\\Python 3.7.1\\lib\\site-packages\\seaborn\\axisgrid.py:118: UserWarning: Glyph 49373 (\\N{HANGUL SYLLABLE SAENG}) missing from current font.\n",
      "  self._figure.tight_layout(*args, **kwargs)\n",
      "c:\\Python 3.7.1\\lib\\site-packages\\seaborn\\axisgrid.py:118: UserWarning: Glyph 44160 (\\N{HANGUL SYLLABLE GEOM}) missing from current font.\n",
      "  self._figure.tight_layout(*args, **kwargs)\n",
      "c:\\Python 3.7.1\\lib\\site-packages\\seaborn\\axisgrid.py:118: UserWarning: Glyph 44144 (\\N{HANGUL SYLLABLE GEO}) missing from current font.\n",
      "  self._figure.tight_layout(*args, **kwargs)\n",
      "c:\\Python 3.7.1\\lib\\site-packages\\seaborn\\axisgrid.py:118: UserWarning: Glyph 48156 (\\N{HANGUL SYLLABLE BAL}) missing from current font.\n",
      "  self._figure.tight_layout(*args, **kwargs)\n",
      "c:\\Python 3.7.1\\lib\\site-packages\\seaborn\\axisgrid.py:118: UserWarning: Glyph 49373 (\\N{HANGUL SYLLABLE SAENG}) missing from current font.\n",
      "  self._figure.tight_layout(*args, **kwargs)\n",
      "c:\\Python 3.7.1\\lib\\site-packages\\seaborn\\axisgrid.py:118: UserWarning: Glyph 44160 (\\N{HANGUL SYLLABLE GEOM}) missing from current font.\n",
      "  self._figure.tight_layout(*args, **kwargs)\n",
      "c:\\Python 3.7.1\\lib\\site-packages\\seaborn\\axisgrid.py:118: UserWarning: Glyph 44144 (\\N{HANGUL SYLLABLE GEO}) missing from current font.\n",
      "  self._figure.tight_layout(*args, **kwargs)\n",
      "c:\\Python 3.7.1\\lib\\site-packages\\IPython\\core\\pylabtools.py:151: UserWarning: Glyph 48156 (\\N{HANGUL SYLLABLE BAL}) missing from current font.\n",
      "  fig.canvas.print_figure(bytes_io, **kw)\n",
      "c:\\Python 3.7.1\\lib\\site-packages\\IPython\\core\\pylabtools.py:151: UserWarning: Glyph 49373 (\\N{HANGUL SYLLABLE SAENG}) missing from current font.\n",
      "  fig.canvas.print_figure(bytes_io, **kw)\n",
      "c:\\Python 3.7.1\\lib\\site-packages\\IPython\\core\\pylabtools.py:151: UserWarning: Glyph 44160 (\\N{HANGUL SYLLABLE GEOM}) missing from current font.\n",
      "  fig.canvas.print_figure(bytes_io, **kw)\n",
      "c:\\Python 3.7.1\\lib\\site-packages\\IPython\\core\\pylabtools.py:151: UserWarning: Glyph 44144 (\\N{HANGUL SYLLABLE GEO}) missing from current font.\n",
      "  fig.canvas.print_figure(bytes_io, **kw)\n"
     ]
    },
    {
     "data": {
      "image/png": "[encoded data removed]",
      "text/plain": [
       "<Figure size 500x500 with 6 Axes>"
      ]
     },
     "metadata": {},
     "output_type": "display_data"
    }
   ],
   "source": [
    "# 상관분석에 앞서 먼저 시각화를 이용하여 상관성을 육안으로 확인해본다.\n",
    "sub = data[['발생', '검거']] #[{'발생', '검거'}]\n",
    "\n",
    "# 각 데이터의 히스토그램과 산점도를 도출(산점도에는 회귀선까지 구현)\n",
    "sns.pairplot(sub, kind='reg')\n",
    "plt.show()"
   ]
  },
  {
   "cell_type": "markdown",
   "metadata": {},
   "source": [
    "## 피어슨 상관계수 구하기"
   ]
  },
  {
   "cell_type": "code",
   "execution_count": 15,
   "metadata": {},
   "outputs": [
    {
     "data": {
      "text/plain": [
       "93746"
      ]
     },
     "execution_count": 15,
     "metadata": {},
     "output_type": "execute_result"
    }
   ],
   "source": [
    "data['발생'].sum() #np.sum(data['발생'])"
   ]
  },
  {
   "cell_type": "code",
   "execution_count": 16,
   "metadata": {},
   "outputs": [
    {
     "data": {
      "text/plain": [
       "15624.333333333334"
      ]
     },
     "execution_count": 16,
     "metadata": {},
     "output_type": "execute_result"
    }
   ],
   "source": [
    "data['발생'].mean() #np.sum(data['발생'])/len(data['발생'])"
   ]
  },
  {
   "cell_type": "code",
   "execution_count": 17,
   "metadata": {},
   "outputs": [],
   "source": [
    "# 평균\n",
    "mu_1 = data['발생'].mean()\n",
    "mu_2 = data['검거'].mean()"
   ]
  },
  {
   "cell_type": "code",
   "execution_count": 18,
   "metadata": {},
   "outputs": [
    {
     "data": {
      "text/plain": [
       "8296267.333333333"
      ]
     },
     "execution_count": 18,
     "metadata": {},
     "output_type": "execute_result"
    }
   ],
   "source": [
    "np.sum([pow(i - mu_1, 2) for i in data['발생']])"
   ]
  },
  {
   "cell_type": "code",
   "execution_count": 19,
   "metadata": {},
   "outputs": [
    {
     "data": {
      "text/plain": [
       "8296267.333333333"
      ]
     },
     "execution_count": 19,
     "metadata": {},
     "output_type": "execute_result"
    }
   ],
   "source": [
    "def sumv(x):\n",
    "    result = pow(x-mu_1,2)\n",
    "    return result\n",
    "\n",
    "data['발생'].apply(sumv).sum()"
   ]
  },
  {
   "cell_type": "code",
   "execution_count": 20,
   "metadata": {},
   "outputs": [
    {
     "data": {
      "text/plain": [
       "8296267.333333333"
      ]
     },
     "execution_count": 20,
     "metadata": {},
     "output_type": "execute_result"
    }
   ],
   "source": [
    "np.sum([pow(i - mu_1, 2) for i in data['발생']])"
   ]
  },
  {
   "cell_type": "code",
   "execution_count": 21,
   "metadata": {},
   "outputs": [],
   "source": [
    "#분산(잔차의 제곱 합의 평균), 표준편차(분산의 제곱근)\n",
    "var_1 = np.sum([pow(i - mu_1, 2) for i in data['발생']]) / (len(data['발생']))\n",
    "var_2 = np.sum([pow(i - mu_2, 2) for i in data['검거']]) / (len(data['검거']))\n",
    "# 모분산 추정에서는 자유도 1로 분모에 -1을 더해줘야함.\n",
    "\n",
    "std_1 = var_1 ** 0.5\n",
    "std_2 = var_2 ** 0.5"
   ]
  },
  {
   "cell_type": "code",
   "execution_count": 22,
   "metadata": {},
   "outputs": [
    {
     "data": {
      "text/plain": [
       "0   -1765.333333\n",
       "1   -1530.333333\n",
       "2     562.666667\n",
       "3    1053.666667\n",
       "4     816.666667\n",
       "5     862.666667\n",
       "Name: 발생, dtype: float64"
      ]
     },
     "execution_count": 22,
     "metadata": {},
     "output_type": "execute_result"
    }
   ],
   "source": [
    "data['발생'] - mu_1"
   ]
  },
  {
   "cell_type": "code",
   "execution_count": 23,
   "metadata": {},
   "outputs": [],
   "source": [
    "# 공분산(표본상관계수를 구하는 것이 아니고 모집단으로 도출하므로 자유도는 0으로 설정하였음.)\n",
    "\n",
    "covariance = sum( (data['발생'] - mu_1) * (data['검거'] - mu_2) ) / (len(data['발생']))\n",
    "#표본상관계수를 구하는 것이라면 분모에서 -1 더해줘야함.\n",
    "\n",
    "correlation = covariance / (std_1 * std_2) # 상관계수 = 공분산 / (표준편차1 * 표준편차2)"
   ]
  },
  {
   "cell_type": "markdown",
   "metadata": {},
   "source": [
    "분모 발행 길이로 했는데 어차피 발행 길이나 검거 길이가 같기 때문에.."
   ]
  },
  {
   "cell_type": "markdown",
   "metadata": {},
   "source": [
    "![](https://wikimedia.org/api/rest_v1/media/math/render/svg/bea8f7bc27ce7e5ec0758f63620d11e628153b44)"
   ]
  },
  {
   "cell_type": "markdown",
   "metadata": {},
   "source": [
    "![피어슨 상관계수에 사용되는 표본 공분산](https://wikimedia.org/api/rest_v1/media/math/render/svg/98bc7e1b45bb77c37ac71801db4580f3d279b4e5)"
   ]
  },
  {
   "cell_type": "code",
   "execution_count": 24,
   "metadata": {},
   "outputs": [
    {
     "name": "stdout",
     "output_type": "stream",
     "text": [
      "765218.7222222221\n",
      "0.7264424782283028\n"
     ]
    }
   ],
   "source": [
    "print(covariance)\n",
    "print(correlation) #피어슨 상관계수"
   ]
  },
  {
   "cell_type": "markdown",
   "metadata": {},
   "source": [
    "## numpy"
   ]
  },
  {
   "cell_type": "code",
   "execution_count": 25,
   "metadata": {},
   "outputs": [
    {
     "data": {
      "text/plain": [
       "array([[1382711.22222222,  765218.72222222],\n",
       "       [ 765218.72222222,  802485.55555556]])"
      ]
     },
     "execution_count": 25,
     "metadata": {},
     "output_type": "execute_result"
    }
   ],
   "source": [
    "np.cov(data['발생'],data['검거'], ddof=0)"
   ]
  },
  {
   "cell_type": "code",
   "execution_count": 26,
   "metadata": {},
   "outputs": [
    {
     "data": {
      "text/plain": [
       "765218.7222222221"
      ]
     },
     "execution_count": 26,
     "metadata": {},
     "output_type": "execute_result"
    }
   ],
   "source": [
    "#numpy 공분산 코드: 1행2열, 2행1열 값\n",
    "covariance_np = np.cov(data['발생'],data['검거'], ddof=0)[0][1]\n",
    "covariance_np"
   ]
  },
  {
   "cell_type": "code",
   "execution_count": 27,
   "metadata": {},
   "outputs": [
    {
     "name": "stdout",
     "output_type": "stream",
     "text": [
      "1175.8874190254023\n",
      "1175.8874190254023\n",
      "895.8155812194581\n",
      "895.8155812194581\n"
     ]
    }
   ],
   "source": [
    "#분산var()가 있지만 바로 표준편차std()를 쓰면 됨\n",
    "std_np_1 = np.std(data['발생'])\n",
    "std_np_2 = np.std(data['검거'])\n",
    "\n",
    "print(std_1)\n",
    "print(std_np_1)\n",
    "\n",
    "print(std_2)\n",
    "print(std_np_2)\n"
   ]
  },
  {
   "cell_type": "code",
   "execution_count": 28,
   "metadata": {},
   "outputs": [
    {
     "data": {
      "text/plain": [
       "0.7264424782283028"
      ]
     },
     "execution_count": 28,
     "metadata": {},
     "output_type": "execute_result"
    }
   ],
   "source": [
    "covariance_np / (std_np_1 * std_np_2) # 위와 같다."
   ]
  },
  {
   "cell_type": "markdown",
   "metadata": {},
   "source": [
    "## 피어슨 상관계수의 scipy 코드"
   ]
  },
  {
   "cell_type": "code",
   "execution_count": 29,
   "metadata": {},
   "outputs": [
    {
     "name": "stdout",
     "output_type": "stream",
     "text": [
      "Requirement already satisfied: scipy in c:\\python 3.7.1\\lib\\site-packages (1.7.3)\n",
      "Requirement already satisfied: numpy<1.23.0,>=1.16.5 in c:\\python 3.7.1\\lib\\site-packages (from scipy) (1.21.6)\n"
     ]
    }
   ],
   "source": [
    "!pip install scipy"
   ]
  },
  {
   "cell_type": "code",
   "execution_count": 30,
   "metadata": {},
   "outputs": [
    {
     "data": {
      "text/plain": [
       "(0.7264424782283028, 0.10201491339487691)"
      ]
     },
     "execution_count": 30,
     "metadata": {},
     "output_type": "execute_result"
    }
   ],
   "source": [
    "from scipy.stats import pearsonr\n",
    "\n",
    "pearsonr(data['발생'], data['검거'])\n",
    "\n",
    "#결과(0.7264424782283028, 0.10201491339487691)로 (상관계수,p-value)"
   ]
  },
  {
   "cell_type": "markdown",
   "metadata": {},
   "source": [
    "## 함수 만들기"
   ]
  },
  {
   "cell_type": "code",
   "execution_count": 31,
   "metadata": {},
   "outputs": [
    {
     "name": "stdout",
     "output_type": "stream",
     "text": [
      "1. 모집단으로 가정한 경우\n",
      "모집단 data 각각의 분산 값은 COV(X,X) = 1382711.222, COV(Y,Y) = 802485.556(으)로 계산됩니다.\n",
      "모집단 data에 대한 공분산 값 : 765218.722\n",
      "모집단 data에 대한 피어슨 상관계수 값 : 0.726\n",
      "Scipy로 구한 피어슨 상관계수는 0.726입니다.\n",
      "Scipy는 각 데이터의 상관계수가 유의한지 판단합니다. 위 검정의 p-value는 10.201%로 두 데이터의 연관성이 없다는 귀무가설을 5%의 유의수준으로 기각할 수 없습니다.\n",
      "\n",
      "2. 표본집단으로 가정한 경우\n",
      "표본 data 각각의 추정된 분산 값은 COV(x,x) = 1659253.467, COV(y,y) = 962982.667(으)로 계산됩니다.\n",
      "표본 data로 추정한 모집단의 공분산 값 : 918262.467\n",
      "표본 data로 추정한 모집단의 피어슨 상관계수 값 : 0.726\n",
      "Scipy로 구한 피어슨 상관계수는 0.726입니다.\n",
      "Scipy는 각 데이터의 상관계수가 유의한지 판단합니다. 위 검정의 p-value는 10.201%로 두 데이터의 연관성이 없다는 귀무가설을 5%의 유의수준으로 기각할 수 없습니다.\n"
     ]
    }
   ],
   "source": [
    "def cov_pearson(data1, data2, population = True): #population(모집단) = True가 기본값\n",
    "    # 라이브러리 호출\n",
    "    import numpy as np\n",
    "    from scipy.stats import pearsonr\n",
    "\n",
    "    # 변수를 설정하는 부분입니다.\n",
    "    mu_1 = data1.mean()\n",
    "    mu_2 = data2.mean()\n",
    "    var_1 = np.sum([pow(i - mu_1, 2) for i in data1]) / (len(data1))\n",
    "    var_2 = np.sum([pow(i - mu_2, 2) for i in data2]) / (len(data2))\n",
    "    # 모분산 추정에서는 자유도 1로 분모에 -1을 더해줘야함.\n",
    "\n",
    "    std_1 = var_1 ** 0.5\n",
    "    std_2 = var_2 ** 0.5\n",
    "    \n",
    "    # 데이터가 모수인지 표본인지에 따라 자유도를 산입할지 여부를 결정합니다.\n",
    "    if population == True:\n",
    "        covariance = sum( (data1 - mu_1) * (data2 - mu_2) ) / (len(data1))\n",
    "        correlation = covariance / (std_1 * std_2)\n",
    "        print(f'모집단 data 각각의 분산 값은 COV(X,X) = {round(var_1,3)}, COV(Y,Y) = {round(var_2,3)}(으)로 계산됩니다.')\n",
    "        print(f'모집단 data에 대한 공분산 값 : {round(covariance,3)}')\n",
    "        print(f'모집단 data에 대한 피어슨 상관계수 값 : {round(correlation,3)}')\n",
    "    else:\n",
    "        var_1 = np.sum([pow(i - mu_1, 2) for i in data1]) / (len(data1) - 1)\n",
    "        var_2 = np.sum([pow(i - mu_2, 2) for i in data2]) / (len(data2) - 1)\n",
    "        std_1 = var_1 ** 0.5\n",
    "        std_2 = var_2 ** 0.5\n",
    "        covariance_ddof = sum( (data1 - mu_1) * (data2 - mu_2) ) / (len(data1) -1)\n",
    "        correlation_ddof = covariance_ddof / (std_1 * std_2)\n",
    "        print(f'표본 data 각각의 추정된 분산 값은 COV(x,x) = {round(var_1,3)}, COV(y,y) = {round(var_2,3)}(으)로 계산됩니다.')\n",
    "        print(f'표본 data로 추정한 모집단의 공분산 값 : {round(covariance_ddof,3)}')\n",
    "        print(f'표본 data로 추정한 모집단의 피어슨 상관계수 값 : {round(correlation_ddof,3)}')\n",
    "\n",
    "    # Scipy 라이브러리에서 구한 피어슨 계수를 통해 위에서 확인한 상관계수 값을 검증해봅니다.\n",
    "    print(f'Scipy로 구한 피어슨 상관계수는 {round(pearsonr(data1, data2)[0], 3)}입니다.')\n",
    "    \n",
    "    # Scipy에서 제공하는 피어슨 검정의 P값을 이용하여 데이터 간의 독립성에 대한 검정 결과 해석을 출력합니다.\n",
    "    if pearsonr(data1, data2)[1] < 0.05:\n",
    "        print(f'Scipy는 각 데이터의 상관계수가 유의한지 판단합니다. 위 검정의 p-value는 {round(pearsonr(data1, data2)[1],5) * 100}%로 두 데이터의 연관성이 없다는 귀무가설을 5%의 유의수준으로 기각할 수 있습니다.')\n",
    "    else:\n",
    "        print(f'Scipy는 각 데이터의 상관계수가 유의한지 판단합니다. 위 검정의 p-value는 {round(pearsonr(data1, data2)[1],5) * 100}%로 두 데이터의 연관성이 없다는 귀무가설을 5%의 유의수준으로 기각할 수 없습니다.')\n",
    "\n",
    "print('1. 모집단으로 가정한 경우')\n",
    "cov_pearson(data['발생'], data['검거'], True)\n",
    "\n",
    "print('\\n2. 표본집단으로 가정한 경우')\n",
    "cov_pearson(data['발생'], data['검거'], False)"
   ]
  },
  {
   "cell_type": "markdown",
   "metadata": {},
   "source": [
    "## fin_stats"
   ]
  },
  {
   "cell_type": "code",
   "execution_count": 55,
   "metadata": {},
   "outputs": [
    {
     "name": "stdout",
     "output_type": "stream",
     "text": [
      "[ 4  7  2  9 21  6 37 13 37  7 15 21 40 19  2  7 23 35 19 44 32 38 31 26\n",
      " 18 25  4 43 17 21]\n",
      "[34 49 21 27 32 26 14 15 43 46 36 15  5 41  5 23 17 29 21 21 22 48 13  6\n",
      " 31  4  1 35 39 40]\n"
     ]
    }
   ],
   "source": [
    "x = np.random.randint(1,50,30)\n",
    "y = np.random.randint(1,50,30)\n",
    "#z = np.random.randint(1,50,33)\n",
    "print(x)\n",
    "print(y)\n",
    "#print(z)"
   ]
  },
  {
   "cell_type": "code",
   "execution_count": 56,
   "metadata": {},
   "outputs": [
    {
     "data": {
      "text/plain": [
       "[(4, 34),\n",
       " (7, 49),\n",
       " (2, 21),\n",
       " (9, 27),\n",
       " (21, 32),\n",
       " (6, 26),\n",
       " (37, 14),\n",
       " (13, 15),\n",
       " (37, 43),\n",
       " (7, 46),\n",
       " (15, 36),\n",
       " (21, 15),\n",
       " (40, 5),\n",
       " (19, 41),\n",
       " (2, 5),\n",
       " (7, 23),\n",
       " (23, 17),\n",
       " (35, 29),\n",
       " (19, 21),\n",
       " (44, 21),\n",
       " (32, 22),\n",
       " (38, 48),\n",
       " (31, 13),\n",
       " (26, 6),\n",
       " (18, 31),\n",
       " (25, 4),\n",
       " (4, 1),\n",
       " (43, 35),\n",
       " (17, 39),\n",
       " (21, 40)]"
      ]
     },
     "execution_count": 56,
     "metadata": {},
     "output_type": "execute_result"
    }
   ],
   "source": [
    "list(zip(x,y))\n",
    "#list(zip(x,y,z))"
   ]
  },
  {
   "cell_type": "code",
   "execution_count": 57,
   "metadata": {},
   "outputs": [
    {
     "data": {
      "text/html": [
       "<div>\n",
       "<style scoped>\n",
       "    .dataframe tbody tr th:only-of-type {\n",
       "        vertical-align: middle;\n",
       "    }\n",
       "\n",
       "    .dataframe tbody tr th {\n",
       "        vertical-align: top;\n",
       "    }\n",
       "\n",
       "    .dataframe thead th {\n",
       "        text-align: right;\n",
       "    }\n",
       "</style>\n",
       "<table border=\"1\" class=\"dataframe\">\n",
       "  <thead>\n",
       "    <tr style=\"text-align: right;\">\n",
       "      <th></th>\n",
       "      <th>x</th>\n",
       "      <th>y</th>\n",
       "    </tr>\n",
       "  </thead>\n",
       "  <tbody>\n",
       "    <tr>\n",
       "      <th>0</th>\n",
       "      <td>4</td>\n",
       "      <td>34</td>\n",
       "    </tr>\n",
       "    <tr>\n",
       "      <th>1</th>\n",
       "      <td>7</td>\n",
       "      <td>49</td>\n",
       "    </tr>\n",
       "    <tr>\n",
       "      <th>2</th>\n",
       "      <td>2</td>\n",
       "      <td>21</td>\n",
       "    </tr>\n",
       "    <tr>\n",
       "      <th>3</th>\n",
       "      <td>9</td>\n",
       "      <td>27</td>\n",
       "    </tr>\n",
       "    <tr>\n",
       "      <th>4</th>\n",
       "      <td>21</td>\n",
       "      <td>32</td>\n",
       "    </tr>\n",
       "    <tr>\n",
       "      <th>5</th>\n",
       "      <td>6</td>\n",
       "      <td>26</td>\n",
       "    </tr>\n",
       "    <tr>\n",
       "      <th>6</th>\n",
       "      <td>37</td>\n",
       "      <td>14</td>\n",
       "    </tr>\n",
       "    <tr>\n",
       "      <th>7</th>\n",
       "      <td>13</td>\n",
       "      <td>15</td>\n",
       "    </tr>\n",
       "    <tr>\n",
       "      <th>8</th>\n",
       "      <td>37</td>\n",
       "      <td>43</td>\n",
       "    </tr>\n",
       "    <tr>\n",
       "      <th>9</th>\n",
       "      <td>7</td>\n",
       "      <td>46</td>\n",
       "    </tr>\n",
       "    <tr>\n",
       "      <th>10</th>\n",
       "      <td>15</td>\n",
       "      <td>36</td>\n",
       "    </tr>\n",
       "    <tr>\n",
       "      <th>11</th>\n",
       "      <td>21</td>\n",
       "      <td>15</td>\n",
       "    </tr>\n",
       "    <tr>\n",
       "      <th>12</th>\n",
       "      <td>40</td>\n",
       "      <td>5</td>\n",
       "    </tr>\n",
       "    <tr>\n",
       "      <th>13</th>\n",
       "      <td>19</td>\n",
       "      <td>41</td>\n",
       "    </tr>\n",
       "    <tr>\n",
       "      <th>14</th>\n",
       "      <td>2</td>\n",
       "      <td>5</td>\n",
       "    </tr>\n",
       "    <tr>\n",
       "      <th>15</th>\n",
       "      <td>7</td>\n",
       "      <td>23</td>\n",
       "    </tr>\n",
       "    <tr>\n",
       "      <th>16</th>\n",
       "      <td>23</td>\n",
       "      <td>17</td>\n",
       "    </tr>\n",
       "    <tr>\n",
       "      <th>17</th>\n",
       "      <td>35</td>\n",
       "      <td>29</td>\n",
       "    </tr>\n",
       "    <tr>\n",
       "      <th>18</th>\n",
       "      <td>19</td>\n",
       "      <td>21</td>\n",
       "    </tr>\n",
       "    <tr>\n",
       "      <th>19</th>\n",
       "      <td>44</td>\n",
       "      <td>21</td>\n",
       "    </tr>\n",
       "    <tr>\n",
       "      <th>20</th>\n",
       "      <td>32</td>\n",
       "      <td>22</td>\n",
       "    </tr>\n",
       "    <tr>\n",
       "      <th>21</th>\n",
       "      <td>38</td>\n",
       "      <td>48</td>\n",
       "    </tr>\n",
       "    <tr>\n",
       "      <th>22</th>\n",
       "      <td>31</td>\n",
       "      <td>13</td>\n",
       "    </tr>\n",
       "    <tr>\n",
       "      <th>23</th>\n",
       "      <td>26</td>\n",
       "      <td>6</td>\n",
       "    </tr>\n",
       "    <tr>\n",
       "      <th>24</th>\n",
       "      <td>18</td>\n",
       "      <td>31</td>\n",
       "    </tr>\n",
       "    <tr>\n",
       "      <th>25</th>\n",
       "      <td>25</td>\n",
       "      <td>4</td>\n",
       "    </tr>\n",
       "    <tr>\n",
       "      <th>26</th>\n",
       "      <td>4</td>\n",
       "      <td>1</td>\n",
       "    </tr>\n",
       "    <tr>\n",
       "      <th>27</th>\n",
       "      <td>43</td>\n",
       "      <td>35</td>\n",
       "    </tr>\n",
       "    <tr>\n",
       "      <th>28</th>\n",
       "      <td>17</td>\n",
       "      <td>39</td>\n",
       "    </tr>\n",
       "    <tr>\n",
       "      <th>29</th>\n",
       "      <td>21</td>\n",
       "      <td>40</td>\n",
       "    </tr>\n",
       "  </tbody>\n",
       "</table>\n",
       "</div>"
      ],
      "text/plain": [
       "     x   y\n",
       "0    4  34\n",
       "1    7  49\n",
       "2    2  21\n",
       "3    9  27\n",
       "4   21  32\n",
       "5    6  26\n",
       "6   37  14\n",
       "7   13  15\n",
       "8   37  43\n",
       "9    7  46\n",
       "10  15  36\n",
       "11  21  15\n",
       "12  40   5\n",
       "13  19  41\n",
       "14   2   5\n",
       "15   7  23\n",
       "16  23  17\n",
       "17  35  29\n",
       "18  19  21\n",
       "19  44  21\n",
       "20  32  22\n",
       "21  38  48\n",
       "22  31  13\n",
       "23  26   6\n",
       "24  18  31\n",
       "25  25   4\n",
       "26   4   1\n",
       "27  43  35\n",
       "28  17  39\n",
       "29  21  40"
      ]
     },
     "execution_count": 57,
     "metadata": {},
     "output_type": "execute_result"
    }
   ],
   "source": [
    "pd.DataFrame(list(zip(x,y)), columns=['x','y'])"
   ]
  },
  {
   "cell_type": "markdown",
   "metadata": {},
   "source": [
    "## 스피어만 상관계수"
   ]
  },
  {
   "cell_type": "code",
   "execution_count": 35,
   "metadata": {},
   "outputs": [],
   "source": [
    "# pip install scikit-learn"
   ]
  },
  {
   "cell_type": "code",
   "execution_count": 36,
   "metadata": {},
   "outputs": [],
   "source": [
    "# (범주형-ordinal(순서형)인 것을) 수치형으로 바꿔주는 인코딩 방식 중 하나로 쓰이기도 함. 거리가 발생함"
   ]
  },
  {
   "cell_type": "code",
   "execution_count": 37,
   "metadata": {},
   "outputs": [
    {
     "data": {
      "text/html": [
       "<div>\n",
       "<style scoped>\n",
       "    .dataframe tbody tr th:only-of-type {\n",
       "        vertical-align: middle;\n",
       "    }\n",
       "\n",
       "    .dataframe tbody tr th {\n",
       "        vertical-align: top;\n",
       "    }\n",
       "\n",
       "    .dataframe thead th {\n",
       "        text-align: right;\n",
       "    }\n",
       "</style>\n",
       "<table border=\"1\" class=\"dataframe\">\n",
       "  <thead>\n",
       "    <tr style=\"text-align: right;\">\n",
       "      <th></th>\n",
       "      <th>년도</th>\n",
       "      <th>발생</th>\n",
       "      <th>검거</th>\n",
       "      <th>검거율</th>\n",
       "      <th>살인 발생</th>\n",
       "      <th>살인 검거</th>\n",
       "      <th>강도 발생</th>\n",
       "      <th>강도 검거</th>\n",
       "      <th>강간 발생</th>\n",
       "      <th>강간 검거</th>\n",
       "      <th>절도 발생</th>\n",
       "      <th>절도 검거</th>\n",
       "      <th>폭력 발생</th>\n",
       "      <th>폭력 검거</th>\n",
       "    </tr>\n",
       "  </thead>\n",
       "  <tbody>\n",
       "    <tr>\n",
       "      <th>0</th>\n",
       "      <td>2019</td>\n",
       "      <td>13859</td>\n",
       "      <td>11597</td>\n",
       "      <td>83.7</td>\n",
       "      <td>22</td>\n",
       "      <td>21</td>\n",
       "      <td>25</td>\n",
       "      <td>26</td>\n",
       "      <td>689</td>\n",
       "      <td>650</td>\n",
       "      <td>4675</td>\n",
       "      <td>3155</td>\n",
       "      <td>8448</td>\n",
       "      <td>7745</td>\n",
       "    </tr>\n",
       "    <tr>\n",
       "      <th>1</th>\n",
       "      <td>2018</td>\n",
       "      <td>14094</td>\n",
       "      <td>11980</td>\n",
       "      <td>85.0</td>\n",
       "      <td>25</td>\n",
       "      <td>24</td>\n",
       "      <td>16</td>\n",
       "      <td>16</td>\n",
       "      <td>699</td>\n",
       "      <td>665</td>\n",
       "      <td>4300</td>\n",
       "      <td>3048</td>\n",
       "      <td>9054</td>\n",
       "      <td>8227</td>\n",
       "    </tr>\n",
       "    <tr>\n",
       "      <th>2</th>\n",
       "      <td>2017</td>\n",
       "      <td>16187</td>\n",
       "      <td>13540</td>\n",
       "      <td>83.6</td>\n",
       "      <td>32</td>\n",
       "      <td>32</td>\n",
       "      <td>27</td>\n",
       "      <td>26</td>\n",
       "      <td>627</td>\n",
       "      <td>591</td>\n",
       "      <td>5248</td>\n",
       "      <td>3628</td>\n",
       "      <td>10253</td>\n",
       "      <td>9263</td>\n",
       "    </tr>\n",
       "    <tr>\n",
       "      <th>3</th>\n",
       "      <td>2016</td>\n",
       "      <td>16678</td>\n",
       "      <td>14037</td>\n",
       "      <td>84.2</td>\n",
       "      <td>28</td>\n",
       "      <td>29</td>\n",
       "      <td>28</td>\n",
       "      <td>29</td>\n",
       "      <td>603</td>\n",
       "      <td>570</td>\n",
       "      <td>5166</td>\n",
       "      <td>3568</td>\n",
       "      <td>10853</td>\n",
       "      <td>9841</td>\n",
       "    </tr>\n",
       "    <tr>\n",
       "      <th>4</th>\n",
       "      <td>2015</td>\n",
       "      <td>16441</td>\n",
       "      <td>13020</td>\n",
       "      <td>79.2</td>\n",
       "      <td>33</td>\n",
       "      <td>31</td>\n",
       "      <td>35</td>\n",
       "      <td>35</td>\n",
       "      <td>577</td>\n",
       "      <td>544</td>\n",
       "      <td>5966</td>\n",
       "      <td>3740</td>\n",
       "      <td>9830</td>\n",
       "      <td>8670</td>\n",
       "    </tr>\n",
       "    <tr>\n",
       "      <th>5</th>\n",
       "      <td>2014</td>\n",
       "      <td>16487</td>\n",
       "      <td>12004</td>\n",
       "      <td>72.8</td>\n",
       "      <td>25</td>\n",
       "      <td>24</td>\n",
       "      <td>56</td>\n",
       "      <td>55</td>\n",
       "      <td>582</td>\n",
       "      <td>560</td>\n",
       "      <td>6203</td>\n",
       "      <td>2988</td>\n",
       "      <td>9621</td>\n",
       "      <td>8377</td>\n",
       "    </tr>\n",
       "  </tbody>\n",
       "</table>\n",
       "</div>"
      ],
      "text/plain": [
       "     년도     발생     검거   검거율  살인 발생  살인 검거  강도 발생  강도 검거  강간 발생  강간 검거  절도 발생  \\\n",
       "0  2019  13859  11597  83.7     22     21     25     26    689    650   4675   \n",
       "1  2018  14094  11980  85.0     25     24     16     16    699    665   4300   \n",
       "2  2017  16187  13540  83.6     32     32     27     26    627    591   5248   \n",
       "3  2016  16678  14037  84.2     28     29     28     29    603    570   5166   \n",
       "4  2015  16441  13020  79.2     33     31     35     35    577    544   5966   \n",
       "5  2014  16487  12004  72.8     25     24     56     55    582    560   6203   \n",
       "\n",
       "   절도 검거  폭력 발생  폭력 검거  \n",
       "0   3155   8448   7745  \n",
       "1   3048   9054   8227  \n",
       "2   3628  10253   9263  \n",
       "3   3568  10853   9841  \n",
       "4   3740   9830   8670  \n",
       "5   2988   9621   8377  "
      ]
     },
     "execution_count": 37,
     "metadata": {},
     "output_type": "execute_result"
    }
   ],
   "source": [
    "data.head(6)"
   ]
  },
  {
   "cell_type": "code",
   "execution_count": 38,
   "metadata": {},
   "outputs": [
    {
     "name": "stdout",
     "output_type": "stream",
     "text": [
      "<class 'pandas.core.frame.DataFrame'>\n",
      "RangeIndex: 6 entries, 0 to 5\n",
      "Data columns (total 14 columns):\n",
      " #   Column  Non-Null Count  Dtype  \n",
      "---  ------  --------------  -----  \n",
      " 0   년도      6 non-null      int64  \n",
      " 1   발생      6 non-null      int64  \n",
      " 2   검거      6 non-null      int64  \n",
      " 3   검거율     6 non-null      float64\n",
      " 4   살인 발생   6 non-null      int64  \n",
      " 5   살인 검거   6 non-null      int64  \n",
      " 6   강도 발생   6 non-null      int64  \n",
      " 7   강도 검거   6 non-null      int64  \n",
      " 8   강간 발생   6 non-null      int64  \n",
      " 9   강간 검거   6 non-null      int64  \n",
      " 10  절도 발생   6 non-null      int64  \n",
      " 11  절도 검거   6 non-null      int64  \n",
      " 12  폭력 발생   6 non-null      int64  \n",
      " 13  폭력 검거   6 non-null      int64  \n",
      "dtypes: float64(1), int64(13)\n",
      "memory usage: 800.0 bytes\n"
     ]
    }
   ],
   "source": [
    "data.info()"
   ]
  },
  {
   "cell_type": "code",
   "execution_count": 39,
   "metadata": {},
   "outputs": [
    {
     "data": {
      "text/html": [
       "<div>\n",
       "<style scoped>\n",
       "    .dataframe tbody tr th:only-of-type {\n",
       "        vertical-align: middle;\n",
       "    }\n",
       "\n",
       "    .dataframe tbody tr th {\n",
       "        vertical-align: top;\n",
       "    }\n",
       "\n",
       "    .dataframe thead th {\n",
       "        text-align: right;\n",
       "    }\n",
       "</style>\n",
       "<table border=\"1\" class=\"dataframe\">\n",
       "  <thead>\n",
       "    <tr style=\"text-align: right;\">\n",
       "      <th></th>\n",
       "      <th>년도</th>\n",
       "      <th>발생</th>\n",
       "      <th>검거</th>\n",
       "      <th>검거율</th>\n",
       "      <th>살인 발생</th>\n",
       "      <th>살인 검거</th>\n",
       "      <th>강도 발생</th>\n",
       "      <th>강도 검거</th>\n",
       "      <th>강간 발생</th>\n",
       "      <th>강간 검거</th>\n",
       "      <th>절도 발생</th>\n",
       "      <th>절도 검거</th>\n",
       "      <th>폭력 발생</th>\n",
       "      <th>폭력 검거</th>\n",
       "    </tr>\n",
       "  </thead>\n",
       "  <tbody>\n",
       "    <tr>\n",
       "      <th>count</th>\n",
       "      <td>6.000000</td>\n",
       "      <td>6.000000</td>\n",
       "      <td>6.000000</td>\n",
       "      <td>6.000000</td>\n",
       "      <td>6.00000</td>\n",
       "      <td>6.000000</td>\n",
       "      <td>6.000000</td>\n",
       "      <td>6.000000</td>\n",
       "      <td>6.000000</td>\n",
       "      <td>6.000000</td>\n",
       "      <td>6.000000</td>\n",
       "      <td>6.000000</td>\n",
       "      <td>6.000000</td>\n",
       "      <td>6.000000</td>\n",
       "    </tr>\n",
       "    <tr>\n",
       "      <th>mean</th>\n",
       "      <td>2016.500000</td>\n",
       "      <td>15624.333333</td>\n",
       "      <td>12696.333333</td>\n",
       "      <td>81.416667</td>\n",
       "      <td>27.50000</td>\n",
       "      <td>26.833333</td>\n",
       "      <td>31.166667</td>\n",
       "      <td>31.166667</td>\n",
       "      <td>629.500000</td>\n",
       "      <td>596.666667</td>\n",
       "      <td>5259.666667</td>\n",
       "      <td>3354.500000</td>\n",
       "      <td>9676.500000</td>\n",
       "      <td>8687.166667</td>\n",
       "    </tr>\n",
       "    <tr>\n",
       "      <th>std</th>\n",
       "      <td>1.870829</td>\n",
       "      <td>1288.120129</td>\n",
       "      <td>981.316802</td>\n",
       "      <td>4.684620</td>\n",
       "      <td>4.32435</td>\n",
       "      <td>4.445972</td>\n",
       "      <td>13.614943</td>\n",
       "      <td>13.197222</td>\n",
       "      <td>53.087663</td>\n",
       "      <td>49.750042</td>\n",
       "      <td>729.450387</td>\n",
       "      <td>327.737547</td>\n",
       "      <td>853.213397</td>\n",
       "      <td>756.154063</td>\n",
       "    </tr>\n",
       "    <tr>\n",
       "      <th>min</th>\n",
       "      <td>2014.000000</td>\n",
       "      <td>13859.000000</td>\n",
       "      <td>11597.000000</td>\n",
       "      <td>72.800000</td>\n",
       "      <td>22.00000</td>\n",
       "      <td>21.000000</td>\n",
       "      <td>16.000000</td>\n",
       "      <td>16.000000</td>\n",
       "      <td>577.000000</td>\n",
       "      <td>544.000000</td>\n",
       "      <td>4300.000000</td>\n",
       "      <td>2988.000000</td>\n",
       "      <td>8448.000000</td>\n",
       "      <td>7745.000000</td>\n",
       "    </tr>\n",
       "    <tr>\n",
       "      <th>25%</th>\n",
       "      <td>2015.250000</td>\n",
       "      <td>14617.250000</td>\n",
       "      <td>11986.000000</td>\n",
       "      <td>80.300000</td>\n",
       "      <td>25.00000</td>\n",
       "      <td>24.000000</td>\n",
       "      <td>25.500000</td>\n",
       "      <td>26.000000</td>\n",
       "      <td>587.250000</td>\n",
       "      <td>562.500000</td>\n",
       "      <td>4797.750000</td>\n",
       "      <td>3074.750000</td>\n",
       "      <td>9195.750000</td>\n",
       "      <td>8264.500000</td>\n",
       "    </tr>\n",
       "    <tr>\n",
       "      <th>50%</th>\n",
       "      <td>2016.500000</td>\n",
       "      <td>16314.000000</td>\n",
       "      <td>12512.000000</td>\n",
       "      <td>83.650000</td>\n",
       "      <td>26.50000</td>\n",
       "      <td>26.500000</td>\n",
       "      <td>27.500000</td>\n",
       "      <td>27.500000</td>\n",
       "      <td>615.000000</td>\n",
       "      <td>580.500000</td>\n",
       "      <td>5207.000000</td>\n",
       "      <td>3361.500000</td>\n",
       "      <td>9725.500000</td>\n",
       "      <td>8523.500000</td>\n",
       "    </tr>\n",
       "    <tr>\n",
       "      <th>75%</th>\n",
       "      <td>2017.750000</td>\n",
       "      <td>16475.500000</td>\n",
       "      <td>13410.000000</td>\n",
       "      <td>84.075000</td>\n",
       "      <td>31.00000</td>\n",
       "      <td>30.500000</td>\n",
       "      <td>33.250000</td>\n",
       "      <td>33.500000</td>\n",
       "      <td>673.500000</td>\n",
       "      <td>635.250000</td>\n",
       "      <td>5786.500000</td>\n",
       "      <td>3613.000000</td>\n",
       "      <td>10147.250000</td>\n",
       "      <td>9114.750000</td>\n",
       "    </tr>\n",
       "    <tr>\n",
       "      <th>max</th>\n",
       "      <td>2019.000000</td>\n",
       "      <td>16678.000000</td>\n",
       "      <td>14037.000000</td>\n",
       "      <td>85.000000</td>\n",
       "      <td>33.00000</td>\n",
       "      <td>32.000000</td>\n",
       "      <td>56.000000</td>\n",
       "      <td>55.000000</td>\n",
       "      <td>699.000000</td>\n",
       "      <td>665.000000</td>\n",
       "      <td>6203.000000</td>\n",
       "      <td>3740.000000</td>\n",
       "      <td>10853.000000</td>\n",
       "      <td>9841.000000</td>\n",
       "    </tr>\n",
       "  </tbody>\n",
       "</table>\n",
       "</div>"
      ],
      "text/plain": [
       "                년도            발생            검거        검거율     살인 발생  \\\n",
       "count     6.000000      6.000000      6.000000   6.000000   6.00000   \n",
       "mean   2016.500000  15624.333333  12696.333333  81.416667  27.50000   \n",
       "std       1.870829   1288.120129    981.316802   4.684620   4.32435   \n",
       "min    2014.000000  13859.000000  11597.000000  72.800000  22.00000   \n",
       "25%    2015.250000  14617.250000  11986.000000  80.300000  25.00000   \n",
       "50%    2016.500000  16314.000000  12512.000000  83.650000  26.50000   \n",
       "75%    2017.750000  16475.500000  13410.000000  84.075000  31.00000   \n",
       "max    2019.000000  16678.000000  14037.000000  85.000000  33.00000   \n",
       "\n",
       "           살인 검거      강도 발생      강도 검거       강간 발생       강간 검거        절도 발생  \\\n",
       "count   6.000000   6.000000   6.000000    6.000000    6.000000     6.000000   \n",
       "mean   26.833333  31.166667  31.166667  629.500000  596.666667  5259.666667   \n",
       "std     4.445972  13.614943  13.197222   53.087663   49.750042   729.450387   \n",
       "min    21.000000  16.000000  16.000000  577.000000  544.000000  4300.000000   \n",
       "25%    24.000000  25.500000  26.000000  587.250000  562.500000  4797.750000   \n",
       "50%    26.500000  27.500000  27.500000  615.000000  580.500000  5207.000000   \n",
       "75%    30.500000  33.250000  33.500000  673.500000  635.250000  5786.500000   \n",
       "max    32.000000  56.000000  55.000000  699.000000  665.000000  6203.000000   \n",
       "\n",
       "             절도 검거         폭력 발생        폭력 검거  \n",
       "count     6.000000      6.000000     6.000000  \n",
       "mean   3354.500000   9676.500000  8687.166667  \n",
       "std     327.737547    853.213397   756.154063  \n",
       "min    2988.000000   8448.000000  7745.000000  \n",
       "25%    3074.750000   9195.750000  8264.500000  \n",
       "50%    3361.500000   9725.500000  8523.500000  \n",
       "75%    3613.000000  10147.250000  9114.750000  \n",
       "max    3740.000000  10853.000000  9841.000000  "
      ]
     },
     "execution_count": 39,
     "metadata": {},
     "output_type": "execute_result"
    }
   ],
   "source": [
    "data.describe()"
   ]
  },
  {
   "cell_type": "markdown",
   "metadata": {},
   "source": [
    "'발생'에서 min값이 13859이므로 인덱스0이 순위0이 될 수 있겠다."
   ]
  },
  {
   "cell_type": "code",
   "execution_count": 40,
   "metadata": {},
   "outputs": [
    {
     "data": {
      "text/plain": [
       "array([[0., 0.],\n",
       "       [1., 1.],\n",
       "       [2., 4.],\n",
       "       [5., 5.],\n",
       "       [3., 3.],\n",
       "       [4., 2.]])"
      ]
     },
     "execution_count": 40,
     "metadata": {},
     "output_type": "execute_result"
    }
   ],
   "source": [
    "# 스피어만 계수는 순위합으로 도출되기 때문에, 이를 직접 구현하기 위해선 ordinalencoder로 순위를 구하고 순위합을 도출해야 함\n",
    "from sklearn.preprocessing import OrdinalEncoder\n",
    "encoder = OrdinalEncoder()\n",
    "\n",
    "result = encoder.fit_transform(data[['발생', '검거']]) #값이 커질수록 순위도 커지는 듯\n",
    "result"
   ]
  },
  {
   "cell_type": "code",
   "execution_count": 41,
   "metadata": {},
   "outputs": [
    {
     "data": {
      "text/html": [
       "<div>\n",
       "<style scoped>\n",
       "    .dataframe tbody tr th:only-of-type {\n",
       "        vertical-align: middle;\n",
       "    }\n",
       "\n",
       "    .dataframe tbody tr th {\n",
       "        vertical-align: top;\n",
       "    }\n",
       "\n",
       "    .dataframe thead th {\n",
       "        text-align: right;\n",
       "    }\n",
       "</style>\n",
       "<table border=\"1\" class=\"dataframe\">\n",
       "  <thead>\n",
       "    <tr style=\"text-align: right;\">\n",
       "      <th></th>\n",
       "      <th>발생</th>\n",
       "      <th>검거</th>\n",
       "      <th>diff</th>\n",
       "    </tr>\n",
       "  </thead>\n",
       "  <tbody>\n",
       "    <tr>\n",
       "      <th>0</th>\n",
       "      <td>0.0</td>\n",
       "      <td>0.0</td>\n",
       "      <td>0.0</td>\n",
       "    </tr>\n",
       "    <tr>\n",
       "      <th>1</th>\n",
       "      <td>1.0</td>\n",
       "      <td>1.0</td>\n",
       "      <td>0.0</td>\n",
       "    </tr>\n",
       "    <tr>\n",
       "      <th>2</th>\n",
       "      <td>2.0</td>\n",
       "      <td>4.0</td>\n",
       "      <td>-2.0</td>\n",
       "    </tr>\n",
       "    <tr>\n",
       "      <th>3</th>\n",
       "      <td>5.0</td>\n",
       "      <td>5.0</td>\n",
       "      <td>0.0</td>\n",
       "    </tr>\n",
       "    <tr>\n",
       "      <th>4</th>\n",
       "      <td>3.0</td>\n",
       "      <td>3.0</td>\n",
       "      <td>0.0</td>\n",
       "    </tr>\n",
       "    <tr>\n",
       "      <th>5</th>\n",
       "      <td>4.0</td>\n",
       "      <td>2.0</td>\n",
       "      <td>2.0</td>\n",
       "    </tr>\n",
       "  </tbody>\n",
       "</table>\n",
       "</div>"
      ],
      "text/plain": [
       "    발생   검거  diff\n",
       "0  0.0  0.0   0.0\n",
       "1  1.0  1.0   0.0\n",
       "2  2.0  4.0  -2.0\n",
       "3  5.0  5.0   0.0\n",
       "4  3.0  3.0   0.0\n",
       "5  4.0  2.0   2.0"
      ]
     },
     "execution_count": 41,
     "metadata": {},
     "output_type": "execute_result"
    }
   ],
   "source": [
    "result = pd.DataFrame(result, columns=['발생', '검거'])\n",
    "# 순위 척도의 차이를 도출하는 부분\n",
    "result['diff'] = result['발생'] - result['검거']\n",
    "result"
   ]
  },
  {
   "cell_type": "code",
   "execution_count": 42,
   "metadata": {},
   "outputs": [],
   "source": [
    "# 데이터 개수 지정\n",
    "n = len(result['diff'])\n"
   ]
  },
  {
   "cell_type": "code",
   "execution_count": 43,
   "metadata": {},
   "outputs": [
    {
     "name": "stdout",
     "output_type": "stream",
     "text": [
      "0.0\n",
      "0.0\n",
      "4.0\n",
      "0.0\n",
      "0.0\n",
      "4.0\n"
     ]
    }
   ],
   "source": [
    "for i in result['diff']:\n",
    "    sq = pow(i,2)\n",
    "    print(sq)"
   ]
  },
  {
   "cell_type": "code",
   "execution_count": 44,
   "metadata": {},
   "outputs": [
    {
     "data": {
      "text/plain": [
       "[0.0, 0.0, 4.0, 0.0, 0.0, 4.0]"
      ]
     },
     "execution_count": 44,
     "metadata": {},
     "output_type": "execute_result"
    }
   ],
   "source": [
    "[pow(i, 2) for i in result['diff'].tolist()] #.tolist는 array를 list로 만들어주는 것"
   ]
  },
  {
   "cell_type": "code",
   "execution_count": 45,
   "metadata": {},
   "outputs": [
    {
     "data": {
      "text/plain": [
       "48.0"
      ]
     },
     "execution_count": 45,
     "metadata": {},
     "output_type": "execute_result"
    }
   ],
   "source": [
    "# 스피어만 계수 산출하는 부분 (스피어만 계수 산출 공식 적용)\n",
    "sum_diff = 6 * sum([pow(i, 2) for i in result['diff'].tolist()])\n",
    "sum_diff"
   ]
  },
  {
   "cell_type": "markdown",
   "metadata": {},
   "source": [
    "![](https://thebook.io/img/006723/348.jpg)"
   ]
  },
  {
   "cell_type": "markdown",
   "metadata": {},
   "source": [
    "di = xi - yi"
   ]
  },
  {
   "cell_type": "code",
   "execution_count": 46,
   "metadata": {},
   "outputs": [
    {
     "data": {
      "text/plain": [
       "0.7714285714285715"
      ]
     },
     "execution_count": 46,
     "metadata": {},
     "output_type": "execute_result"
    }
   ],
   "source": [
    "spearman = 1 - sum_diff/(n * ((n ** 2) -1))\n",
    "spearman"
   ]
  },
  {
   "cell_type": "markdown",
   "metadata": {},
   "source": [
    "## 스피어만 상관계수의 scipy 코드"
   ]
  },
  {
   "cell_type": "code",
   "execution_count": 47,
   "metadata": {},
   "outputs": [],
   "source": [
    "# 경고 제거 (판다스가 에러 메세지를 자주 만들어 내기 때문에 이를 일단 무시하도록 설정합니다.)\n",
    "import sys\n",
    "import warnings\n",
    "\n",
    "import warnings\n",
    "warnings.filterwarnings('ignore')\n"
   ]
  },
  {
   "cell_type": "code",
   "execution_count": 48,
   "metadata": {},
   "outputs": [
    {
     "data": {
      "text/plain": [
       "<seaborn.axisgrid.PairGrid at 0x20aea6e4240>"
      ]
     },
     "execution_count": 48,
     "metadata": {},
     "output_type": "execute_result"
    },
    {
     "data": {
      "image/png": "[encoded data removed]",
      "text/plain": [
       "<Figure size 500x500 with 6 Axes>"
      ]
     },
     "metadata": {},
     "output_type": "display_data"
    }
   ],
   "source": [
    "sns.set(font=\"Malgun Gothic\", style='whitegrid', context='notebook')\n",
    "\n",
    "sns.pairplot(\n",
    "    data[['발생','검거']],\n",
    "    height =2.5)"
   ]
  },
  {
   "cell_type": "code",
   "execution_count": 49,
   "metadata": {},
   "outputs": [
    {
     "data": {
      "text/plain": [
       "<bound method IndexOpsMixin.value_counts of 0    2019\n",
       "1    2018\n",
       "2    2017\n",
       "3    2016\n",
       "4    2015\n",
       "5    2014\n",
       "Name: 년도, dtype: int64>"
      ]
     },
     "execution_count": 49,
     "metadata": {},
     "output_type": "execute_result"
    }
   ],
   "source": [
    "data['년도'].value_counts"
   ]
  },
  {
   "cell_type": "code",
   "execution_count": 50,
   "metadata": {},
   "outputs": [
    {
     "data": {
      "text/plain": [
       "<AxesSubplot:ylabel='Density'>"
      ]
     },
     "execution_count": 50,
     "metadata": {},
     "output_type": "execute_result"
    },
    {
     "data": {
      "image/png": "[encoded data removed]",
      "text/plain": [
       "<Figure size 640x480 with 1 Axes>"
      ]
     },
     "metadata": {},
     "output_type": "display_data"
    }
   ],
   "source": [
    "sns.distplot(data[\"발생\"])"
   ]
  },
  {
   "cell_type": "markdown",
   "metadata": {},
   "source": [
    "데이터가 작아서(?) 히스토그램이 안 그려진다."
   ]
  },
  {
   "cell_type": "code",
   "execution_count": 99,
   "metadata": {},
   "outputs": [
    {
     "data": {
      "text/plain": [
       "SpearmanrResult(correlation=0.7714285714285715, pvalue=0.07239650145772594)"
      ]
     },
     "execution_count": 99,
     "metadata": {},
     "output_type": "execute_result"
    }
   ],
   "source": [
    "# 스피어만 (변수가 모두 연속형이며, 정규성을 따르지 않는 경우에 사용한다)\n",
    "from scipy.stats import spearmanr\n",
    "\n",
    "spearmanr(data['발생'], data['검거'])\n",
    "\n",
    "# 정규성을 따르지 않는 경우라는 것은 어떻게 알았을까? 정규분포를 이루는 지 확인해봐야 되지않을까?"
   ]
  },
  {
   "cell_type": "code",
   "execution_count": 101,
   "metadata": {},
   "outputs": [
    {
     "name": "stdout",
     "output_type": "stream",
     "text": [
      "모집단 data 각각의 분산 값은 COV(X,X) = 2.917, COV(Y,Y) = 2.917(으)로 계산됩니다.\n",
      "모집단 data에 대한 공분산 값 : 2.25\n",
      "모집단 data에 대한 피어슨 상관계수 값 : 0.771\n",
      "Scipy로 구한 피어슨 상관계수는 0.771입니다.\n",
      "Scipy는 각 데이터의 상관계수가 유의한지 판단합니다. 위 검정의 p-value는 7.24%로 두 데이터의 연관성이 없다는 귀무가설을 5%의 유의수준으로 기각할 수 없습니다.\n",
      "\n",
      "스피어만 계수와 비교\n",
      "모집단 data 각각의 분산 값은 COV(X,X) = 1382711.222, COV(Y,Y) = 802485.556(으)로 계산됩니다.\n",
      "모집단 data에 대한 공분산 값 : 765218.722\n",
      "모집단 data에 대한 피어슨 상관계수 값 : 0.726\n",
      "Scipy로 구한 피어슨 상관계수는 0.726입니다.\n",
      "Scipy는 각 데이터의 상관계수가 유의한지 판단합니다. 위 검정의 p-value는 10.201%로 두 데이터의 연관성이 없다는 귀무가설을 5%의 유의수준으로 기각할 수 없습니다.\n"
     ]
    }
   ],
   "source": [
    "# 스피어만 계수는 순위 척도를 계산한 후에는 피어슨 계수와 구하는 공식이 동일하기 때문에 위의 피어슨 계수에 이를 입력하여도 동일한 결과를 가져옴\n",
    "# 따라서 밑에는 피어슨 계수로 값이 출력되었지만, 사실은 스피어만 계수임 (따라서 공분산 값과 분산은 확인하지 않아도 됨)\n",
    "cov_pearson(result['발생'], result['검거'], True)\n",
    "\n",
    "print('\\n스피어만 계수와 비교')\n",
    "cov_pearson(data['발생'], data['검거'], True)"
   ]
  },
  {
   "cell_type": "markdown",
   "metadata": {},
   "source": [
    "주석: 위의 문단 피어슨 상관계수 값이 아니라 스피어만 계수라는 말"
   ]
  },
  {
   "cell_type": "markdown",
   "metadata": {},
   "source": [
    "p-value 값이 다행히 스피어만 계수에서 내려갔다. 그렇지만 5% 보다 큼 ..\n",
    "스피어만과 피어슨 상관계수 비슷하다."
   ]
  },
  {
   "cell_type": "code",
   "execution_count": 4,
   "metadata": {},
   "outputs": [],
   "source": [
    "import numpy as np\n",
    "import pandas as pd"
   ]
  },
  {
   "cell_type": "code",
   "execution_count": 5,
   "metadata": {},
   "outputs": [
    {
     "name": "stdout",
     "output_type": "stream",
     "text": [
      "x1 : [14 17 18 18 17 19 17 10  2 12]\n",
      "y1 : [ 9 12 17  7  9 15 17 12  2  3]\n",
      "\n",
      "smaple1 dataframe은 다음과 같습니다.\n"
     ]
    },
    {
     "data": {
      "text/html": [
       "<div>\n",
       "<style scoped>\n",
       "    .dataframe tbody tr th:only-of-type {\n",
       "        vertical-align: middle;\n",
       "    }\n",
       "\n",
       "    .dataframe tbody tr th {\n",
       "        vertical-align: top;\n",
       "    }\n",
       "\n",
       "    .dataframe thead th {\n",
       "        text-align: right;\n",
       "    }\n",
       "</style>\n",
       "<table border=\"1\" class=\"dataframe\">\n",
       "  <thead>\n",
       "    <tr style=\"text-align: right;\">\n",
       "      <th></th>\n",
       "      <th>x</th>\n",
       "      <th>y</th>\n",
       "    </tr>\n",
       "  </thead>\n",
       "  <tbody>\n",
       "    <tr>\n",
       "      <th>0</th>\n",
       "      <td>14</td>\n",
       "      <td>9</td>\n",
       "    </tr>\n",
       "    <tr>\n",
       "      <th>1</th>\n",
       "      <td>17</td>\n",
       "      <td>12</td>\n",
       "    </tr>\n",
       "    <tr>\n",
       "      <th>2</th>\n",
       "      <td>18</td>\n",
       "      <td>17</td>\n",
       "    </tr>\n",
       "    <tr>\n",
       "      <th>3</th>\n",
       "      <td>18</td>\n",
       "      <td>7</td>\n",
       "    </tr>\n",
       "    <tr>\n",
       "      <th>4</th>\n",
       "      <td>17</td>\n",
       "      <td>9</td>\n",
       "    </tr>\n",
       "    <tr>\n",
       "      <th>5</th>\n",
       "      <td>19</td>\n",
       "      <td>15</td>\n",
       "    </tr>\n",
       "    <tr>\n",
       "      <th>6</th>\n",
       "      <td>17</td>\n",
       "      <td>17</td>\n",
       "    </tr>\n",
       "    <tr>\n",
       "      <th>7</th>\n",
       "      <td>10</td>\n",
       "      <td>12</td>\n",
       "    </tr>\n",
       "    <tr>\n",
       "      <th>8</th>\n",
       "      <td>2</td>\n",
       "      <td>2</td>\n",
       "    </tr>\n",
       "    <tr>\n",
       "      <th>9</th>\n",
       "      <td>12</td>\n",
       "      <td>3</td>\n",
       "    </tr>\n",
       "  </tbody>\n",
       "</table>\n",
       "</div>"
      ],
      "text/plain": [
       "    x   y\n",
       "0  14   9\n",
       "1  17  12\n",
       "2  18  17\n",
       "3  18   7\n",
       "4  17   9\n",
       "5  19  15\n",
       "6  17  17\n",
       "7  10  12\n",
       "8   2   2\n",
       "9  12   3"
      ]
     },
     "execution_count": 5,
     "metadata": {},
     "output_type": "execute_result"
    }
   ],
   "source": [
    "# 랜덤한 데이터 형성 (시드 부여)\n",
    "np.random.seed(2022)\n",
    "\n",
    "x1 = np.random.randint(1,20,10)\n",
    "y1 = np.random.randint(1,20,10)\n",
    "\n",
    "print('x1 :',x1)\n",
    "print('y1 :',y1)\n",
    "\n",
    "sample1 = pd.DataFrame(list(zip(x1,y1)), columns=['x','y'])\n",
    "print('\\nsmaple1 dataframe은 다음과 같습니다.')\n",
    "sample1"
   ]
  },
  {
   "cell_type": "code",
   "execution_count": null,
   "metadata": {},
   "outputs": [],
   "source": [
    "sample1['rank_x'] = pd.DataFrame(sample1['x'].rank()) \n",
    "#rank는 ordinalencoder와 마찬가지로 오름차순. 다른 게 \n",
    "# x의 값이 같은 것들로 순위가 .x몇도 보인다.\n",
    "sample1['rank_y'] = pd.DataFrame(sample1['y'].rank())\n",
    "sample1['diff'] = sample1['rank_x'] - sample1['rank_y']\n",
    "sample1['d^2'] = sample1['diff'] ** 2\n",
    "\n",
    "sample1"
   ]
  },
  {
   "cell_type": "code",
   "execution_count": null,
   "metadata": {},
   "outputs": [],
   "source": [
    "n = len(sample1['d^2'])\n",
    "sq_distance = 6 * sample1['d^2'].sum()\n",
    "spearman = 1 - sq_distance / (n * ( n ** 2 - 1))\n",
    "spearman"
   ]
  },
  {
   "cell_type": "code",
   "execution_count": 7,
   "metadata": {},
   "outputs": [
    {
     "data": {
      "text/plain": [
       "SpearmanrResult(correlation=0.5559113444061977, pvalue=0.09519504230496476)"
      ]
     },
     "execution_count": 7,
     "metadata": {},
     "output_type": "execute_result"
    }
   ],
   "source": [
    "# 스피어만 (변수가 모두 연속형이며, 정규성을 따르지 않는 경우에 사용한다)\n",
    "from scipy.stats import spearmanr\n",
    "\n",
    "spearmanr(sample1['x'], sample1['y'])"
   ]
  },
  {
   "cell_type": "code",
   "execution_count": 6,
   "metadata": {},
   "outputs": [
    {
     "data": {
      "text/html": [
       "<div>\n",
       "<style scoped>\n",
       "    .dataframe tbody tr th:only-of-type {\n",
       "        vertical-align: middle;\n",
       "    }\n",
       "\n",
       "    .dataframe tbody tr th {\n",
       "        vertical-align: top;\n",
       "    }\n",
       "\n",
       "    .dataframe thead th {\n",
       "        text-align: right;\n",
       "    }\n",
       "</style>\n",
       "<table border=\"1\" class=\"dataframe\">\n",
       "  <thead>\n",
       "    <tr style=\"text-align: right;\">\n",
       "      <th></th>\n",
       "      <th>y</th>\n",
       "      <th>x</th>\n",
       "    </tr>\n",
       "  </thead>\n",
       "  <tbody>\n",
       "    <tr>\n",
       "      <th>y</th>\n",
       "      <td>1.000000</td>\n",
       "      <td>0.555911</td>\n",
       "    </tr>\n",
       "    <tr>\n",
       "      <th>x</th>\n",
       "      <td>0.555911</td>\n",
       "      <td>1.000000</td>\n",
       "    </tr>\n",
       "  </tbody>\n",
       "</table>\n",
       "</div>"
      ],
      "text/plain": [
       "          y         x\n",
       "y  1.000000  0.555911\n",
       "x  0.555911  1.000000"
      ]
     },
     "execution_count": 6,
     "metadata": {},
     "output_type": "execute_result"
    }
   ],
   "source": [
    "sample1[{'x','y'}].corr(method='spearman')"
   ]
  }
 ],
 "metadata": {
  "kernelspec": {
   "display_name": "Python 3.7.1 64-bit",
   "language": "python",
   "name": "python3"
  },
  "language_info": {
   "codemirror_mode": {
    "name": "ipython",
    "version": 3
   },
   "file_extension": ".py",
   "mimetype": "text/x-python",
   "name": "python",
   "nbconvert_exporter": "python",
   "pygments_lexer": "ipython3",
   "version": "3.7.1"
  },
  "orig_nbformat": 4,
  "vscode": {
   "interpreter": {
    "hash": "31f8360559af503f7d1219287c80e0cc362e8a430fe9b8335f384415946613ec"
   }
  }
 },
 "nbformat": 4,
 "nbformat_minor": 2
}
