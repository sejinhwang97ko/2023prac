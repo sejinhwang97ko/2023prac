{
 "cells": [
  {
   "cell_type": "code",
   "execution_count": 1,
   "metadata": {},
   "outputs": [],
   "source": [
    "#pip install pandas"
   ]
  },
  {
   "cell_type": "code",
   "execution_count": 2,
   "metadata": {},
   "outputs": [],
   "source": [
    "#pip install matplotlib"
   ]
  },
  {
   "cell_type": "code",
   "execution_count": 3,
   "metadata": {},
   "outputs": [],
   "source": [
    "#pip install seaborn"
   ]
  },
  {
   "cell_type": "code",
   "execution_count": 4,
   "metadata": {},
   "outputs": [],
   "source": [
    "import pandas as pd\n",
    "import numpy as np\n",
    "\n",
    "# 시각화\n",
    "import matplotlib.pyplot as plt\n",
    "import seaborn as sns\n",
    "#import scipy as sp\n",
    "\n",
    "# 한글폰트 출력 가능 코드\n",
    "#from matplotlib import rc\n",
    "plt.rcParams['font.family'] = 'Malgun Gothic'\n",
    "\n",
    "# 마이너스 깨짐 방지\n",
    "#plt.rcParams['axes.unicode_minus'] = False"
   ]
  },
  {
   "cell_type": "code",
   "execution_count": 5,
   "metadata": {},
   "outputs": [
    {
     "data": {
      "text/html": [
       "<div>\n",
       "<style scoped>\n",
       "    .dataframe tbody tr th:only-of-type {\n",
       "        vertical-align: middle;\n",
       "    }\n",
       "\n",
       "    .dataframe tbody tr th {\n",
       "        vertical-align: top;\n",
       "    }\n",
       "\n",
       "    .dataframe thead th {\n",
       "        text-align: right;\n",
       "    }\n",
       "</style>\n",
       "<table border=\"1\" class=\"dataframe\">\n",
       "  <thead>\n",
       "    <tr style=\"text-align: right;\">\n",
       "      <th></th>\n",
       "      <th>년도</th>\n",
       "      <th>발생</th>\n",
       "      <th>검거</th>\n",
       "      <th>검거율</th>\n",
       "      <th>살인 발생</th>\n",
       "      <th>살인 검거</th>\n",
       "      <th>강도 발생</th>\n",
       "      <th>강도 검거</th>\n",
       "      <th>강간 발생</th>\n",
       "      <th>강간 검거</th>\n",
       "      <th>절도 발생</th>\n",
       "      <th>절도 검거</th>\n",
       "      <th>폭력 발생</th>\n",
       "      <th>폭력 검거</th>\n",
       "    </tr>\n",
       "  </thead>\n",
       "  <tbody>\n",
       "    <tr>\n",
       "      <th>0</th>\n",
       "      <td>2019</td>\n",
       "      <td>13859</td>\n",
       "      <td>11597</td>\n",
       "      <td>83.7</td>\n",
       "      <td>22</td>\n",
       "      <td>21</td>\n",
       "      <td>25</td>\n",
       "      <td>26</td>\n",
       "      <td>689</td>\n",
       "      <td>650</td>\n",
       "      <td>4675</td>\n",
       "      <td>3155</td>\n",
       "      <td>8448</td>\n",
       "      <td>7745</td>\n",
       "    </tr>\n",
       "    <tr>\n",
       "      <th>1</th>\n",
       "      <td>2018</td>\n",
       "      <td>14094</td>\n",
       "      <td>11980</td>\n",
       "      <td>85.0</td>\n",
       "      <td>25</td>\n",
       "      <td>24</td>\n",
       "      <td>16</td>\n",
       "      <td>16</td>\n",
       "      <td>699</td>\n",
       "      <td>665</td>\n",
       "      <td>4300</td>\n",
       "      <td>3048</td>\n",
       "      <td>9054</td>\n",
       "      <td>8227</td>\n",
       "    </tr>\n",
       "    <tr>\n",
       "      <th>2</th>\n",
       "      <td>2017</td>\n",
       "      <td>16187</td>\n",
       "      <td>13540</td>\n",
       "      <td>83.6</td>\n",
       "      <td>32</td>\n",
       "      <td>32</td>\n",
       "      <td>27</td>\n",
       "      <td>26</td>\n",
       "      <td>627</td>\n",
       "      <td>591</td>\n",
       "      <td>5248</td>\n",
       "      <td>3628</td>\n",
       "      <td>10253</td>\n",
       "      <td>9263</td>\n",
       "    </tr>\n",
       "    <tr>\n",
       "      <th>3</th>\n",
       "      <td>2016</td>\n",
       "      <td>16678</td>\n",
       "      <td>14037</td>\n",
       "      <td>84.2</td>\n",
       "      <td>28</td>\n",
       "      <td>29</td>\n",
       "      <td>28</td>\n",
       "      <td>29</td>\n",
       "      <td>603</td>\n",
       "      <td>570</td>\n",
       "      <td>5166</td>\n",
       "      <td>3568</td>\n",
       "      <td>10853</td>\n",
       "      <td>9841</td>\n",
       "    </tr>\n",
       "    <tr>\n",
       "      <th>4</th>\n",
       "      <td>2015</td>\n",
       "      <td>16441</td>\n",
       "      <td>13020</td>\n",
       "      <td>79.2</td>\n",
       "      <td>33</td>\n",
       "      <td>31</td>\n",
       "      <td>35</td>\n",
       "      <td>35</td>\n",
       "      <td>577</td>\n",
       "      <td>544</td>\n",
       "      <td>5966</td>\n",
       "      <td>3740</td>\n",
       "      <td>9830</td>\n",
       "      <td>8670</td>\n",
       "    </tr>\n",
       "    <tr>\n",
       "      <th>5</th>\n",
       "      <td>2014</td>\n",
       "      <td>16487</td>\n",
       "      <td>12004</td>\n",
       "      <td>72.8</td>\n",
       "      <td>25</td>\n",
       "      <td>24</td>\n",
       "      <td>56</td>\n",
       "      <td>55</td>\n",
       "      <td>582</td>\n",
       "      <td>560</td>\n",
       "      <td>6203</td>\n",
       "      <td>2988</td>\n",
       "      <td>9621</td>\n",
       "      <td>8377</td>\n",
       "    </tr>\n",
       "  </tbody>\n",
       "</table>\n",
       "</div>"
      ],
      "text/plain": [
       "     년도     발생     검거   검거율  살인 발생  살인 검거  강도 발생  강도 검거  강간 발생  강간 검거  절도 발생  \\\n",
       "0  2019  13859  11597  83.7     22     21     25     26    689    650   4675   \n",
       "1  2018  14094  11980  85.0     25     24     16     16    699    665   4300   \n",
       "2  2017  16187  13540  83.6     32     32     27     26    627    591   5248   \n",
       "3  2016  16678  14037  84.2     28     29     28     29    603    570   5166   \n",
       "4  2015  16441  13020  79.2     33     31     35     35    577    544   5966   \n",
       "5  2014  16487  12004  72.8     25     24     56     55    582    560   6203   \n",
       "\n",
       "   절도 검거  폭력 발생  폭력 검거  \n",
       "0   3155   8448   7745  \n",
       "1   3048   9054   8227  \n",
       "2   3628  10253   9263  \n",
       "3   3568  10853   9841  \n",
       "4   3740   9830   8670  \n",
       "5   2988   9621   8377  "
      ]
     },
     "execution_count": 5,
     "metadata": {},
     "output_type": "execute_result"
    }
   ],
   "source": [
    "data = pd.read_csv(\"../ub_dataset/경찰청 강원도경찰청_5대범죄 발생 및 검거 현황_20191231.csv\")\n",
    "data"
   ]
  },
  {
   "cell_type": "code",
   "execution_count": 6,
   "metadata": {},
   "outputs": [
    {
     "name": "stdout",
     "output_type": "stream",
     "text": [
      "<class 'pandas.core.frame.DataFrame'>\n",
      "RangeIndex: 6 entries, 0 to 5\n",
      "Data columns (total 14 columns):\n",
      " #   Column  Non-Null Count  Dtype  \n",
      "---  ------  --------------  -----  \n",
      " 0   년도      6 non-null      int64  \n",
      " 1   발생      6 non-null      int64  \n",
      " 2   검거      6 non-null      int64  \n",
      " 3   검거율     6 non-null      float64\n",
      " 4   살인 발생   6 non-null      int64  \n",
      " 5   살인 검거   6 non-null      int64  \n",
      " 6   강도 발생   6 non-null      int64  \n",
      " 7   강도 검거   6 non-null      int64  \n",
      " 8   강간 발생   6 non-null      int64  \n",
      " 9   강간 검거   6 non-null      int64  \n",
      " 10  절도 발생   6 non-null      int64  \n",
      " 11  절도 검거   6 non-null      int64  \n",
      " 12  폭력 발생   6 non-null      int64  \n",
      " 13  폭력 검거   6 non-null      int64  \n",
      "dtypes: float64(1), int64(13)\n",
      "memory usage: 800.0 bytes\n"
     ]
    }
   ],
   "source": [
    "data.info()"
   ]
  },
  {
   "cell_type": "code",
   "execution_count": 7,
   "metadata": {},
   "outputs": [
    {
     "data": {
      "image/png": "[encoded data removed]",
      "text/plain": [
       "<Figure size 500x500 with 6 Axes>"
      ]
     },
     "metadata": {},
     "output_type": "display_data"
    }
   ],
   "source": [
    "# 상관분석에 앞서 먼저 시각화를 이용하여 상관성을 육안으로 확인해본다.\n",
    "sub = data[['발생', '검거']] #[{'발생', '검거'}]\n",
    "\n",
    "# 각 데이터의 히스토그램과 산점도를 도출(산점도에는 회귀선까지 구현)\n",
    "sns.pairplot(sub, kind='reg')\n",
    "plt.show()"
   ]
  },
  {
   "cell_type": "code",
   "execution_count": 8,
   "metadata": {},
   "outputs": [
    {
     "data": {
      "text/plain": [
       "93746"
      ]
     },
     "execution_count": 8,
     "metadata": {},
     "output_type": "execute_result"
    }
   ],
   "source": [
    "data['발생'].sum() #np.sum(data['발생'])"
   ]
  },
  {
   "cell_type": "code",
   "execution_count": 9,
   "metadata": {},
   "outputs": [
    {
     "data": {
      "text/plain": [
       "15624.333333333334"
      ]
     },
     "execution_count": 9,
     "metadata": {},
     "output_type": "execute_result"
    }
   ],
   "source": [
    "data['발생'].mean() #np.sum(data['발생'])/len(data['발생'])"
   ]
  },
  {
   "cell_type": "code",
   "execution_count": 10,
   "metadata": {},
   "outputs": [],
   "source": [
    "# 평균\n",
    "mu_1 = data['발생'].mean()\n",
    "mu_2 = data['검거'].mean()"
   ]
  },
  {
   "cell_type": "code",
   "execution_count": 11,
   "metadata": {},
   "outputs": [
    {
     "data": {
      "text/plain": [
       "8296267.333333333"
      ]
     },
     "execution_count": 11,
     "metadata": {},
     "output_type": "execute_result"
    }
   ],
   "source": [
    "np.sum([pow(i - mu_1, 2) for i in data['발생']])"
   ]
  },
  {
   "cell_type": "code",
   "execution_count": 21,
   "metadata": {},
   "outputs": [
    {
     "data": {
      "text/plain": [
       "8296267.333333333"
      ]
     },
     "execution_count": 21,
     "metadata": {},
     "output_type": "execute_result"
    }
   ],
   "source": [
    "def sumv(x):\n",
    "    result = pow(x-mu_1,2)\n",
    "    return result\n",
    "\n",
    "data['발생'].apply(sumv).sum()"
   ]
  },
  {
   "cell_type": "code",
   "execution_count": 13,
   "metadata": {},
   "outputs": [
    {
     "data": {
      "text/plain": [
       "8296267.333333333"
      ]
     },
     "execution_count": 13,
     "metadata": {},
     "output_type": "execute_result"
    }
   ],
   "source": [
    "np.sum([pow(i - mu_1, 2) for i in data['발생']])"
   ]
  },
  {
   "cell_type": "code",
   "execution_count": 22,
   "metadata": {},
   "outputs": [],
   "source": [
    "#분산(잔차의 제곱 합의 평균), 표준편차(분산의 제곱근)\n",
    "var_1 = np.sum([pow(i - mu_1, 2) for i in data['발생']]) / (len(data['발생']))\n",
    "var_2 = np.sum([pow(i - mu_2, 2) for i in data['검거']]) / (len(data['검거']))\n",
    "std_1 = var_1 ** 0.5\n",
    "std_2 = var_2 ** 0.5"
   ]
  },
  {
   "cell_type": "code",
   "execution_count": 24,
   "metadata": {},
   "outputs": [
    {
     "data": {
      "text/plain": [
       "0   -1765.333333\n",
       "1   -1530.333333\n",
       "2     562.666667\n",
       "3    1053.666667\n",
       "4     816.666667\n",
       "5     862.666667\n",
       "Name: 발생, dtype: float64"
      ]
     },
     "execution_count": 24,
     "metadata": {},
     "output_type": "execute_result"
    }
   ],
   "source": [
    "data['발생'] - mu_1"
   ]
  },
  {
   "cell_type": "code",
   "execution_count": 25,
   "metadata": {},
   "outputs": [],
   "source": [
    "# 공분산\n",
    "covariance_ddof = sum( (data['발생'] - mu_1) * (data['검거'] - mu_2) ) / (len(data['발생']) -1)\n",
    "correlation_ddof = covariance_ddof / (std_1 * std_2) # 공분산 / (표준편차1 * 표준편차2)"
   ]
  },
  {
   "cell_type": "markdown",
   "metadata": {},
   "source": [
    "분모 발행 길이로 했는데 어차피 발행 길이나 검거 길이가 같기 때문에.."
   ]
  },
  {
   "cell_type": "markdown",
   "metadata": {},
   "source": []
  }
 ],
 "metadata": {
  "kernelspec": {
   "display_name": "Python 3.7.1 64-bit",
   "language": "python",
   "name": "python3"
  },
  "language_info": {
   "codemirror_mode": {
    "name": "ipython",
    "version": 3
   },
   "file_extension": ".py",
   "mimetype": "text/x-python",
   "name": "python",
   "nbconvert_exporter": "python",
   "pygments_lexer": "ipython3",
   "version": "3.7.1"
  },
  "orig_nbformat": 4,
  "vscode": {
   "interpreter": {
    "hash": "31f8360559af503f7d1219287c80e0cc362e8a430fe9b8335f384415946613ec"
   }
  }
 },
 "nbformat": 4,
 "nbformat_minor": 2
}
