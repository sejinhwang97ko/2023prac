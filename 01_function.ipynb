{
 "cells": [
  {
   "cell_type": "markdown",
   "metadata": {},
   "source": [
    "함수"
   ]
  },
  {
   "cell_type": "code",
   "execution_count": 1,
   "metadata": {},
   "outputs": [
    {
     "name": "stdout",
     "output_type": "stream",
     "text": [
      "Hello\n"
     ]
    }
   ],
   "source": [
    "a = \"Hello\"\n",
    "print(a)"
   ]
  },
  {
   "cell_type": "code",
   "execution_count": 3,
   "metadata": {},
   "outputs": [
    {
     "name": "stdout",
     "output_type": "stream",
     "text": [
      "HELLO\n",
      "hello\n"
     ]
    }
   ],
   "source": [
    "print(a.upper())\n",
    "print(a.lower())"
   ]
  },
  {
   "cell_type": "code",
   "execution_count": 7,
   "metadata": {},
   "outputs": [
    {
     "name": "stdout",
     "output_type": "stream",
     "text": [
      "    Hello World  bongbong  \n"
     ]
    }
   ],
   "source": [
    "b = \"    Hello World  bongbong  \"\n",
    "print(b)"
   ]
  },
  {
   "cell_type": "code",
   "execution_count": 8,
   "metadata": {},
   "outputs": [
    {
     "name": "stdout",
     "output_type": "stream",
     "text": [
      "    hELLO wORLD  BONGBONG  \n",
      "    Hello World  Bongbong  \n"
     ]
    }
   ],
   "source": [
    "print(b.swapcase())\n",
    "print(b.title())"
   ]
  },
  {
   "cell_type": "code",
   "execution_count": 12,
   "metadata": {},
   "outputs": [
    {
     "name": "stdout",
     "output_type": "stream",
     "text": [
      "    Hello World  bongbong  \n"
     ]
    },
    {
     "data": {
      "text/plain": [
       "'Hello World  bongbong  '"
      ]
     },
     "execution_count": 12,
     "metadata": {},
     "output_type": "execute_result"
    }
   ],
   "source": [
    "print(b)\n",
    "b.lstrip()"
   ]
  },
  {
   "cell_type": "code",
   "execution_count": 13,
   "metadata": {},
   "outputs": [
    {
     "data": {
      "text/plain": [
       "'    Hello World  bongbong'"
      ]
     },
     "execution_count": 13,
     "metadata": {},
     "output_type": "execute_result"
    }
   ],
   "source": [
    "b.rstrip()"
   ]
  },
  {
   "cell_type": "code",
   "execution_count": 19,
   "metadata": {},
   "outputs": [],
   "source": [
    "c = \"$$2.11$$\""
   ]
  },
  {
   "cell_type": "code",
   "execution_count": 21,
   "metadata": {},
   "outputs": [
    {
     "data": {
      "text/plain": [
       "'2.11$$'"
      ]
     },
     "execution_count": 21,
     "metadata": {},
     "output_type": "execute_result"
    }
   ],
   "source": [
    "c.lstrip('$')"
   ]
  },
  {
   "cell_type": "code",
   "execution_count": 22,
   "metadata": {},
   "outputs": [
    {
     "data": {
      "text/plain": [
       "'2.11'"
      ]
     },
     "execution_count": 22,
     "metadata": {},
     "output_type": "execute_result"
    }
   ],
   "source": [
    "c.strip('$')"
   ]
  },
  {
   "cell_type": "code",
   "execution_count": 24,
   "metadata": {},
   "outputs": [
    {
     "data": {
      "text/plain": [
       "'2.11'"
      ]
     },
     "execution_count": 24,
     "metadata": {},
     "output_type": "execute_result"
    }
   ],
   "source": [
    "d = \"$$2.$11$$\"\n",
    "d.replace('$', '')"
   ]
  },
  {
   "cell_type": "code",
   "execution_count": 26,
   "metadata": {},
   "outputs": [
    {
     "data": {
      "text/plain": [
       "'HelloWorldbongbong'"
      ]
     },
     "execution_count": 26,
     "metadata": {},
     "output_type": "execute_result"
    }
   ],
   "source": [
    "b.replace(' ', '')"
   ]
  },
  {
   "cell_type": "code",
   "execution_count": 31,
   "metadata": {},
   "outputs": [
    {
     "data": {
      "text/plain": [
       "['1', '2', '3', '4', '5']"
      ]
     },
     "execution_count": 31,
     "metadata": {},
     "output_type": "execute_result"
    }
   ],
   "source": [
    "a = \"1,2,3,4,5\"\n",
    "b = \"1 2 3 4 5\"\n",
    "a.split(\",\")\n"
   ]
  },
  {
   "cell_type": "code",
   "execution_count": 32,
   "metadata": {},
   "outputs": [
    {
     "data": {
      "text/plain": [
       "'3'"
      ]
     },
     "execution_count": 32,
     "metadata": {},
     "output_type": "execute_result"
    }
   ],
   "source": [
    "a.split(\",\")[2]"
   ]
  },
  {
   "cell_type": "code",
   "execution_count": 30,
   "metadata": {},
   "outputs": [
    {
     "data": {
      "text/plain": [
       "['1', '2', '3', '4', '5']"
      ]
     },
     "execution_count": 30,
     "metadata": {},
     "output_type": "execute_result"
    }
   ],
   "source": [
    "b.split()"
   ]
  },
  {
   "cell_type": "code",
   "execution_count": 34,
   "metadata": {},
   "outputs": [
    {
     "name": "stdout",
     "output_type": "stream",
     "text": [
      "6\n",
      "1\n"
     ]
    }
   ],
   "source": [
    "print(max(1, 3, 4, 6))\n",
    "print(min(1, 3, 4, 6))"
   ]
  },
  {
   "cell_type": "code",
   "execution_count": 36,
   "metadata": {},
   "outputs": [
    {
     "name": "stdout",
     "output_type": "stream",
     "text": [
      "Hello\n"
     ]
    }
   ],
   "source": [
    "# 함수 선언, 생성\n",
    "def func_1():\n",
    "    return \"Hello\"\n",
    "\n",
    "# 함수 호출\n",
    "print(func_1())"
   ]
  },
  {
   "cell_type": "code",
   "execution_count": 37,
   "metadata": {},
   "outputs": [
    {
     "name": "stdout",
     "output_type": "stream",
     "text": [
      "HelloWorld\n"
     ]
    }
   ],
   "source": [
    "def func_2(a,b):\n",
    "    c = a + b\n",
    "    return c\n",
    "\n",
    "print(func_2(\"Hello\", \"World\"))"
   ]
  },
  {
   "cell_type": "code",
   "execution_count": 38,
   "metadata": {},
   "outputs": [
    {
     "name": "stdout",
     "output_type": "stream",
     "text": [
      "-2\n"
     ]
    }
   ],
   "source": [
    "def func_3(a,b):\n",
    "    c = 10\n",
    "    result = a + b - 10\n",
    "    return result\n",
    "\n",
    "print(func_3(3, 5))"
   ]
  },
  {
   "cell_type": "markdown",
   "metadata": {},
   "source": [
    "- 전역 변수\n",
    "    1. 어디서든 사용이 가능한 변수\n",
    "    2. 들여쓰기를 하지 않은 공간에서 생성한 변수\n",
    "\n",
    "- 지역 변수\n",
    "    1. 특정한 구간에서만 사용이 가능한 변수\n",
    "    2. 들여쓰기가 된 공간에서 생성한 변수\n",
    "    3. 함수 안에서 만들어진 변수, 클래스 안에서 만들어진 변수 등"
   ]
  },
  {
   "cell_type": "code",
   "execution_count": 39,
   "metadata": {},
   "outputs": [
    {
     "name": "stdout",
     "output_type": "stream",
     "text": [
      "8\n"
     ]
    }
   ],
   "source": [
    "x = 3\n",
    "\n",
    "def func_4(a):\n",
    "    result = a + x\n",
    "    return result\n",
    "\n",
    "print(func_4(5))\n",
    "\n",
    "# x는 전역변수\n",
    "# a는 매개변수(지역변수)"
   ]
  },
  {
   "cell_type": "code",
   "execution_count": 41,
   "metadata": {},
   "outputs": [
    {
     "name": "stdout",
     "output_type": "stream",
     "text": [
      "6/7\n"
     ]
    }
   ],
   "source": [
    "# 매개변수에 기본값 설정\n",
    "def func_5(a, b, c=2):\n",
    "    result = a + b - c\n",
    "    return result\n",
    "\n",
    "print(func_5(5,4,3), end=\"/\")\n",
    "print(func_5(5,4))"
   ]
  },
  {
   "cell_type": "code",
   "execution_count": 44,
   "metadata": {},
   "outputs": [
    {
     "name": "stdout",
     "output_type": "stream",
     "text": [
      "8\n",
      "2\n",
      "c의 값이 잘못되었습니다.\n"
     ]
    }
   ],
   "source": [
    "#c의 값이 1이면 a와 b의 합계 return\n",
    "#c의 값이 2이면 a와 b의 차이 return\n",
    "#c가 그 외의 데이터이면 'c의 값이 잘못되었습니다' return\n",
    "def func_5(a,b,c):\n",
    "    if c == 1:\n",
    "        return a + b\n",
    "    elif c == 2:\n",
    "        return a - b\n",
    "    else:\n",
    "        return \"c의 값이 잘못되었습니다.\"\n",
    "\n",
    "print(func_5(5,3,1))\n",
    "print(func_5(5,3,2))\n",
    "print(func_5(5,3,3))"
   ]
  },
  {
   "cell_type": "code",
   "execution_count": 45,
   "metadata": {},
   "outputs": [
    {
     "name": "stdout",
     "output_type": "stream",
     "text": [
      "8\n",
      "2\n",
      "c의 값이 잘못되었습니다.\n"
     ]
    }
   ],
   "source": [
    "#c의 값이 1이면 a와 b의 합계 return\n",
    "#c의 값이 2이면 a와 b의 차이 return\n",
    "#c가 그 외의 데이터이면 'c의 값이 잘못되었습니다' return\n",
    "def func_5(a,b,c):\n",
    "    if c == 1:\n",
    "        d = a + b\n",
    "    elif c == 2:\n",
    "        d =  a - b\n",
    "    else:\n",
    "        d = \"c의 값이 잘못되었습니다.\"\n",
    "    return d\n",
    "    \n",
    "\n",
    "print(func_5(5,3,1))\n",
    "print(func_5(5,3,2))\n",
    "print(func_5(5,3,3))"
   ]
  },
  {
   "cell_type": "code",
   "execution_count": null,
   "metadata": {},
   "outputs": [],
   "source": [
    "_list = [10, 20, 30, 40]\n",
    "for i in _list:\n",
    "    print(i)"
   ]
  },
  {
   "cell_type": "code",
   "execution_count": null,
   "metadata": {},
   "outputs": [],
   "source": [
    "for i in range(0, len(_list), 1):\n",
    "    print(_list[i])"
   ]
  },
  {
   "cell_type": "code",
   "execution_count": 71,
   "metadata": {},
   "outputs": [
    {
     "name": "stdout",
     "output_type": "stream",
     "text": [
      "55\n",
      "55\n"
     ]
    }
   ],
   "source": [
    "# 1. 함수 생성( 매개변수 2개: _min, _max)\n",
    "# 2. _min 부터 _max까지 합계를 출력하는 함수\n",
    "#     1. 함수 생성 매개변수 2개를 넣어서 생성\n",
    "#     2. 매개변수 2개가 print() 함수를 이용해서 출력\n",
    "#     3. 함수 안에 반복문을 생성 _min 부터 _max 까지 반복해서 i 값을 출력\n",
    "#     4. 합계라는 변수를 하나 생성해서 0 대입\n",
    "#     5. 반복문에서 i 값을 합계라는 변수에 플러스\n",
    "#     6. 합계 리턴\n",
    "\n",
    "def sumf1(_min, _max):\n",
    "    sumv = 0\n",
    "    if _max >= _min:    \n",
    "        for i in range(_min, _max+1, 1):\n",
    "            sumv += i\n",
    "        #return sumv\n",
    "    else:\n",
    "        for i in range(_max, _min+1, 1):\n",
    "            sumv += i\n",
    "        # m = _max\n",
    "        # _max =_min\n",
    "        # _min = m\n",
    "        # return sumf(_min, _max)\n",
    "    return sumv\n",
    "\n",
    "print(sumf1(1, 10))\n",
    "print(sumf1(10, 1))\n",
    "\n"
   ]
  },
  {
   "cell_type": "code",
   "execution_count": 73,
   "metadata": {},
   "outputs": [
    {
     "name": "stdout",
     "output_type": "stream",
     "text": [
      "55\n",
      "55\n"
     ]
    }
   ],
   "source": [
    "def sumf2(_min, _max):\n",
    "    sumv = 0\n",
    "    if _max >= _min:    \n",
    "        for i in range(_min, _max+1, 1):\n",
    "            sumv += i\n",
    "        return sumv\n",
    "    else:\n",
    "        m = _max\n",
    "        _max =_min\n",
    "        _min = m\n",
    "        return sumf2(_min, _max)\n",
    "\n",
    "print(sumf2(1, 10))\n",
    "print(sumf2(10, 1))"
   ]
  },
  {
   "cell_type": "code",
   "execution_count": 75,
   "metadata": {},
   "outputs": [
    {
     "name": "stdout",
     "output_type": "stream",
     "text": [
      "55\n",
      "55\n"
     ]
    }
   ],
   "source": [
    "def sumf3(_min, _max):\n",
    "    result = 0\n",
    "    for i in range(min(_min, _max), max(_min,_max)+1):\n",
    "        result += i\n",
    "    return result\n",
    "\n",
    "print(sumf3(1, 10))\n",
    "print(sumf3(10, 1))"
   ]
  },
  {
   "cell_type": "code",
   "execution_count": 77,
   "metadata": {},
   "outputs": [
    {
     "name": "stdout",
     "output_type": "stream",
     "text": [
      "(1, 2, 3, 4, 5)\n"
     ]
    }
   ],
   "source": [
    "def func_6(*args):\n",
    "    print(args)\n",
    "\n",
    "func_6(1,2,3,4,5)"
   ]
  },
  {
   "cell_type": "code",
   "execution_count": 80,
   "metadata": {},
   "outputs": [
    {
     "data": {
      "text/plain": [
       "8"
      ]
     },
     "execution_count": 80,
     "metadata": {},
     "output_type": "execute_result"
    }
   ],
   "source": [
    "# max(), min() 함수를 생성\n",
    "# 1. 인자의 개수가 가변이다. -> *매개변수\n",
    "# 2. 각각의 항목들을 비교해서 가장 큰 숫자를 출력 -> return int형태\n",
    "# 3. 예를 들어 4개의 항목의 데이터가 대입\n",
    "#     1. 첫번째 항목과 두번째 항목을 비교해서 큰 값을 새로운 변수에 대입\n",
    "#     2. 1번 과정에서 나온 값고 세번째 항목을 비교해서 큰 값을 다시 변수에 대입\n",
    "#     3. 2번 과정에서 나온 값과 마지막 항목과 비교해서 큰 값을 다시 변수에 대입\n",
    "#     4. 최종 변수의 값을 return\n",
    "\n",
    "def custom_max(*_list):\n",
    "    result = _list[0]\n",
    "\n",
    "    for i in range(1, len(_list), 1):\n",
    "        if result < _list[i]:\n",
    "            result = _list[i]\n",
    "\n",
    "    return result\n",
    "\n",
    "custom_max(1,6,4,8,2,-100)"
   ]
  },
  {
   "cell_type": "code",
   "execution_count": 81,
   "metadata": {},
   "outputs": [
    {
     "data": {
      "text/plain": [
       "8"
      ]
     },
     "execution_count": 81,
     "metadata": {},
     "output_type": "execute_result"
    }
   ],
   "source": [
    "# max(), min() 함수를 생성\n",
    "# 1. 인자의 개수가 가변이다. -> *매개변수\n",
    "# 2. 각각의 항목들을 비교해서 가장 큰 숫자를 출력 -> return int형태\n",
    "# 3. 예를 들어 4개의 항목의 데이터가 대입\n",
    "#     1. 첫번째 항목과 두번째 항목을 비교해서 큰 값을 새로운 변수에 대입\n",
    "#     2. 1번 과정에서 나온 값고 세번째 항목을 비교해서 큰 값을 다시 변수에 대입\n",
    "#     3. 2번 과정에서 나온 값과 마지막 항목과 비교해서 큰 값을 다시 변수에 대입\n",
    "#     4. 최종 변수의 값을 return\n",
    "\n",
    "def custom_max(*_list):\n",
    "    result = _list[0]\n",
    "\n",
    "    for i in _list:\n",
    "        if result < i:\n",
    "            result = i\n",
    "\n",
    "    return result\n",
    "\n",
    "custom_max(1,6,4,8,2,-100)"
   ]
  },
  {
   "cell_type": "code",
   "execution_count": 89,
   "metadata": {},
   "outputs": [
    {
     "name": "stdout",
     "output_type": "stream",
     "text": [
      "22.0\n",
      "22.0\n"
     ]
    }
   ],
   "source": [
    "# -평균을 출력해주는 함수 생성\n",
    "#     1. 인자의 개수가 가변이다. -> *매개변수\n",
    "#     2. 받아온 인자 값들을 원소 하나씩 출력\n",
    "#     3. 각 원소들의 합계\n",
    "#         1. 합계라는 변수 생성 0을 대입\n",
    "#         2. 각 원소들의 값들은 합계에 추가\n",
    "#     4. 합계 / 인자의 개수 -> 평균이라는 변수에 대입\n",
    "#     5. 평균 값을 리턴\n",
    "\n",
    "def custom_mean(*args):\n",
    "    #print(len(args))\n",
    "    sumv = 0\n",
    "    for i in args:\n",
    "        #print(i)\n",
    "        sumv += i\n",
    "    return sumv / len(args)\n",
    "\n",
    "#print(custom_mean(1,2,3,4,5))\n",
    "\n",
    "print(custom_mean(1,2,3,4,100))\n",
    "\n",
    "#print((1+2+3+4+5)/5)\n",
    "print((1+2+3+4+100)/5)\n"
   ]
  },
  {
   "cell_type": "code",
   "execution_count": 90,
   "metadata": {},
   "outputs": [],
   "source": [
    "# 외부의 모듈을 로드\n",
    "import mod1"
   ]
  },
  {
   "cell_type": "code",
   "execution_count": 91,
   "metadata": {},
   "outputs": [
    {
     "data": {
      "text/plain": [
       "5"
      ]
     },
     "execution_count": 91,
     "metadata": {},
     "output_type": "execute_result"
    }
   ],
   "source": [
    "mod1.custom_max(1,2,3,4,5)"
   ]
  }
 ],
 "metadata": {
  "kernelspec": {
   "display_name": "Python 3.7.1 64-bit",
   "language": "python",
   "name": "python3"
  },
  "language_info": {
   "codemirror_mode": {
    "name": "ipython",
    "version": 3
   },
   "file_extension": ".py",
   "mimetype": "text/x-python",
   "name": "python",
   "nbconvert_exporter": "python",
   "pygments_lexer": "ipython3",
   "version": "3.7.1"
  },
  "orig_nbformat": 4,
  "vscode": {
   "interpreter": {
    "hash": "31f8360559af503f7d1219287c80e0cc362e8a430fe9b8335f384415946613ec"
   }
  }
 },
 "nbformat": 4,
 "nbformat_minor": 2
}
