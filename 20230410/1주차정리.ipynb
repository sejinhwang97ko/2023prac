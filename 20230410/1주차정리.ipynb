{
 "cells": [
  {
   "cell_type": "code",
   "execution_count": 1,
   "metadata": {},
   "outputs": [],
   "source": [
    "a = [1,2,3]"
   ]
  },
  {
   "cell_type": "code",
   "execution_count": 14,
   "metadata": {},
   "outputs": [
    {
     "name": "stdout",
     "output_type": "stream",
     "text": [
      "존재, 위치:  2\n"
     ]
    }
   ],
   "source": [
    "for i in a:\n",
    "    if i == 3:\n",
    "        print(\"존재, 위치: \", a.index(i))"
   ]
  },
  {
   "cell_type": "markdown",
   "metadata": {},
   "source": [
    "### 연습 문제\n",
    "1. 비어 있는 리스트를 하나 생성\n",
    "2. 함수 생성\n",
    "    - 매개 변수 1개\n",
    "    - 받아온 인자값을 비어있는 리스트에 추가\n",
    "    - 조건: 리스트 안에 해당하는 인자값이 존재하면 추가하지 않는다. 존재하지 않으면 추가\n",
    "3. input() 함수를 이용하여 2번 과정에서 만든 함수를 호출. 인자값으로 input에서 받아온 데이터를 사용"
   ]
  },
  {
   "cell_type": "code",
   "execution_count": 65,
   "metadata": {},
   "outputs": [],
   "source": [
    "list_1 = []\n",
    "def list_add(x):\n",
    "    #if x not in list_1:\n",
    "    if not(x in list_1):\n",
    "            list_1.append(x)\n",
    "    else:\n",
    "        return \"리스트에 값이 존재합니다.\"\n",
    "    return \"함수 종료\"\n"
   ]
  },
  {
   "cell_type": "code",
   "execution_count": 66,
   "metadata": {},
   "outputs": [
    {
     "data": {
      "text/plain": [
       "'함수 종료'"
      ]
     },
     "execution_count": 66,
     "metadata": {},
     "output_type": "execute_result"
    }
   ],
   "source": [
    "list_add(int(input()))"
   ]
  },
  {
   "cell_type": "code",
   "execution_count": 67,
   "metadata": {},
   "outputs": [
    {
     "data": {
      "text/plain": [
       "[1]"
      ]
     },
     "execution_count": 67,
     "metadata": {},
     "output_type": "execute_result"
    }
   ],
   "source": [
    "list_1"
   ]
  },
  {
   "cell_type": "code",
   "execution_count": null,
   "metadata": {},
   "outputs": [],
   "source": []
  }
 ],
 "metadata": {
  "kernelspec": {
   "display_name": "Python 3.7.1 64-bit",
   "language": "python",
   "name": "python3"
  },
  "language_info": {
   "codemirror_mode": {
    "name": "ipython",
    "version": 3
   },
   "file_extension": ".py",
   "mimetype": "text/x-python",
   "name": "python",
   "nbconvert_exporter": "python",
   "pygments_lexer": "ipython3",
   "version": "3.7.1"
  },
  "orig_nbformat": 4,
  "vscode": {
   "interpreter": {
    "hash": "31f8360559af503f7d1219287c80e0cc362e8a430fe9b8335f384415946613ec"
   }
  }
 },
 "nbformat": 4,
 "nbformat_minor": 2
}
