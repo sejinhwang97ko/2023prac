{
 "cells": [
  {
   "cell_type": "code",
   "execution_count": 27,
   "metadata": {},
   "outputs": [],
   "source": [
    "import pandas as pd"
   ]
  },
  {
   "cell_type": "code",
   "execution_count": 28,
   "metadata": {},
   "outputs": [
    {
     "data": {
      "text/html": [
       "<div>\n",
       "<style scoped>\n",
       "    .dataframe tbody tr th:only-of-type {\n",
       "        vertical-align: middle;\n",
       "    }\n",
       "\n",
       "    .dataframe tbody tr th {\n",
       "        vertical-align: top;\n",
       "    }\n",
       "\n",
       "    .dataframe thead th {\n",
       "        text-align: right;\n",
       "    }\n",
       "</style>\n",
       "<table border=\"1\" class=\"dataframe\">\n",
       "  <thead>\n",
       "    <tr style=\"text-align: right;\">\n",
       "      <th></th>\n",
       "      <th>Close</th>\n",
       "      <th>Open</th>\n",
       "      <th>High</th>\n",
       "      <th>Low</th>\n",
       "    </tr>\n",
       "    <tr>\n",
       "      <th>Date</th>\n",
       "      <th></th>\n",
       "      <th></th>\n",
       "      <th></th>\n",
       "      <th></th>\n",
       "    </tr>\n",
       "  </thead>\n",
       "  <tbody>\n",
       "    <tr>\n",
       "      <th>2000-01-04</th>\n",
       "      <td>1059.04</td>\n",
       "      <td>1028.33</td>\n",
       "      <td>1066.18</td>\n",
       "      <td>1016.59</td>\n",
       "    </tr>\n",
       "  </tbody>\n",
       "</table>\n",
       "</div>"
      ],
      "text/plain": [
       "              Close     Open     High      Low\n",
       "Date                                          \n",
       "2000-01-04  1059.04  1028.33  1066.18  1016.59"
      ]
     },
     "execution_count": 28,
     "metadata": {},
     "output_type": "execute_result"
    }
   ],
   "source": [
    "df = pd.read_excel(\"./kospi.xlsx\", usecols=[0,1,2,3,4], index_col='Date')\n",
    "df.head(1)"
   ]
  },
  {
   "cell_type": "code",
   "execution_count": 29,
   "metadata": {},
   "outputs": [
    {
     "data": {
      "text/html": [
       "<div>\n",
       "<style scoped>\n",
       "    .dataframe tbody tr th:only-of-type {\n",
       "        vertical-align: middle;\n",
       "    }\n",
       "\n",
       "    .dataframe tbody tr th {\n",
       "        vertical-align: top;\n",
       "    }\n",
       "\n",
       "    .dataframe thead th {\n",
       "        text-align: right;\n",
       "    }\n",
       "</style>\n",
       "<table border=\"1\" class=\"dataframe\">\n",
       "  <thead>\n",
       "    <tr style=\"text-align: right;\">\n",
       "      <th></th>\n",
       "      <th>Close</th>\n",
       "      <th>Open</th>\n",
       "      <th>High</th>\n",
       "      <th>Low</th>\n",
       "      <th>change</th>\n",
       "    </tr>\n",
       "    <tr>\n",
       "      <th>Date</th>\n",
       "      <th></th>\n",
       "      <th></th>\n",
       "      <th></th>\n",
       "      <th></th>\n",
       "      <th></th>\n",
       "    </tr>\n",
       "  </thead>\n",
       "  <tbody>\n",
       "    <tr>\n",
       "      <th>2000-01-04</th>\n",
       "      <td>1059.04</td>\n",
       "      <td>1028.33</td>\n",
       "      <td>1066.18</td>\n",
       "      <td>1016.59</td>\n",
       "      <td>49.59</td>\n",
       "    </tr>\n",
       "  </tbody>\n",
       "</table>\n",
       "</div>"
      ],
      "text/plain": [
       "              Close     Open     High      Low  change\n",
       "Date                                                  \n",
       "2000-01-04  1059.04  1028.33  1066.18  1016.59   49.59"
      ]
     },
     "execution_count": 29,
     "metadata": {},
     "output_type": "execute_result"
    }
   ],
   "source": [
    "# 변동 파생변수\n",
    "df['change'] = df['High'] - df['Low']\n",
    "df.head(1)"
   ]
  },
  {
   "cell_type": "code",
   "execution_count": 30,
   "metadata": {},
   "outputs": [
    {
     "data": {
      "text/html": [
       "<div>\n",
       "<style scoped>\n",
       "    .dataframe tbody tr th:only-of-type {\n",
       "        vertical-align: middle;\n",
       "    }\n",
       "\n",
       "    .dataframe tbody tr th {\n",
       "        vertical-align: top;\n",
       "    }\n",
       "\n",
       "    .dataframe thead th {\n",
       "        text-align: right;\n",
       "    }\n",
       "</style>\n",
       "<table border=\"1\" class=\"dataframe\">\n",
       "  <thead>\n",
       "    <tr style=\"text-align: right;\">\n",
       "      <th></th>\n",
       "      <th>Close</th>\n",
       "      <th>Open</th>\n",
       "      <th>High</th>\n",
       "      <th>Low</th>\n",
       "      <th>change</th>\n",
       "      <th>전일변동</th>\n",
       "    </tr>\n",
       "    <tr>\n",
       "      <th>Date</th>\n",
       "      <th></th>\n",
       "      <th></th>\n",
       "      <th></th>\n",
       "      <th></th>\n",
       "      <th></th>\n",
       "      <th></th>\n",
       "    </tr>\n",
       "  </thead>\n",
       "  <tbody>\n",
       "    <tr>\n",
       "      <th>2000-01-04</th>\n",
       "      <td>1059.04</td>\n",
       "      <td>1028.33</td>\n",
       "      <td>1066.18</td>\n",
       "      <td>1016.59</td>\n",
       "      <td>49.59</td>\n",
       "      <td>NaN</td>\n",
       "    </tr>\n",
       "    <tr>\n",
       "      <th>2000-01-05</th>\n",
       "      <td>986.31</td>\n",
       "      <td>1006.87</td>\n",
       "      <td>1026.52</td>\n",
       "      <td>984.05</td>\n",
       "      <td>42.47</td>\n",
       "      <td>49.59</td>\n",
       "    </tr>\n",
       "    <tr>\n",
       "      <th>2000-01-06</th>\n",
       "      <td>960.79</td>\n",
       "      <td>1013.95</td>\n",
       "      <td>1014.90</td>\n",
       "      <td>953.50</td>\n",
       "      <td>61.40</td>\n",
       "      <td>42.47</td>\n",
       "    </tr>\n",
       "    <tr>\n",
       "      <th>2000-01-07</th>\n",
       "      <td>948.65</td>\n",
       "      <td>949.17</td>\n",
       "      <td>970.16</td>\n",
       "      <td>930.84</td>\n",
       "      <td>39.32</td>\n",
       "      <td>61.40</td>\n",
       "    </tr>\n",
       "    <tr>\n",
       "      <th>2000-01-10</th>\n",
       "      <td>987.24</td>\n",
       "      <td>979.67</td>\n",
       "      <td>994.94</td>\n",
       "      <td>965.02</td>\n",
       "      <td>29.92</td>\n",
       "      <td>39.32</td>\n",
       "    </tr>\n",
       "  </tbody>\n",
       "</table>\n",
       "</div>"
      ],
      "text/plain": [
       "              Close     Open     High      Low  change   전일변동\n",
       "Date                                                         \n",
       "2000-01-04  1059.04  1028.33  1066.18  1016.59   49.59    NaN\n",
       "2000-01-05   986.31  1006.87  1026.52   984.05   42.47  49.59\n",
       "2000-01-06   960.79  1013.95  1014.90   953.50   61.40  42.47\n",
       "2000-01-07   948.65   949.17   970.16   930.84   39.32  61.40\n",
       "2000-01-10   987.24   979.67   994.94   965.02   29.92  39.32"
      ]
     },
     "execution_count": 30,
     "metadata": {},
     "output_type": "execute_result"
    }
   ],
   "source": [
    "# 전일변동\n",
    "df['전일변동'] = df['change'].shift()\n",
    "df.head()"
   ]
  },
  {
   "cell_type": "code",
   "execution_count": 31,
   "metadata": {},
   "outputs": [],
   "source": [
    "# 목표가 = 시가 + 전일변동 * 0.5\n",
    "df['목표가'] = df['Open'] + df['전일변동'] * 0.5"
   ]
  },
  {
   "cell_type": "code",
   "execution_count": 35,
   "metadata": {},
   "outputs": [
    {
     "data": {
      "text/html": [
       "<div>\n",
       "<style scoped>\n",
       "    .dataframe tbody tr th:only-of-type {\n",
       "        vertical-align: middle;\n",
       "    }\n",
       "\n",
       "    .dataframe tbody tr th {\n",
       "        vertical-align: top;\n",
       "    }\n",
       "\n",
       "    .dataframe thead th {\n",
       "        text-align: right;\n",
       "    }\n",
       "</style>\n",
       "<table border=\"1\" class=\"dataframe\">\n",
       "  <thead>\n",
       "    <tr style=\"text-align: right;\">\n",
       "      <th></th>\n",
       "      <th>Close</th>\n",
       "      <th>Open</th>\n",
       "      <th>High</th>\n",
       "      <th>Low</th>\n",
       "      <th>change</th>\n",
       "      <th>전일변동</th>\n",
       "      <th>목표가</th>\n",
       "    </tr>\n",
       "    <tr>\n",
       "      <th>Date</th>\n",
       "      <th></th>\n",
       "      <th></th>\n",
       "      <th></th>\n",
       "      <th></th>\n",
       "      <th></th>\n",
       "      <th></th>\n",
       "      <th></th>\n",
       "    </tr>\n",
       "  </thead>\n",
       "  <tbody>\n",
       "    <tr>\n",
       "      <th>2000-01-04</th>\n",
       "      <td>1059.04</td>\n",
       "      <td>1028.33</td>\n",
       "      <td>1066.18</td>\n",
       "      <td>1016.59</td>\n",
       "      <td>49.59</td>\n",
       "      <td>NaN</td>\n",
       "      <td>NaN</td>\n",
       "    </tr>\n",
       "    <tr>\n",
       "      <th>2000-01-05</th>\n",
       "      <td>986.31</td>\n",
       "      <td>1006.87</td>\n",
       "      <td>1026.52</td>\n",
       "      <td>984.05</td>\n",
       "      <td>42.47</td>\n",
       "      <td>49.59</td>\n",
       "      <td>1031.665</td>\n",
       "    </tr>\n",
       "    <tr>\n",
       "      <th>2000-01-06</th>\n",
       "      <td>960.79</td>\n",
       "      <td>1013.95</td>\n",
       "      <td>1014.90</td>\n",
       "      <td>953.50</td>\n",
       "      <td>61.40</td>\n",
       "      <td>42.47</td>\n",
       "      <td>1035.185</td>\n",
       "    </tr>\n",
       "    <tr>\n",
       "      <th>2000-01-07</th>\n",
       "      <td>948.65</td>\n",
       "      <td>949.17</td>\n",
       "      <td>970.16</td>\n",
       "      <td>930.84</td>\n",
       "      <td>39.32</td>\n",
       "      <td>61.40</td>\n",
       "      <td>979.870</td>\n",
       "    </tr>\n",
       "    <tr>\n",
       "      <th>2000-01-10</th>\n",
       "      <td>987.24</td>\n",
       "      <td>979.67</td>\n",
       "      <td>994.94</td>\n",
       "      <td>965.02</td>\n",
       "      <td>29.92</td>\n",
       "      <td>39.32</td>\n",
       "      <td>999.330</td>\n",
       "    </tr>\n",
       "    <tr>\n",
       "      <th>...</th>\n",
       "      <td>...</td>\n",
       "      <td>...</td>\n",
       "      <td>...</td>\n",
       "      <td>...</td>\n",
       "      <td>...</td>\n",
       "      <td>...</td>\n",
       "      <td>...</td>\n",
       "    </tr>\n",
       "    <tr>\n",
       "      <th>2021-08-23</th>\n",
       "      <td>3090.21</td>\n",
       "      <td>3086.81</td>\n",
       "      <td>3111.81</td>\n",
       "      <td>3064.65</td>\n",
       "      <td>47.16</td>\n",
       "      <td>73.06</td>\n",
       "      <td>3123.340</td>\n",
       "    </tr>\n",
       "    <tr>\n",
       "      <th>2021-08-24</th>\n",
       "      <td>3138.30</td>\n",
       "      <td>3119.70</td>\n",
       "      <td>3142.58</td>\n",
       "      <td>3115.23</td>\n",
       "      <td>27.35</td>\n",
       "      <td>47.16</td>\n",
       "      <td>3143.280</td>\n",
       "    </tr>\n",
       "    <tr>\n",
       "      <th>2021-08-25</th>\n",
       "      <td>3146.81</td>\n",
       "      <td>3148.13</td>\n",
       "      <td>3161.00</td>\n",
       "      <td>3124.25</td>\n",
       "      <td>36.75</td>\n",
       "      <td>27.35</td>\n",
       "      <td>3161.805</td>\n",
       "    </tr>\n",
       "    <tr>\n",
       "      <th>2021-08-26</th>\n",
       "      <td>3128.53</td>\n",
       "      <td>3151.30</td>\n",
       "      <td>3159.37</td>\n",
       "      <td>3121.04</td>\n",
       "      <td>38.33</td>\n",
       "      <td>36.75</td>\n",
       "      <td>3169.675</td>\n",
       "    </tr>\n",
       "    <tr>\n",
       "      <th>2021-08-27</th>\n",
       "      <td>3133.90</td>\n",
       "      <td>3116.29</td>\n",
       "      <td>3143.01</td>\n",
       "      <td>3106.97</td>\n",
       "      <td>36.04</td>\n",
       "      <td>38.33</td>\n",
       "      <td>3135.455</td>\n",
       "    </tr>\n",
       "  </tbody>\n",
       "</table>\n",
       "<p>5349 rows × 7 columns</p>\n",
       "</div>"
      ],
      "text/plain": [
       "              Close     Open     High      Low  change   전일변동       목표가\n",
       "Date                                                                   \n",
       "2000-01-04  1059.04  1028.33  1066.18  1016.59   49.59    NaN       NaN\n",
       "2000-01-05   986.31  1006.87  1026.52   984.05   42.47  49.59  1031.665\n",
       "2000-01-06   960.79  1013.95  1014.90   953.50   61.40  42.47  1035.185\n",
       "2000-01-07   948.65   949.17   970.16   930.84   39.32  61.40   979.870\n",
       "2000-01-10   987.24   979.67   994.94   965.02   29.92  39.32   999.330\n",
       "...             ...      ...      ...      ...     ...    ...       ...\n",
       "2021-08-23  3090.21  3086.81  3111.81  3064.65   47.16  73.06  3123.340\n",
       "2021-08-24  3138.30  3119.70  3142.58  3115.23   27.35  47.16  3143.280\n",
       "2021-08-25  3146.81  3148.13  3161.00  3124.25   36.75  27.35  3161.805\n",
       "2021-08-26  3128.53  3151.30  3159.37  3121.04   38.33  36.75  3169.675\n",
       "2021-08-27  3133.90  3116.29  3143.01  3106.97   36.04  38.33  3135.455\n",
       "\n",
       "[5349 rows x 7 columns]"
      ]
     },
     "execution_count": 35,
     "metadata": {},
     "output_type": "execute_result"
    }
   ],
   "source": [
    "df"
   ]
  },
  {
   "cell_type": "code",
   "execution_count": 42,
   "metadata": {},
   "outputs": [
    {
     "data": {
      "text/plain": [
       "1031.665"
      ]
     },
     "execution_count": 42,
     "metadata": {},
     "output_type": "execute_result"
    }
   ],
   "source": [
    "df.loc['2000-01-05','목표가']"
   ]
  },
  {
   "cell_type": "markdown",
   "metadata": {},
   "source": [
    "1. 목표가보다 고가가 높으면 목표가로 매수\n",
    "2. 수익율 -> 종가 - 목표가 / 목표가 + 1\n",
    "3. 그 외의 수익율은 1"
   ]
  },
  {
   "cell_type": "code",
   "execution_count": 45,
   "metadata": {},
   "outputs": [],
   "source": [
    "acc_rtn =1\n",
    "for i in df.index:\n",
    "    if df.loc[i,'목표가'] < df.loc[i,'High']:\n",
    "        df.loc[i,'수익율'] = (df.loc[i,'Close'] - df.loc[i,'목표가'])/ df.loc[i,'목표가'] + 1\n",
    "        \n",
    "    else:\n",
    "        df.loc[i,'수익율'] = 1\n",
    "    acc_rtn *= df.loc[i,'수익율']\n",
    "    df.loc[i, '누적수익율'] = acc_rtn\n",
    "\n",
    "    \n"
   ]
  },
  {
   "cell_type": "code",
   "execution_count": 46,
   "metadata": {},
   "outputs": [
    {
     "data": {
      "text/html": [
       "<div>\n",
       "<style scoped>\n",
       "    .dataframe tbody tr th:only-of-type {\n",
       "        vertical-align: middle;\n",
       "    }\n",
       "\n",
       "    .dataframe tbody tr th {\n",
       "        vertical-align: top;\n",
       "    }\n",
       "\n",
       "    .dataframe thead th {\n",
       "        text-align: right;\n",
       "    }\n",
       "</style>\n",
       "<table border=\"1\" class=\"dataframe\">\n",
       "  <thead>\n",
       "    <tr style=\"text-align: right;\">\n",
       "      <th></th>\n",
       "      <th>Close</th>\n",
       "      <th>Open</th>\n",
       "      <th>High</th>\n",
       "      <th>Low</th>\n",
       "      <th>change</th>\n",
       "      <th>전일변동</th>\n",
       "      <th>목표가</th>\n",
       "      <th>수익율</th>\n",
       "      <th>누적수익율</th>\n",
       "    </tr>\n",
       "    <tr>\n",
       "      <th>Date</th>\n",
       "      <th></th>\n",
       "      <th></th>\n",
       "      <th></th>\n",
       "      <th></th>\n",
       "      <th></th>\n",
       "      <th></th>\n",
       "      <th></th>\n",
       "      <th></th>\n",
       "      <th></th>\n",
       "    </tr>\n",
       "  </thead>\n",
       "  <tbody>\n",
       "    <tr>\n",
       "      <th>2000-01-04</th>\n",
       "      <td>1059.04</td>\n",
       "      <td>1028.33</td>\n",
       "      <td>1066.18</td>\n",
       "      <td>1016.59</td>\n",
       "      <td>49.59</td>\n",
       "      <td>NaN</td>\n",
       "      <td>NaN</td>\n",
       "      <td>1.000000</td>\n",
       "      <td>1.000000</td>\n",
       "    </tr>\n",
       "    <tr>\n",
       "      <th>2000-01-05</th>\n",
       "      <td>986.31</td>\n",
       "      <td>1006.87</td>\n",
       "      <td>1026.52</td>\n",
       "      <td>984.05</td>\n",
       "      <td>42.47</td>\n",
       "      <td>49.59</td>\n",
       "      <td>1031.665</td>\n",
       "      <td>1.000000</td>\n",
       "      <td>1.000000</td>\n",
       "    </tr>\n",
       "    <tr>\n",
       "      <th>2000-01-06</th>\n",
       "      <td>960.79</td>\n",
       "      <td>1013.95</td>\n",
       "      <td>1014.90</td>\n",
       "      <td>953.50</td>\n",
       "      <td>61.40</td>\n",
       "      <td>42.47</td>\n",
       "      <td>1035.185</td>\n",
       "      <td>1.000000</td>\n",
       "      <td>1.000000</td>\n",
       "    </tr>\n",
       "    <tr>\n",
       "      <th>2000-01-07</th>\n",
       "      <td>948.65</td>\n",
       "      <td>949.17</td>\n",
       "      <td>970.16</td>\n",
       "      <td>930.84</td>\n",
       "      <td>39.32</td>\n",
       "      <td>61.40</td>\n",
       "      <td>979.870</td>\n",
       "      <td>1.000000</td>\n",
       "      <td>1.000000</td>\n",
       "    </tr>\n",
       "    <tr>\n",
       "      <th>2000-01-10</th>\n",
       "      <td>987.24</td>\n",
       "      <td>979.67</td>\n",
       "      <td>994.94</td>\n",
       "      <td>965.02</td>\n",
       "      <td>29.92</td>\n",
       "      <td>39.32</td>\n",
       "      <td>999.330</td>\n",
       "      <td>1.000000</td>\n",
       "      <td>1.000000</td>\n",
       "    </tr>\n",
       "    <tr>\n",
       "      <th>...</th>\n",
       "      <td>...</td>\n",
       "      <td>...</td>\n",
       "      <td>...</td>\n",
       "      <td>...</td>\n",
       "      <td>...</td>\n",
       "      <td>...</td>\n",
       "      <td>...</td>\n",
       "      <td>...</td>\n",
       "      <td>...</td>\n",
       "    </tr>\n",
       "    <tr>\n",
       "      <th>2021-08-23</th>\n",
       "      <td>3090.21</td>\n",
       "      <td>3086.81</td>\n",
       "      <td>3111.81</td>\n",
       "      <td>3064.65</td>\n",
       "      <td>47.16</td>\n",
       "      <td>73.06</td>\n",
       "      <td>3123.340</td>\n",
       "      <td>1.000000</td>\n",
       "      <td>5.237280</td>\n",
       "    </tr>\n",
       "    <tr>\n",
       "      <th>2021-08-24</th>\n",
       "      <td>3138.30</td>\n",
       "      <td>3119.70</td>\n",
       "      <td>3142.58</td>\n",
       "      <td>3115.23</td>\n",
       "      <td>27.35</td>\n",
       "      <td>47.16</td>\n",
       "      <td>3143.280</td>\n",
       "      <td>1.000000</td>\n",
       "      <td>5.237280</td>\n",
       "    </tr>\n",
       "    <tr>\n",
       "      <th>2021-08-25</th>\n",
       "      <td>3146.81</td>\n",
       "      <td>3148.13</td>\n",
       "      <td>3161.00</td>\n",
       "      <td>3124.25</td>\n",
       "      <td>36.75</td>\n",
       "      <td>27.35</td>\n",
       "      <td>3161.805</td>\n",
       "      <td>1.000000</td>\n",
       "      <td>5.237280</td>\n",
       "    </tr>\n",
       "    <tr>\n",
       "      <th>2021-08-26</th>\n",
       "      <td>3128.53</td>\n",
       "      <td>3151.30</td>\n",
       "      <td>3159.37</td>\n",
       "      <td>3121.04</td>\n",
       "      <td>38.33</td>\n",
       "      <td>36.75</td>\n",
       "      <td>3169.675</td>\n",
       "      <td>1.000000</td>\n",
       "      <td>5.237280</td>\n",
       "    </tr>\n",
       "    <tr>\n",
       "      <th>2021-08-27</th>\n",
       "      <td>3133.90</td>\n",
       "      <td>3116.29</td>\n",
       "      <td>3143.01</td>\n",
       "      <td>3106.97</td>\n",
       "      <td>36.04</td>\n",
       "      <td>38.33</td>\n",
       "      <td>3135.455</td>\n",
       "      <td>0.999504</td>\n",
       "      <td>5.234682</td>\n",
       "    </tr>\n",
       "  </tbody>\n",
       "</table>\n",
       "<p>5349 rows × 9 columns</p>\n",
       "</div>"
      ],
      "text/plain": [
       "              Close     Open     High      Low  change   전일변동       목표가  \\\n",
       "Date                                                                      \n",
       "2000-01-04  1059.04  1028.33  1066.18  1016.59   49.59    NaN       NaN   \n",
       "2000-01-05   986.31  1006.87  1026.52   984.05   42.47  49.59  1031.665   \n",
       "2000-01-06   960.79  1013.95  1014.90   953.50   61.40  42.47  1035.185   \n",
       "2000-01-07   948.65   949.17   970.16   930.84   39.32  61.40   979.870   \n",
       "2000-01-10   987.24   979.67   994.94   965.02   29.92  39.32   999.330   \n",
       "...             ...      ...      ...      ...     ...    ...       ...   \n",
       "2021-08-23  3090.21  3086.81  3111.81  3064.65   47.16  73.06  3123.340   \n",
       "2021-08-24  3138.30  3119.70  3142.58  3115.23   27.35  47.16  3143.280   \n",
       "2021-08-25  3146.81  3148.13  3161.00  3124.25   36.75  27.35  3161.805   \n",
       "2021-08-26  3128.53  3151.30  3159.37  3121.04   38.33  36.75  3169.675   \n",
       "2021-08-27  3133.90  3116.29  3143.01  3106.97   36.04  38.33  3135.455   \n",
       "\n",
       "                 수익율     누적수익율  \n",
       "Date                            \n",
       "2000-01-04  1.000000  1.000000  \n",
       "2000-01-05  1.000000  1.000000  \n",
       "2000-01-06  1.000000  1.000000  \n",
       "2000-01-07  1.000000  1.000000  \n",
       "2000-01-10  1.000000  1.000000  \n",
       "...              ...       ...  \n",
       "2021-08-23  1.000000  5.237280  \n",
       "2021-08-24  1.000000  5.237280  \n",
       "2021-08-25  1.000000  5.237280  \n",
       "2021-08-26  1.000000  5.237280  \n",
       "2021-08-27  0.999504  5.234682  \n",
       "\n",
       "[5349 rows x 9 columns]"
      ]
     },
     "execution_count": 46,
     "metadata": {},
     "output_type": "execute_result"
    }
   ],
   "source": [
    "df"
   ]
  },
  {
   "cell_type": "code",
   "execution_count": 47,
   "metadata": {},
   "outputs": [],
   "source": [
    "import numpy as np"
   ]
  },
  {
   "cell_type": "code",
   "execution_count": 48,
   "metadata": {},
   "outputs": [],
   "source": [
    "df['수익율2'] = np.where(df['High'] >= df['목표가'],\n",
    "                    (df['Close']-df['목표가'])/ df['목표가'] + 1,\n",
    "                    1)"
   ]
  },
  {
   "cell_type": "code",
   "execution_count": 50,
   "metadata": {},
   "outputs": [
    {
     "data": {
      "text/plain": [
       "True    5349\n",
       "dtype: int64"
      ]
     },
     "execution_count": 50,
     "metadata": {},
     "output_type": "execute_result"
    }
   ],
   "source": [
    "(df['수익율'] == df['수익율2']).value_counts()"
   ]
  },
  {
   "cell_type": "code",
   "execution_count": 51,
   "metadata": {},
   "outputs": [],
   "source": [
    "# 누적수익율\n",
    "# 누적곱 -> cumprod()\n",
    "df['누적수익율2'] = df['수익율2'].cumprod()"
   ]
  },
  {
   "cell_type": "code",
   "execution_count": 52,
   "metadata": {},
   "outputs": [
    {
     "data": {
      "text/plain": [
       "True    5349\n",
       "dtype: int64"
      ]
     },
     "execution_count": 52,
     "metadata": {},
     "output_type": "execute_result"
    }
   ],
   "source": [
    "(df['누적수익율'] == df['누적수익율2']).value_counts()"
   ]
  },
  {
   "cell_type": "code",
   "execution_count": 53,
   "metadata": {},
   "outputs": [
    {
     "data": {
      "text/plain": [
       "Timedelta('7906 days 00:00:00')"
      ]
     },
     "execution_count": 53,
     "metadata": {},
     "output_type": "execute_result"
    }
   ],
   "source": [
    "#CAGR -> 연복리수익율\n",
    "## 누적수익율 ** (1/(투자기간/365)) - 1\n",
    "# 시계열데이터를 이용하여 기간\n",
    "delta = df.index[-1] - df.index[0]\n",
    "delta"
   ]
  },
  {
   "cell_type": "code",
   "execution_count": 54,
   "metadata": {},
   "outputs": [
    {
     "data": {
      "text/plain": [
       "7906"
      ]
     },
     "execution_count": 54,
     "metadata": {},
     "output_type": "execute_result"
    }
   ],
   "source": [
    "delta.days"
   ]
  },
  {
   "cell_type": "code",
   "execution_count": 55,
   "metadata": {},
   "outputs": [
    {
     "name": "stdout",
     "output_type": "stream",
     "text": [
      "CAGR:  7.941722848934241\n"
     ]
    }
   ],
   "source": [
    "year = delta.days/365\n",
    "CAGR = df['누적수익율'].iloc[-1] ** (1/year) - 1\n",
    "print('CAGR: ', CAGR * 100)"
   ]
  },
  {
   "cell_type": "code",
   "execution_count": null,
   "metadata": {},
   "outputs": [],
   "source": []
  }
 ],
 "metadata": {
  "kernelspec": {
   "display_name": "Python 3.7.1 64-bit",
   "language": "python",
   "name": "python3"
  },
  "language_info": {
   "codemirror_mode": {
    "name": "ipython",
    "version": 3
   },
   "file_extension": ".py",
   "mimetype": "text/x-python",
   "name": "python",
   "nbconvert_exporter": "python",
   "pygments_lexer": "ipython3",
   "version": "3.7.1"
  },
  "orig_nbformat": 4,
  "vscode": {
   "interpreter": {
    "hash": "31f8360559af503f7d1219287c80e0cc362e8a430fe9b8335f384415946613ec"
   }
  }
 },
 "nbformat": 4,
 "nbformat_minor": 2
}
