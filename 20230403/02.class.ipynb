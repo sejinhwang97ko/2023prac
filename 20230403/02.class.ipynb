{
 "cells": [
  {
   "cell_type": "code",
   "execution_count": 1,
   "metadata": {},
   "outputs": [],
   "source": [
    "# 클래스를 선언\n",
    "class Class_1():\n",
    "    def __init__(self, input_a, input_b):\n",
    "        self.a = input_a\n",
    "        self.b = input_b\n"
   ]
  },
  {
   "cell_type": "code",
   "execution_count": 2,
   "metadata": {},
   "outputs": [],
   "source": [
    "# 클래스 생성\n",
    "test_class = Class_1(\"test\", \"10\") "
   ]
  },
  {
   "cell_type": "code",
   "execution_count": 3,
   "metadata": {},
   "outputs": [
    {
     "name": "stdout",
     "output_type": "stream",
     "text": [
      "test\n"
     ]
    }
   ],
   "source": [
    "print(test_class.a)"
   ]
  },
  {
   "cell_type": "code",
   "execution_count": 5,
   "metadata": {},
   "outputs": [],
   "source": [
    "# 클래스 생성\n",
    "test_class2 = Class_1(\"ubion\", \"python\") "
   ]
  },
  {
   "cell_type": "code",
   "execution_count": 6,
   "metadata": {},
   "outputs": [
    {
     "name": "stdout",
     "output_type": "stream",
     "text": [
      "ubion\n"
     ]
    }
   ],
   "source": [
    "print(test_class2.a)"
   ]
  },
  {
   "cell_type": "code",
   "execution_count": 7,
   "metadata": {},
   "outputs": [
    {
     "name": "stdout",
     "output_type": "stream",
     "text": [
      "test\n"
     ]
    }
   ],
   "source": [
    "print(test_class.a)"
   ]
  },
  {
   "cell_type": "code",
   "execution_count": 22,
   "metadata": {},
   "outputs": [],
   "source": [
    "# 클래스를 선언\n",
    "class Cafe():\n",
    "    # 클래스 변수(지역변수인데 좀 광범위한 변수. 서로 공유할 수 있는 변수)\n",
    "    menu = {\n",
    "        \"아메리카노\" : {\"물\", \"에스프레소\"},\n",
    "        \"바닐라라떼\": {\"우유\", \"에스프레소\", \"바닐라시럽\"},\n",
    "        \"카페모카\" : {\"우유\", \"에스프레소\", \"초코시럽\", \"휘핑크림\"}\n",
    "    }\n",
    "\n",
    "     # 생성자 함수\n",
    "    def __init__(self, input_name):\n",
    "        self.name = input_name\n",
    "\n",
    "\n",
    "    # 음료 제작 과정 함수 생성\n",
    "    def made_coffee(self, input_bean, input_select, input_ice):\n",
    "        self.bean = input_bean\n",
    "        self.select = input_select\n",
    "        self.ice = input_ice\n",
    "        # 선택한 메뉴의 재료를 추출\n",
    "        self.data = self.menu[self.select]\n",
    "        return (self.bean, self.ice, self.data)\n",
    "\n",
    "    # 메뉴를 추가하는 함수\n",
    "    def add_menu(self, input_menu_name, input_data):\n",
    "        #딕셔너리 데이터에 새로운 키: 벨류 값 추가\n",
    "        self.menu[input_menu_name] = input_data\n",
    "\n"
   ]
  },
  {
   "cell_type": "code",
   "execution_count": 23,
   "metadata": {},
   "outputs": [],
   "source": [
    "cafe1 = Cafe(\"빽다방\")"
   ]
  },
  {
   "cell_type": "code",
   "execution_count": 24,
   "metadata": {},
   "outputs": [],
   "source": [
    "cafe2 = Cafe(\"별다방\")"
   ]
  },
  {
   "cell_type": "code",
   "execution_count": 25,
   "metadata": {},
   "outputs": [
    {
     "name": "stdout",
     "output_type": "stream",
     "text": [
      "빽다방\n",
      "별다방\n"
     ]
    }
   ],
   "source": [
    "print(cafe1.name)\n",
    "print(cafe2.name)"
   ]
  },
  {
   "cell_type": "code",
   "execution_count": 26,
   "metadata": {},
   "outputs": [
    {
     "name": "stdout",
     "output_type": "stream",
     "text": [
      "('에디오피아', True, {'물', '에스프레소'})\n",
      "('케냐', False, {'초코시럽', '우유', '휘핑크림', '에스프레소'})\n"
     ]
    }
   ],
   "source": [
    "print(cafe2.made_coffee(\"에디오피아\", \"아메리카노\", True))\n",
    "print(cafe2.made_coffee(\"케냐\", \"카페모카\", False))"
   ]
  },
  {
   "cell_type": "code",
   "execution_count": 27,
   "metadata": {},
   "outputs": [],
   "source": [
    "# class 안에 있는 add_menu 함수를 호출\n",
    "cafe1.add_menu(\"말차라떼\", [\"말차파우더\", '우유'])\n",
    "cafe2.add_menu(\"돌체라떼\", [\"연유\", \"우유\", \"에스프레소\"])\n",
    "#이렇게 하면 공동으로 가게 됨"
   ]
  },
  {
   "cell_type": "code",
   "execution_count": 28,
   "metadata": {},
   "outputs": [
    {
     "name": "stdout",
     "output_type": "stream",
     "text": [
      "{'아메리카노': {'물', '에스프레소'}, '바닐라라떼': {'바닐라시럽', '우유', '에스프레소'}, '카페모카': {'초코시럽', '우유', '휘핑크림', '에스프레소'}, '말차라떼': ['말차파우더', '우유'], '돌체라떼': ['연유', '우유', '에스프레소']}\n",
      "{'아메리카노': {'물', '에스프레소'}, '바닐라라떼': {'바닐라시럽', '우유', '에스프레소'}, '카페모카': {'초코시럽', '우유', '휘핑크림', '에스프레소'}, '말차라떼': ['말차파우더', '우유'], '돌체라떼': ['연유', '우유', '에스프레소']}\n"
     ]
    }
   ],
   "source": [
    "print(cafe1.menu)\n",
    "print(cafe2.menu)\n"
   ]
  },
  {
   "cell_type": "code",
   "execution_count": 33,
   "metadata": {},
   "outputs": [],
   "source": [
    "# 클래스를 선언\n",
    "class Cafe():\n",
    "    # 클래스 변수(지역변수인데 좀 광범위한 변수. 서로 공유할 수 있는 변수)\n",
    "\n",
    "     # 생성자 함수\n",
    "    def __init__(self, input_name):\n",
    "        self.name = input_name\n",
    "        self.menu = {\n",
    "        \"아메리카노\" : {\"물\", \"에스프레소\"},\n",
    "        \"바닐라라떼\": {\"우유\", \"에스프레소\", \"바닐라시럽\"},\n",
    "        \"카페모카\" : {\"우유\", \"에스프레소\", \"초코시럽\", \"휘핑크림\"}\n",
    "        }\n",
    "\n",
    "\n",
    "    # 음료 제작 과정 함수 생성\n",
    "    def made_coffee(self, input_bean, input_select, input_ice):\n",
    "        self.bean = input_bean\n",
    "        self.select = input_select\n",
    "        self.ice = input_ice\n",
    "        # 선택한 메뉴의 재료를 추출\n",
    "        self.data = self.menu[self.select]\n",
    "        return (self.bean, self.ice, self.data)\n",
    "\n",
    "    # 메뉴를 추가하는 함수\n",
    "    def add_menu(self, input_menu_name, input_data):\n",
    "        #딕셔너리 데이터에 새로운 키: 벨류 값 추가\n",
    "        self.menu[input_menu_name] = input_data\n",
    "\n"
   ]
  },
  {
   "cell_type": "code",
   "execution_count": 34,
   "metadata": {},
   "outputs": [],
   "source": [
    "cafe1 = Cafe(\"빽다방\")\n",
    "cafe2 = Cafe(\"별다방\")"
   ]
  },
  {
   "cell_type": "code",
   "execution_count": 35,
   "metadata": {},
   "outputs": [],
   "source": [
    "# class 안에 있는 add_menu 함수를 호출\n",
    "cafe1.add_menu(\"말차라떼\", [\"말차파우더\", '우유'])\n",
    "cafe2.add_menu(\"돌체라떼\", [\"연유\", \"우유\", \"에스프레소\"])\n",
    "#이렇게 하면 공동으로 가게 됨"
   ]
  },
  {
   "cell_type": "code",
   "execution_count": 36,
   "metadata": {},
   "outputs": [
    {
     "name": "stdout",
     "output_type": "stream",
     "text": [
      "{'아메리카노': {'물', '에스프레소'}, '바닐라라떼': {'바닐라시럽', '우유', '에스프레소'}, '카페모카': {'초코시럽', '우유', '휘핑크림', '에스프레소'}, '말차라떼': ['말차파우더', '우유']}\n",
      "{'아메리카노': {'물', '에스프레소'}, '바닐라라떼': {'바닐라시럽', '우유', '에스프레소'}, '카페모카': {'초코시럽', '우유', '휘핑크림', '에스프레소'}, '돌체라떼': ['연유', '우유', '에스프레소']}\n"
     ]
    }
   ],
   "source": [
    "print(cafe1.menu)\n",
    "print(cafe2.menu)"
   ]
  },
  {
   "cell_type": "code",
   "execution_count": null,
   "metadata": {},
   "outputs": [],
   "source": []
  }
 ],
 "metadata": {
  "kernelspec": {
   "display_name": "Python 3.7.1 64-bit",
   "language": "python",
   "name": "python3"
  },
  "language_info": {
   "codemirror_mode": {
    "name": "ipython",
    "version": 3
   },
   "file_extension": ".py",
   "mimetype": "text/x-python",
   "name": "python",
   "nbconvert_exporter": "python",
   "pygments_lexer": "ipython3",
   "version": "3.7.1"
  },
  "orig_nbformat": 4,
  "vscode": {
   "interpreter": {
    "hash": "31f8360559af503f7d1219287c80e0cc362e8a430fe9b8335f384415946613ec"
   }
  }
 },
 "nbformat": 4,
 "nbformat_minor": 2
}
