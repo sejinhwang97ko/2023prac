{
 "cells": [
  {
   "cell_type": "markdown",
   "metadata": {},
   "source": [
    "# 문제\n",
    "1. corona.csv 파일 로드\n",
    "2. Unnamed: 0 컬럼을 삭제\n",
    "3. 컬럼을 첫번째부터 세번째까지 컬럼만 두고 전부 삭제\n",
    "4. 컬럼의 이름 변경 ['등록일시', '누적사망자','누적확진자']\n",
    "5. 등록일시를 기준으로 오름차순 정렬\n",
    "6. 일일확진자와 일일사망자 파생변수 생성(결측치는 0으로 대체)\n",
    "7. 일일확진자가 음수인 값을 삭제\n",
    "7. 등록일시를 시계열로 변경하고 인덱스로 변경\n",
    "8. 요일이라는 파생변수를 만들어서 요일 대입\n",
    "9. 요일 컬럼 0-> 월, 1->화, ... 6->일 로 변경\n",
    "10. 요일별 일일 확진자의 평균을 바 그래프로 표시\n",
    "11. 요일별 일일 사망자의 평균을 바 그래프로 표시"
   ]
  },
  {
   "cell_type": "code",
   "execution_count": 99,
   "metadata": {},
   "outputs": [],
   "source": [
    "import pandas as pd"
   ]
  },
  {
   "cell_type": "code",
   "execution_count": 100,
   "metadata": {},
   "outputs": [
    {
     "data": {
      "text/html": [
       "<div>\n",
       "<style scoped>\n",
       "    .dataframe tbody tr th:only-of-type {\n",
       "        vertical-align: middle;\n",
       "    }\n",
       "\n",
       "    .dataframe tbody tr th {\n",
       "        vertical-align: top;\n",
       "    }\n",
       "\n",
       "    .dataframe thead th {\n",
       "        text-align: right;\n",
       "    }\n",
       "</style>\n",
       "<table border=\"1\" class=\"dataframe\">\n",
       "  <thead>\n",
       "    <tr style=\"text-align: right;\">\n",
       "      <th></th>\n",
       "      <th>Unnamed: 0</th>\n",
       "      <th>createDt</th>\n",
       "      <th>deathCnt</th>\n",
       "      <th>decideCnt</th>\n",
       "      <th>seq</th>\n",
       "      <th>stateDt</th>\n",
       "      <th>stateTime</th>\n",
       "      <th>updateDt</th>\n",
       "      <th>accExamCnt</th>\n",
       "      <th>accDefRate</th>\n",
       "    </tr>\n",
       "  </thead>\n",
       "  <tbody>\n",
       "    <tr>\n",
       "      <th>0</th>\n",
       "      <td>0</td>\n",
       "      <td>2023-04-07 00:16:52.0</td>\n",
       "      <td>34318</td>\n",
       "      <td>30894559</td>\n",
       "      <td>1218</td>\n",
       "      <td>20230407</td>\n",
       "      <td>00:00</td>\n",
       "      <td>NaN</td>\n",
       "      <td>NaN</td>\n",
       "      <td>NaN</td>\n",
       "    </tr>\n",
       "  </tbody>\n",
       "</table>\n",
       "</div>"
      ],
      "text/plain": [
       "   Unnamed: 0               createDt  deathCnt  decideCnt   seq   stateDt  \\\n",
       "0           0  2023-04-07 00:16:52.0     34318   30894559  1218  20230407   \n",
       "\n",
       "  stateTime updateDt  accExamCnt  accDefRate  \n",
       "0     00:00      NaN         NaN         NaN  "
      ]
     },
     "execution_count": 100,
     "metadata": {},
     "output_type": "execute_result"
    }
   ],
   "source": [
    "corona = pd.read_csv(\"../corona.csv\")\n",
    "corona.head(1)"
   ]
  },
  {
   "cell_type": "code",
   "execution_count": 101,
   "metadata": {},
   "outputs": [],
   "source": [
    "corona = corona.drop(\"Unnamed: 0\", axis=1)"
   ]
  },
  {
   "cell_type": "code",
   "execution_count": 102,
   "metadata": {},
   "outputs": [],
   "source": [
    "corona_1 = corona.iloc[:,:3]"
   ]
  },
  {
   "cell_type": "code",
   "execution_count": 103,
   "metadata": {},
   "outputs": [],
   "source": [
    "corona_1.columns = ['등록일시', '누적사망자','누적확진자']"
   ]
  },
  {
   "cell_type": "code",
   "execution_count": 104,
   "metadata": {},
   "outputs": [
    {
     "data": {
      "text/html": [
       "<div>\n",
       "<style scoped>\n",
       "    .dataframe tbody tr th:only-of-type {\n",
       "        vertical-align: middle;\n",
       "    }\n",
       "\n",
       "    .dataframe tbody tr th {\n",
       "        vertical-align: top;\n",
       "    }\n",
       "\n",
       "    .dataframe thead th {\n",
       "        text-align: right;\n",
       "    }\n",
       "</style>\n",
       "<table border=\"1\" class=\"dataframe\">\n",
       "  <thead>\n",
       "    <tr style=\"text-align: right;\">\n",
       "      <th></th>\n",
       "      <th>등록일시</th>\n",
       "      <th>누적사망자</th>\n",
       "      <th>누적확진자</th>\n",
       "    </tr>\n",
       "  </thead>\n",
       "  <tbody>\n",
       "    <tr>\n",
       "      <th>1161</th>\n",
       "      <td>2020-01-20 17:00:00.000</td>\n",
       "      <td>0</td>\n",
       "      <td>1</td>\n",
       "    </tr>\n",
       "    <tr>\n",
       "      <th>1160</th>\n",
       "      <td>2020-01-21 09:00:00.000</td>\n",
       "      <td>0</td>\n",
       "      <td>1</td>\n",
       "    </tr>\n",
       "    <tr>\n",
       "      <th>1159</th>\n",
       "      <td>2020-01-22 12:00:00.000</td>\n",
       "      <td>0</td>\n",
       "      <td>1</td>\n",
       "    </tr>\n",
       "    <tr>\n",
       "      <th>1158</th>\n",
       "      <td>2020-01-23 09:00:00.000</td>\n",
       "      <td>0</td>\n",
       "      <td>1</td>\n",
       "    </tr>\n",
       "    <tr>\n",
       "      <th>1157</th>\n",
       "      <td>2020-01-24 00:00:00.000</td>\n",
       "      <td>0</td>\n",
       "      <td>2</td>\n",
       "    </tr>\n",
       "    <tr>\n",
       "      <th>...</th>\n",
       "      <td>...</td>\n",
       "      <td>...</td>\n",
       "      <td>...</td>\n",
       "    </tr>\n",
       "    <tr>\n",
       "      <th>4</th>\n",
       "      <td>2023-04-02 22:59:44.0</td>\n",
       "      <td>34274</td>\n",
       "      <td>30839551</td>\n",
       "    </tr>\n",
       "    <tr>\n",
       "      <th>3</th>\n",
       "      <td>2023-04-03 00:00:13.0</td>\n",
       "      <td>34281</td>\n",
       "      <td>30843900</td>\n",
       "    </tr>\n",
       "    <tr>\n",
       "      <th>2</th>\n",
       "      <td>2023-04-04 05:10:20.0</td>\n",
       "      <td>34289</td>\n",
       "      <td>30857275</td>\n",
       "    </tr>\n",
       "    <tr>\n",
       "      <th>1</th>\n",
       "      <td>2023-04-05 02:12:00.0</td>\n",
       "      <td>34296</td>\n",
       "      <td>30871740</td>\n",
       "    </tr>\n",
       "    <tr>\n",
       "      <th>0</th>\n",
       "      <td>2023-04-07 00:16:52.0</td>\n",
       "      <td>34318</td>\n",
       "      <td>30894559</td>\n",
       "    </tr>\n",
       "  </tbody>\n",
       "</table>\n",
       "<p>1162 rows × 3 columns</p>\n",
       "</div>"
      ],
      "text/plain": [
       "                         등록일시  누적사망자     누적확진자\n",
       "1161  2020-01-20 17:00:00.000      0         1\n",
       "1160  2020-01-21 09:00:00.000      0         1\n",
       "1159  2020-01-22 12:00:00.000      0         1\n",
       "1158  2020-01-23 09:00:00.000      0         1\n",
       "1157  2020-01-24 00:00:00.000      0         2\n",
       "...                       ...    ...       ...\n",
       "4       2023-04-02 22:59:44.0  34274  30839551\n",
       "3       2023-04-03 00:00:13.0  34281  30843900\n",
       "2       2023-04-04 05:10:20.0  34289  30857275\n",
       "1       2023-04-05 02:12:00.0  34296  30871740\n",
       "0       2023-04-07 00:16:52.0  34318  30894559\n",
       "\n",
       "[1162 rows x 3 columns]"
      ]
     },
     "execution_count": 104,
     "metadata": {},
     "output_type": "execute_result"
    }
   ],
   "source": [
    "corona_1 = corona_1.sort_values('등록일시')\n",
    "corona_1"
   ]
  },
  {
   "cell_type": "code",
   "execution_count": 105,
   "metadata": {},
   "outputs": [],
   "source": [
    "corona_1['일일사망자'] = corona_1['누적사망자'].diff(1)\n",
    "corona_1['일일확진자'] = corona_1['누적확진자'].diff(1)"
   ]
  },
  {
   "cell_type": "code",
   "execution_count": 106,
   "metadata": {},
   "outputs": [
    {
     "data": {
      "text/plain": [
       "1"
      ]
     },
     "execution_count": 106,
     "metadata": {},
     "output_type": "execute_result"
    }
   ],
   "source": [
    "corona_1['일일사망자'].isnull().sum()"
   ]
  },
  {
   "cell_type": "code",
   "execution_count": 107,
   "metadata": {},
   "outputs": [],
   "source": [
    "corona_1['일일사망자'].fillna(0, inplace=True)"
   ]
  },
  {
   "cell_type": "code",
   "execution_count": 108,
   "metadata": {},
   "outputs": [
    {
     "data": {
      "text/plain": [
       "0"
      ]
     },
     "execution_count": 108,
     "metadata": {},
     "output_type": "execute_result"
    }
   ],
   "source": [
    "corona_1['일일사망자'].isnull().sum()"
   ]
  },
  {
   "cell_type": "code",
   "execution_count": 109,
   "metadata": {},
   "outputs": [
    {
     "data": {
      "text/plain": [
       "1"
      ]
     },
     "execution_count": 109,
     "metadata": {},
     "output_type": "execute_result"
    }
   ],
   "source": [
    "corona_1['일일확진자'].isnull().sum()"
   ]
  },
  {
   "cell_type": "code",
   "execution_count": 110,
   "metadata": {},
   "outputs": [],
   "source": [
    "corona_1['일일확진자'].fillna(0, inplace=True)"
   ]
  },
  {
   "cell_type": "code",
   "execution_count": 111,
   "metadata": {},
   "outputs": [
    {
     "data": {
      "text/plain": [
       "0.0        16\n",
       "34.0        7\n",
       "39.0        7\n",
       "61.0        6\n",
       "1.0         6\n",
       "           ..\n",
       "1837.0      1\n",
       "1791.0      1\n",
       "1619.0      1\n",
       "1485.0      1\n",
       "22819.0     1\n",
       "Name: 일일확진자, Length: 968, dtype: int64"
      ]
     },
     "execution_count": 111,
     "metadata": {},
     "output_type": "execute_result"
    }
   ],
   "source": [
    "corona_1['일일확진자'].value_counts()"
   ]
  },
  {
   "cell_type": "code",
   "execution_count": 112,
   "metadata": {},
   "outputs": [
    {
     "data": {
      "text/html": [
       "<div>\n",
       "<style scoped>\n",
       "    .dataframe tbody tr th:only-of-type {\n",
       "        vertical-align: middle;\n",
       "    }\n",
       "\n",
       "    .dataframe tbody tr th {\n",
       "        vertical-align: top;\n",
       "    }\n",
       "\n",
       "    .dataframe thead th {\n",
       "        text-align: right;\n",
       "    }\n",
       "</style>\n",
       "<table border=\"1\" class=\"dataframe\">\n",
       "  <thead>\n",
       "    <tr style=\"text-align: right;\">\n",
       "      <th></th>\n",
       "      <th>등록일시</th>\n",
       "      <th>누적사망자</th>\n",
       "      <th>누적확진자</th>\n",
       "      <th>일일사망자</th>\n",
       "      <th>일일확진자</th>\n",
       "    </tr>\n",
       "  </thead>\n",
       "  <tbody>\n",
       "    <tr>\n",
       "      <th>666</th>\n",
       "      <td>2021-05-30 00:00:00.000</td>\n",
       "      <td>1957</td>\n",
       "      <td>139907</td>\n",
       "      <td>-2.0</td>\n",
       "      <td>-430.0</td>\n",
       "    </tr>\n",
       "  </tbody>\n",
       "</table>\n",
       "</div>"
      ],
      "text/plain": [
       "                        등록일시  누적사망자   누적확진자  일일사망자  일일확진자\n",
       "666  2021-05-30 00:00:00.000   1957  139907   -2.0 -430.0"
      ]
     },
     "execution_count": 112,
     "metadata": {},
     "output_type": "execute_result"
    }
   ],
   "source": [
    "corona_1.loc[corona_1['일일확진자'] < 0]"
   ]
  },
  {
   "cell_type": "code",
   "execution_count": 113,
   "metadata": {},
   "outputs": [],
   "source": [
    "corona_2 = corona_1.loc[~(corona_1['일일확진자'] < 0)]"
   ]
  },
  {
   "cell_type": "code",
   "execution_count": 114,
   "metadata": {},
   "outputs": [
    {
     "name": "stderr",
     "output_type": "stream",
     "text": [
      "c:\\Python 3.7.1\\lib\\site-packages\\ipykernel_launcher.py:1: SettingWithCopyWarning: \n",
      "A value is trying to be set on a copy of a slice from a DataFrame.\n",
      "Try using .loc[row_indexer,col_indexer] = value instead\n",
      "\n",
      "See the caveats in the documentation: https://pandas.pydata.org/pandas-docs/stable/user_guide/indexing.html#returning-a-view-versus-a-copy\n",
      "  \"\"\"Entry point for launching an IPython kernel.\n"
     ]
    }
   ],
   "source": [
    "corona_2['등록일시'] = pd.to_datetime(corona_2['등록일시'])"
   ]
  },
  {
   "cell_type": "code",
   "execution_count": 115,
   "metadata": {},
   "outputs": [],
   "source": [
    "corona_2.set_index('등록일시', inplace=True)"
   ]
  },
  {
   "cell_type": "code",
   "execution_count": 116,
   "metadata": {},
   "outputs": [
    {
     "data": {
      "text/html": [
       "<div>\n",
       "<style scoped>\n",
       "    .dataframe tbody tr th:only-of-type {\n",
       "        vertical-align: middle;\n",
       "    }\n",
       "\n",
       "    .dataframe tbody tr th {\n",
       "        vertical-align: top;\n",
       "    }\n",
       "\n",
       "    .dataframe thead th {\n",
       "        text-align: right;\n",
       "    }\n",
       "</style>\n",
       "<table border=\"1\" class=\"dataframe\">\n",
       "  <thead>\n",
       "    <tr style=\"text-align: right;\">\n",
       "      <th></th>\n",
       "      <th>누적사망자</th>\n",
       "      <th>누적확진자</th>\n",
       "      <th>일일사망자</th>\n",
       "      <th>일일확진자</th>\n",
       "    </tr>\n",
       "    <tr>\n",
       "      <th>등록일시</th>\n",
       "      <th></th>\n",
       "      <th></th>\n",
       "      <th></th>\n",
       "      <th></th>\n",
       "    </tr>\n",
       "  </thead>\n",
       "  <tbody>\n",
       "    <tr>\n",
       "      <th>2020-01-20 17:00:00</th>\n",
       "      <td>0</td>\n",
       "      <td>1</td>\n",
       "      <td>0.0</td>\n",
       "      <td>0.0</td>\n",
       "    </tr>\n",
       "    <tr>\n",
       "      <th>2020-01-21 09:00:00</th>\n",
       "      <td>0</td>\n",
       "      <td>1</td>\n",
       "      <td>0.0</td>\n",
       "      <td>0.0</td>\n",
       "    </tr>\n",
       "    <tr>\n",
       "      <th>2020-01-22 12:00:00</th>\n",
       "      <td>0</td>\n",
       "      <td>1</td>\n",
       "      <td>0.0</td>\n",
       "      <td>0.0</td>\n",
       "    </tr>\n",
       "    <tr>\n",
       "      <th>2020-01-23 09:00:00</th>\n",
       "      <td>0</td>\n",
       "      <td>1</td>\n",
       "      <td>0.0</td>\n",
       "      <td>0.0</td>\n",
       "    </tr>\n",
       "    <tr>\n",
       "      <th>2020-01-24 00:00:00</th>\n",
       "      <td>0</td>\n",
       "      <td>2</td>\n",
       "      <td>0.0</td>\n",
       "      <td>1.0</td>\n",
       "    </tr>\n",
       "    <tr>\n",
       "      <th>...</th>\n",
       "      <td>...</td>\n",
       "      <td>...</td>\n",
       "      <td>...</td>\n",
       "      <td>...</td>\n",
       "    </tr>\n",
       "    <tr>\n",
       "      <th>2023-04-02 22:59:44</th>\n",
       "      <td>34274</td>\n",
       "      <td>30839551</td>\n",
       "      <td>4.0</td>\n",
       "      <td>9724.0</td>\n",
       "    </tr>\n",
       "    <tr>\n",
       "      <th>2023-04-03 00:00:13</th>\n",
       "      <td>34281</td>\n",
       "      <td>30843900</td>\n",
       "      <td>7.0</td>\n",
       "      <td>4349.0</td>\n",
       "    </tr>\n",
       "    <tr>\n",
       "      <th>2023-04-04 05:10:20</th>\n",
       "      <td>34289</td>\n",
       "      <td>30857275</td>\n",
       "      <td>8.0</td>\n",
       "      <td>13375.0</td>\n",
       "    </tr>\n",
       "    <tr>\n",
       "      <th>2023-04-05 02:12:00</th>\n",
       "      <td>34296</td>\n",
       "      <td>30871740</td>\n",
       "      <td>7.0</td>\n",
       "      <td>14465.0</td>\n",
       "    </tr>\n",
       "    <tr>\n",
       "      <th>2023-04-07 00:16:52</th>\n",
       "      <td>34318</td>\n",
       "      <td>30894559</td>\n",
       "      <td>22.0</td>\n",
       "      <td>22819.0</td>\n",
       "    </tr>\n",
       "  </tbody>\n",
       "</table>\n",
       "<p>1161 rows × 4 columns</p>\n",
       "</div>"
      ],
      "text/plain": [
       "                     누적사망자     누적확진자  일일사망자    일일확진자\n",
       "등록일시                                                \n",
       "2020-01-20 17:00:00      0         1    0.0      0.0\n",
       "2020-01-21 09:00:00      0         1    0.0      0.0\n",
       "2020-01-22 12:00:00      0         1    0.0      0.0\n",
       "2020-01-23 09:00:00      0         1    0.0      0.0\n",
       "2020-01-24 00:00:00      0         2    0.0      1.0\n",
       "...                    ...       ...    ...      ...\n",
       "2023-04-02 22:59:44  34274  30839551    4.0   9724.0\n",
       "2023-04-03 00:00:13  34281  30843900    7.0   4349.0\n",
       "2023-04-04 05:10:20  34289  30857275    8.0  13375.0\n",
       "2023-04-05 02:12:00  34296  30871740    7.0  14465.0\n",
       "2023-04-07 00:16:52  34318  30894559   22.0  22819.0\n",
       "\n",
       "[1161 rows x 4 columns]"
      ]
     },
     "execution_count": 116,
     "metadata": {},
     "output_type": "execute_result"
    }
   ],
   "source": [
    "corona_2"
   ]
  },
  {
   "cell_type": "code",
   "execution_count": 117,
   "metadata": {},
   "outputs": [
    {
     "data": {
      "text/plain": [
       "DatetimeIndex(['2020-01-20 17:00:00', '2020-01-21 09:00:00',\n",
       "               '2020-01-22 12:00:00', '2020-01-23 09:00:00',\n",
       "               '2020-01-24 00:00:00', '2020-01-25 00:00:00',\n",
       "               '2020-01-26 09:00:00', '2020-01-27 10:00:00',\n",
       "               '2020-01-28 00:00:00', '2020-01-29 00:00:00',\n",
       "               ...\n",
       "               '2023-03-28 02:58:50', '2023-03-29 00:43:53',\n",
       "               '2023-03-30 00:35:56', '2023-03-31 02:03:57',\n",
       "               '2023-04-01 00:03:42', '2023-04-02 22:59:44',\n",
       "               '2023-04-03 00:00:13', '2023-04-04 05:10:20',\n",
       "               '2023-04-05 02:12:00', '2023-04-07 00:16:52'],\n",
       "              dtype='datetime64[ns]', name='등록일시', length=1161, freq=None)"
      ]
     },
     "execution_count": 117,
     "metadata": {},
     "output_type": "execute_result"
    }
   ],
   "source": [
    "corona_2.index"
   ]
  },
  {
   "cell_type": "code",
   "execution_count": 118,
   "metadata": {},
   "outputs": [
    {
     "data": {
      "text/plain": [
       "0"
      ]
     },
     "execution_count": 118,
     "metadata": {},
     "output_type": "execute_result"
    }
   ],
   "source": [
    "corona_2.index[0].weekday()"
   ]
  },
  {
   "cell_type": "code",
   "execution_count": 119,
   "metadata": {},
   "outputs": [
    {
     "name": "stderr",
     "output_type": "stream",
     "text": [
      "c:\\Python 3.7.1\\lib\\site-packages\\pandas\\core\\indexing.py:1684: SettingWithCopyWarning: \n",
      "A value is trying to be set on a copy of a slice from a DataFrame.\n",
      "Try using .loc[row_indexer,col_indexer] = value instead\n",
      "\n",
      "See the caveats in the documentation: https://pandas.pydata.org/pandas-docs/stable/user_guide/indexing.html#returning-a-view-versus-a-copy\n",
      "  self.obj[key] = infer_fill_value(value)\n",
      "c:\\Python 3.7.1\\lib\\site-packages\\pandas\\core\\indexing.py:1817: SettingWithCopyWarning: \n",
      "A value is trying to be set on a copy of a slice from a DataFrame.\n",
      "Try using .loc[row_indexer,col_indexer] = value instead\n",
      "\n",
      "See the caveats in the documentation: https://pandas.pydata.org/pandas-docs/stable/user_guide/indexing.html#returning-a-view-versus-a-copy\n",
      "  self._setitem_single_column(loc, value, pi)\n"
     ]
    }
   ],
   "source": [
    "for i in corona_2.index:\n",
    "    corona_2.loc[i,'요일'] = i.weekday()"
   ]
  },
  {
   "cell_type": "code",
   "execution_count": 120,
   "metadata": {},
   "outputs": [
    {
     "data": {
      "text/plain": [
       "1.0    168\n",
       "4.0    168\n",
       "2.0    167\n",
       "0.0    166\n",
       "5.0    166\n",
       "3.0    163\n",
       "6.0    163\n",
       "Name: 요일, dtype: int64"
      ]
     },
     "execution_count": 120,
     "metadata": {},
     "output_type": "execute_result"
    }
   ],
   "source": [
    "corona_2['요일'].value_counts()"
   ]
  },
  {
   "cell_type": "code",
   "execution_count": 121,
   "metadata": {},
   "outputs": [
    {
     "name": "stderr",
     "output_type": "stream",
     "text": [
      "c:\\Python 3.7.1\\lib\\site-packages\\ipykernel_launcher.py:8: SettingWithCopyWarning: \n",
      "A value is trying to be set on a copy of a slice from a DataFrame.\n",
      "Try using .loc[row_indexer,col_indexer] = value instead\n",
      "\n",
      "See the caveats in the documentation: https://pandas.pydata.org/pandas-docs/stable/user_guide/indexing.html#returning-a-view-versus-a-copy\n",
      "  \n"
     ]
    }
   ],
   "source": [
    "corona_2['요일'] = corona_2['요일'].replace({\n",
    "    0:'월',\n",
    "    1:'화',\n",
    "    2:'수',\n",
    "    3:'목',\n",
    "    4:'금',\n",
    "    5:'토',\n",
    "    6:'일'\n",
    "})\n"
   ]
  },
  {
   "cell_type": "code",
   "execution_count": 122,
   "metadata": {},
   "outputs": [
    {
     "data": {
      "text/plain": [
       "화    168\n",
       "금    168\n",
       "수    167\n",
       "월    166\n",
       "토    166\n",
       "목    163\n",
       "일    163\n",
       "Name: 요일, dtype: int64"
      ]
     },
     "execution_count": 122,
     "metadata": {},
     "output_type": "execute_result"
    }
   ],
   "source": [
    "corona_2['요일'].value_counts()"
   ]
  },
  {
   "cell_type": "code",
   "execution_count": 74,
   "metadata": {},
   "outputs": [],
   "source": [
    "import platform\n",
    "import matplotlib.pyplot as plt\n",
    "if platform.system() ==\"Darwin\": # MAC 인 경우\n",
    "    plt.rc('font, family = AppleGothic')\n",
    "else:\n",
    "    plt.rc('font', family='Malgun Gothic')\n"
   ]
  },
  {
   "cell_type": "code",
   "execution_count": 75,
   "metadata": {},
   "outputs": [
    {
     "data": {
      "text/plain": [
       "<AxesSubplot:xlabel='요일'>"
      ]
     },
     "execution_count": 75,
     "metadata": {},
     "output_type": "execute_result"
    },
    {
     "data": {
      "image/png": "[encoded data removed]",
      "text/plain": [
       "<Figure size 640x480 with 1 Axes>"
      ]
     },
     "metadata": {},
     "output_type": "display_data"
    }
   ],
   "source": [
    "corona_2.groupby(['요일']).mean()['일일확진자'].plot.bar()"
   ]
  },
  {
   "cell_type": "code",
   "execution_count": 76,
   "metadata": {},
   "outputs": [
    {
     "data": {
      "text/plain": [
       "<AxesSubplot:xlabel='요일'>"
      ]
     },
     "execution_count": 76,
     "metadata": {},
     "output_type": "execute_result"
    },
    {
     "data": {
      "image/png": "[encoded data removed]",
      "text/plain": [
       "<Figure size 640x480 with 1 Axes>"
      ]
     },
     "metadata": {},
     "output_type": "display_data"
    }
   ],
   "source": [
    "corona_2.groupby(['요일']).mean()['일일사망자'].plot.bar()"
   ]
  },
  {
   "cell_type": "code",
   "execution_count": null,
   "metadata": {},
   "outputs": [],
   "source": []
  }
 ],
 "metadata": {
  "kernelspec": {
   "display_name": "Python 3.7.1 64-bit",
   "language": "python",
   "name": "python3"
  },
  "language_info": {
   "codemirror_mode": {
    "name": "ipython",
    "version": 3
   },
   "file_extension": ".py",
   "mimetype": "text/x-python",
   "name": "python",
   "nbconvert_exporter": "python",
   "pygments_lexer": "ipython3",
   "version": "3.7.1"
  },
  "orig_nbformat": 4,
  "vscode": {
   "interpreter": {
    "hash": "31f8360559af503f7d1219287c80e0cc362e8a430fe9b8335f384415946613ec"
   }
  }
 },
 "nbformat": 4,
 "nbformat_minor": 2
}
